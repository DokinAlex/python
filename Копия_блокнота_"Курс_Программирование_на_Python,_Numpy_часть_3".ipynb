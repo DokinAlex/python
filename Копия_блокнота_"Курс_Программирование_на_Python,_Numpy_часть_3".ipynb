{
  "nbformat": 4,
  "nbformat_minor": 0,
  "metadata": {
    "colab": {
      "provenance": [],
      "collapsed_sections": [
        "qvkZ6q8hIlXG",
        "nz7IwvIEAyP-",
        "PsG9nuWrAsbV",
        "4uSCSCJbFygO"
      ],
      "toc_visible": true,
      "include_colab_link": true
    },
    "kernelspec": {
      "name": "python3",
      "display_name": "Python 3"
    }
  },
  "cells": [
    {
      "cell_type": "markdown",
      "metadata": {
        "id": "view-in-github",
        "colab_type": "text"
      },
      "source": [
        "<a href=\"https://colab.research.google.com/github/DokinAlex/python/blob/main/%D0%9A%D0%BE%D0%BF%D0%B8%D1%8F_%D0%B1%D0%BB%D0%BE%D0%BA%D0%BD%D0%BE%D1%82%D0%B0_%22%D0%9A%D1%83%D1%80%D1%81_%D0%9F%D1%80%D0%BE%D0%B3%D1%80%D0%B0%D0%BC%D0%BC%D0%B8%D1%80%D0%BE%D0%B2%D0%B0%D0%BD%D0%B8%D0%B5_%D0%BD%D0%B0_Python%2C_Numpy_%D1%87%D0%B0%D1%81%D1%82%D1%8C_3%22.ipynb\" target=\"_parent\"><img src=\"https://colab.research.google.com/assets/colab-badge.svg\" alt=\"Open In Colab\"/></a>"
      ]
    },
    {
      "cell_type": "markdown",
      "source": [
        "#Cesencom, Центр Системно-Инженерных Компетенций, ООО \"Цесинком\"\n"
      ],
      "metadata": {
        "id": "5F4pv-wG3Ei1"
      }
    },
    {
      "cell_type": "markdown",
      "metadata": {
        "id": "uKnU2atUTg_F"
      },
      "source": [
        "#**Курс \"Программирование на Python, Numpy для Data Science часть 3\"**\n"
      ]
    },
    {
      "cell_type": "markdown",
      "metadata": {
        "id": "ofCo6vf4XKaZ"
      },
      "source": [
        "## 1. Введение в массивы библиотеки NumPy.\n",
        "\n"
      ]
    },
    {
      "cell_type": "markdown",
      "source": [
        "Библиотека NumPy (сокращение от Numerical Python — «числовой Python») обеспечивает эффективный интерфейс для хранения и работы с плотными буферами данных. Массивы библиотеки NumPy похожи на встроенный тип данных языка Python list , но обеспечивают гораздо более эффективное хранение и операции\n",
        "с данными при росте размера массивов."
      ],
      "metadata": {
        "id": "a2b5tqVuohpf"
      }
    },
    {
      "cell_type": "code",
      "source": [
        "import numpy as np # np - часто применяемый псевдоним для numpy\n",
        "np.__version__"
      ],
      "metadata": {
        "colab": {
          "base_uri": "https://localhost:8080/",
          "height": 35
        },
        "id": "GZHbDaFHpHJK",
        "outputId": "cfdb28d1-c196-481c-9492-c630a30e1332"
      },
      "execution_count": null,
      "outputs": [
        {
          "output_type": "execute_result",
          "data": {
            "text/plain": [
              "'1.21.6'"
            ],
            "application/vnd.google.colaboratory.intrinsic+json": {
              "type": "string"
            }
          },
          "metadata": {},
          "execution_count": 1
        }
      ]
    },
    {
      "cell_type": "markdown",
      "source": [
        "В отличие от списков языка Python массивами библиотекb NumPy,\n",
        "содержащат элементы одного типа. Если типы элементов не совпадают, NumPy попытается выполнить повышающее приведение типов (в данном случае целочисленные значения приводятся к числам с плавающей точкой)"
      ],
      "metadata": {
        "id": "BGMhe7GPw-eb"
      }
    },
    {
      "cell_type": "code",
      "source": [
        "np.array([3.14, 4, 2, 3])"
      ],
      "metadata": {
        "colab": {
          "base_uri": "https://localhost:8080/"
        },
        "id": "JV0c9k8ExZH1",
        "outputId": "82f6ca72-dda5-4b52-d255-0fbbb9a69537"
      },
      "execution_count": null,
      "outputs": [
        {
          "output_type": "execute_result",
          "data": {
            "text/plain": [
              "array([3.14, 4.  , 2.  , 3.  ])"
            ]
          },
          "metadata": {},
          "execution_count": 3
        }
      ]
    },
    {
      "cell_type": "markdown",
      "source": [
        "Если необходимо явным образом задать тип данных для итогового массива, можно воспользоваться ключевым словом `dtype` :"
      ],
      "metadata": {
        "id": "r7F4S3abyy4C"
      }
    },
    {
      "cell_type": "code",
      "source": [
        "np.array([1, 2, 3, 4], dtype='float32')"
      ],
      "metadata": {
        "colab": {
          "base_uri": "https://localhost:8080/"
        },
        "id": "2NjbK61fy6De",
        "outputId": "e231a41d-31a4-4c04-de2d-e78bc493233d"
      },
      "execution_count": null,
      "outputs": [
        {
          "output_type": "execute_result",
          "data": {
            "text/plain": [
              "array([1., 2., 3., 4.], dtype=float32)"
            ]
          },
          "metadata": {},
          "execution_count": 4
        }
      ]
    },
    {
      "cell_type": "markdown",
      "source": [
        "В отличие от списков в языке Python массивы библиотеки NumPy могут явным образом описываться как многомерные. Один из способов задания значений многомерного массива с помощью списка списков:"
      ],
      "metadata": {
        "id": "r4hvmDLqz7g3"
      }
    },
    {
      "cell_type": "code",
      "source": [
        "np.array([range(i, i + 3) for i in [2, 4, 6]]) # Вложенные списки преобразуются в многомерный массив"
      ],
      "metadata": {
        "colab": {
          "base_uri": "https://localhost:8080/"
        },
        "id": "e1M_BHOR0MCf",
        "outputId": "96143721-1c18-47f9-c7bc-6c424f0a2bfb"
      },
      "execution_count": null,
      "outputs": [
        {
          "output_type": "execute_result",
          "data": {
            "text/plain": [
              "array([[2, 3, 4],\n",
              "       [4, 5, 6],\n",
              "       [6, 7, 8]])"
            ]
          },
          "metadata": {},
          "execution_count": 5
        }
      ]
    },
    {
      "cell_type": "markdown",
      "source": [
        "Большие массивы эффективнее создавать с нуля с помощью имеющихся в пакете NumPy методов.\n"
      ],
      "metadata": {
        "id": "kWMxxhO-01IZ"
      }
    },
    {
      "cell_type": "code",
      "source": [
        "np.zeros(10, dtype=int) # Создаем массив целых чисел длины 10, заполненный нулями"
      ],
      "metadata": {
        "colab": {
          "base_uri": "https://localhost:8080/"
        },
        "id": "q6e9dRBB09-A",
        "outputId": "1e0e90c6-5bff-4027-f02b-ce45f932738b"
      },
      "execution_count": null,
      "outputs": [
        {
          "output_type": "execute_result",
          "data": {
            "text/plain": [
              "array([0, 0, 0, 0, 0, 0, 0, 0, 0, 0])"
            ]
          },
          "metadata": {},
          "execution_count": 6
        }
      ]
    },
    {
      "cell_type": "code",
      "source": [
        "np.ones((3, 5), dtype=float) # Создаем массив размером 3 x 5 значений с плавающей точкой, заполненный единицами"
      ],
      "metadata": {
        "colab": {
          "base_uri": "https://localhost:8080/"
        },
        "id": "7JLwipFF1E4V",
        "outputId": "3dad1c96-027c-4d36-d14d-76bfc9ca0eed"
      },
      "execution_count": null,
      "outputs": [
        {
          "output_type": "execute_result",
          "data": {
            "text/plain": [
              "array([[1., 1., 1., 1., 1.],\n",
              "       [1., 1., 1., 1., 1.],\n",
              "       [1., 1., 1., 1., 1.]])"
            ]
          },
          "metadata": {},
          "execution_count": 7
        }
      ]
    },
    {
      "cell_type": "code",
      "source": [
        "np.full((3, 5), 2.45) # Создаем массив размером 3 x 5, заполненный значением 2.45"
      ],
      "metadata": {
        "colab": {
          "base_uri": "https://localhost:8080/"
        },
        "id": "dschW8GE1SvC",
        "outputId": "a725f0cc-0731-44e4-b34e-60a86ae797e9"
      },
      "execution_count": null,
      "outputs": [
        {
          "output_type": "execute_result",
          "data": {
            "text/plain": [
              "array([[2.45, 2.45, 2.45, 2.45, 2.45],\n",
              "       [2.45, 2.45, 2.45, 2.45, 2.45],\n",
              "       [2.45, 2.45, 2.45, 2.45, 2.45]])"
            ]
          },
          "metadata": {},
          "execution_count": 8
        }
      ]
    },
    {
      "cell_type": "code",
      "source": [
        "np.arange(0, 20, 2) # Создаем массив, заполненный линейной последовательностью, от 0 до 20, с шагом 2"
      ],
      "metadata": {
        "colab": {
          "base_uri": "https://localhost:8080/"
        },
        "id": "mOwXH2I-1h0Q",
        "outputId": "df47f405-2e47-4f3c-adb5-8281199dfe2c"
      },
      "execution_count": null,
      "outputs": [
        {
          "output_type": "execute_result",
          "data": {
            "text/plain": [
              "array([ 0,  2,  4,  6,  8, 10, 12, 14, 16, 18])"
            ]
          },
          "metadata": {},
          "execution_count": 9
        }
      ]
    },
    {
      "cell_type": "code",
      "source": [
        "np.linspace(0, 1, 5) # Создаем массив из пяти значений, равномерно располагающихся между 0 и 1"
      ],
      "metadata": {
        "colab": {
          "base_uri": "https://localhost:8080/"
        },
        "id": "1HdZMxXu14l0",
        "outputId": "70df4c56-1225-4da7-badc-404bcfd9da73"
      },
      "execution_count": null,
      "outputs": [
        {
          "output_type": "execute_result",
          "data": {
            "text/plain": [
              "array([0.  , 0.25, 0.5 , 0.75, 1.  ])"
            ]
          },
          "metadata": {},
          "execution_count": 10
        }
      ]
    },
    {
      "cell_type": "code",
      "source": [
        "np.random.random((3, 3)) # Создаем массив размером 3 x 3 равномерно распределенных случайных значения от 0 до 1"
      ],
      "metadata": {
        "colab": {
          "base_uri": "https://localhost:8080/"
        },
        "id": "NbukquQm2Zw_",
        "outputId": "ee15e075-7ca2-4499-911d-30e67dce28d5"
      },
      "execution_count": null,
      "outputs": [
        {
          "output_type": "execute_result",
          "data": {
            "text/plain": [
              "array([[0.82954463, 0.18510353, 0.08557111],\n",
              "       [0.91110793, 0.13426838, 0.70370612],\n",
              "       [0.21081773, 0.38052696, 0.73122615]])"
            ]
          },
          "metadata": {},
          "execution_count": 11
        }
      ]
    },
    {
      "cell_type": "code",
      "source": [
        "np.random.normal(0, 1, (3, 3)) # Создаем массив размером 3 x 3 нормально распределенных случайных значений с медианой 0 и стандартным отклонением 1"
      ],
      "metadata": {
        "colab": {
          "base_uri": "https://localhost:8080/"
        },
        "id": "3XFOsM152pB9",
        "outputId": "ce8aeee7-c21d-476f-d816-c95e2e4a2c87"
      },
      "execution_count": null,
      "outputs": [
        {
          "output_type": "execute_result",
          "data": {
            "text/plain": [
              "array([[-0.02595453,  0.50157529, -0.24367457],\n",
              "       [ 0.01071923, -1.16600202,  1.00862599],\n",
              "       [ 0.24600704, -1.34116552, -1.40022195]])"
            ]
          },
          "metadata": {},
          "execution_count": 12
        }
      ]
    },
    {
      "cell_type": "code",
      "source": [
        "np.random.randint(0, 10, (3, 3)) # Создаем массив размером 3 x 3 случайных целых числа в промежутке [0, 10)"
      ],
      "metadata": {
        "colab": {
          "base_uri": "https://localhost:8080/"
        },
        "id": "oS8UzKA029UL",
        "outputId": "e49e164d-82e7-4c9c-99cd-33b7dd6b5e91"
      },
      "execution_count": null,
      "outputs": [
        {
          "output_type": "execute_result",
          "data": {
            "text/plain": [
              "array([[0, 0, 3],\n",
              "       [2, 9, 3],\n",
              "       [5, 5, 3]])"
            ]
          },
          "metadata": {},
          "execution_count": 13
        }
      ]
    },
    {
      "cell_type": "code",
      "source": [
        "np.eye(3) # Создаем единичную матрицу размером 3 x 3"
      ],
      "metadata": {
        "colab": {
          "base_uri": "https://localhost:8080/"
        },
        "id": "Qc9_ItZM3LvP",
        "outputId": "99e9a7be-e35f-4f95-84c7-c1781e5b0f93"
      },
      "execution_count": null,
      "outputs": [
        {
          "output_type": "execute_result",
          "data": {
            "text/plain": [
              "array([[1., 0., 0.],\n",
              "       [0., 1., 0.],\n",
              "       [0., 0., 1.]])"
            ]
          },
          "metadata": {},
          "execution_count": 14
        }
      ]
    },
    {
      "cell_type": "code",
      "source": [
        "np.empty(3) # Создаем неинициализированный массив из трех произвольных значений, случайно оказавшиеся\n",
        "# в соответствующих ячейках памяти данные"
      ],
      "metadata": {
        "colab": {
          "base_uri": "https://localhost:8080/",
          "height": 202
        },
        "id": "O6hmxYN13ZnH",
        "outputId": "177b8ecd-6b43-47d6-c255-302de257a70d"
      },
      "execution_count": null,
      "outputs": [
        {
          "output_type": "error",
          "ename": "NameError",
          "evalue": "ignored",
          "traceback": [
            "\u001b[0;31m---------------------------------------------------------------------------\u001b[0m",
            "\u001b[0;31mNameError\u001b[0m                                 Traceback (most recent call last)",
            "\u001b[0;32m<ipython-input-1-6408c9e9e11f>\u001b[0m in \u001b[0;36m<module>\u001b[0;34m\u001b[0m\n\u001b[0;32m----> 1\u001b[0;31m \u001b[0mnp\u001b[0m\u001b[0;34m.\u001b[0m\u001b[0mempty\u001b[0m\u001b[0;34m(\u001b[0m\u001b[0;36m3\u001b[0m\u001b[0;34m)\u001b[0m \u001b[0;31m# Создаем неинициализированный массив из трех произвольных значений, случайно оказавшиеся\u001b[0m\u001b[0;34m\u001b[0m\u001b[0;34m\u001b[0m\u001b[0m\n\u001b[0m\u001b[1;32m      2\u001b[0m \u001b[0;31m# в соответствующих ячейках памяти данные\u001b[0m\u001b[0;34m\u001b[0m\u001b[0;34m\u001b[0m\u001b[0;34m\u001b[0m\u001b[0m\n",
            "\u001b[0;31mNameError\u001b[0m: name 'np' is not defined"
          ]
        }
      ]
    },
    {
      "cell_type": "markdown",
      "source": [
        "**Стандартные типы данных библиотеки NumPy**\n",
        "\n",
        "\n",
        "*   `bool_` - Булев тип (True или False), хранящийся в виде 1 байта\n",
        "\n",
        "*   `int_` - Тип целочисленного значения по умолчанию (обычно int64 или int32)\n",
        "\n",
        "*   `intc` - Идентичен типу int языка C (обычно int32 или int64)\n",
        "\n",
        "*   `intp` - Целочисленное значение, используемое для индексов\n",
        "\n",
        "*   `int8` - Байтовый тип (от –128 до 127)\n",
        "\n",
        "*   `int16` - Целое число (от –32 768 до 32 767)\n",
        "\n",
        "*   `int32` - Целое число (от –2 147 483 648 до 2 147 483 647)\n",
        "\n",
        "*   `int64` - Целое число (от –9 223 372 036 854 775 808 до 9 223 372 036 854 775 807)\n",
        "\n",
        "*   `uint8` - Беззнаковое целое число (от 0 до 255)\n",
        "\n",
        "*   `uint16` - Беззнаковое целое число (от 0 до 65 535)\n",
        "\n",
        "*   `uint32` - Беззнаковое целое число (от 0 до 4 294 967 295)\n",
        "\n",
        "*   `uint64` - Беззнаковое целое число (от 0 до 18 446 744 073 709 551 615)\n",
        "\n",
        "*   `float_` - Сокращение для названия типа float64\n",
        "\n",
        "*   `float16` - Число с плавающей точкой с половинной точностью: 1 бит знак, 5 бит порядок, 10 бит мантисса\n",
        "\n",
        "*   `float32` - Число с плавающей точкой с одинарной точностью: 1 бит знак, 8 бит порядок, 23 бита мантисса\n",
        "\n",
        "*   `float64` - Число с плавающей точкой с удвоенной точностью: 1 бит знак, 11 бит порядок, 52 бита мантисса\n",
        "\n",
        "*   `complex_` - Сокращение для названия типа complex128\n",
        "\n",
        "*   `complex64` - Комплексное число, представленное двумя 32-битными числами\n",
        "\n",
        "*   `complex128` - Комплексное число, представленное двумя 64-битными числами\n",
        "\n",
        "\n",
        "\n",
        "\n",
        "\n",
        "\n"
      ],
      "metadata": {
        "id": "b5vmH2Ro4k7s"
      }
    },
    {
      "cell_type": "markdown",
      "source": [
        "### **Практическое задание:** \n",
        "\n",
        "1.   Создайте массив (3,3) целых чисел заполненных нулями\n",
        "1.   Создайте массив (5,6) вещественных чисел заполненных единицами\n",
        "2.   Создайте массив (4,4) целых чисел заполненных единицами по диаганоли\n",
        "2.   Создайте массив (6,6) целых чисел заполненных числом 3.45\n",
        "1.   Создайте массив (5,5) неинициализированный массив произвольных значений\n"
      ],
      "metadata": {
        "id": "EmdBgbvdJiku"
      }
    },
    {
      "cell_type": "code",
      "source": [
        "np.zeros((3,3), dtype=int)"
      ],
      "metadata": {
        "id": "fPyDnLaYVr9q",
        "colab": {
          "base_uri": "https://localhost:8080/"
        },
        "outputId": "3f312cd9-f835-40c5-bbc0-a7a6ed8272f1"
      },
      "execution_count": null,
      "outputs": [
        {
          "output_type": "execute_result",
          "data": {
            "text/plain": [
              "array([[0, 0, 0],\n",
              "       [0, 0, 0],\n",
              "       [0, 0, 0]])"
            ]
          },
          "metadata": {},
          "execution_count": 3
        }
      ]
    },
    {
      "cell_type": "code",
      "source": [
        "np.ones((5, 6), dtype=float)"
      ],
      "metadata": {
        "colab": {
          "base_uri": "https://localhost:8080/"
        },
        "id": "YDskfOBRcp9I",
        "outputId": "3fd1c39b-622c-4a28-c501-6d72b1187183"
      },
      "execution_count": null,
      "outputs": [
        {
          "output_type": "execute_result",
          "data": {
            "text/plain": [
              "array([[1., 1., 1., 1., 1., 1.],\n",
              "       [1., 1., 1., 1., 1., 1.],\n",
              "       [1., 1., 1., 1., 1., 1.],\n",
              "       [1., 1., 1., 1., 1., 1.],\n",
              "       [1., 1., 1., 1., 1., 1.]])"
            ]
          },
          "metadata": {},
          "execution_count": 6
        }
      ]
    },
    {
      "cell_type": "code",
      "source": [
        "np.eye(4,4)"
      ],
      "metadata": {
        "colab": {
          "base_uri": "https://localhost:8080/"
        },
        "id": "NMLaOoG3c1OZ",
        "outputId": "cdad2eb1-486c-4bb3-b0e2-7df9fd2c249f"
      },
      "execution_count": null,
      "outputs": [
        {
          "output_type": "execute_result",
          "data": {
            "text/plain": [
              "array([[1., 0., 0., 0.],\n",
              "       [0., 1., 0., 0.],\n",
              "       [0., 0., 1., 0.],\n",
              "       [0., 0., 0., 1.]])"
            ]
          },
          "metadata": {},
          "execution_count": 5
        }
      ]
    },
    {
      "cell_type": "code",
      "source": [
        "np.full((6, 6), 3.45)"
      ],
      "metadata": {
        "colab": {
          "base_uri": "https://localhost:8080/"
        },
        "id": "dOZe_voyc34Z",
        "outputId": "17488f9c-6c02-4cc5-ee35-7e2125b75dca"
      },
      "execution_count": null,
      "outputs": [
        {
          "output_type": "execute_result",
          "data": {
            "text/plain": [
              "array([[3.45, 3.45, 3.45, 3.45, 3.45, 3.45],\n",
              "       [3.45, 3.45, 3.45, 3.45, 3.45, 3.45],\n",
              "       [3.45, 3.45, 3.45, 3.45, 3.45, 3.45],\n",
              "       [3.45, 3.45, 3.45, 3.45, 3.45, 3.45],\n",
              "       [3.45, 3.45, 3.45, 3.45, 3.45, 3.45],\n",
              "       [3.45, 3.45, 3.45, 3.45, 3.45, 3.45]])"
            ]
          },
          "metadata": {},
          "execution_count": 7
        }
      ]
    },
    {
      "cell_type": "code",
      "source": [
        "np.empty((5,5))"
      ],
      "metadata": {
        "colab": {
          "base_uri": "https://localhost:8080/"
        },
        "id": "zJSDpsnZc0uP",
        "outputId": "c2fb943a-423a-4bf7-af57-daeaa0d27d37"
      },
      "execution_count": null,
      "outputs": [
        {
          "output_type": "execute_result",
          "data": {
            "text/plain": [
              "array([[1.65627247e-316, 5.63552619e-317, 8.25089629e-322,\n",
              "                    nan, 1.27701034e+232],\n",
              "       [4.63362087e+228, 1.94670827e+227, 2.64521300e+185,\n",
              "        1.28824057e+214, 3.52531059e+246],\n",
              "       [6.01099947e+175, 2.32161870e-152, 2.35903094e+251,\n",
              "        1.32756640e-258, 5.60481379e+199],\n",
              "       [1.44427036e+214, 9.70598276e+189, 9.06691964e+271,\n",
              "        7.35423712e+223, 1.67792002e+243],\n",
              "       [1.14735323e+253, 1.41592481e+190, 3.06225710e+169,\n",
              "        1.29152844e+161, 1.44577178e-308]])"
            ]
          },
          "metadata": {},
          "execution_count": 9
        }
      ]
    },
    {
      "cell_type": "markdown",
      "source": [
        "###1.1 Атрибуты массивов библиотеки NumPy\n",
        "У каждого из массивов есть атрибуты\n",
        "\n",
        "*   `ndim` - размерность\n",
        "\n",
        "*   `shape` - размер каждого измерения \n",
        "\n",
        "*   `size` - общий размер массива \n",
        "\n",
        "*   `dtype` - тип данных массива\n",
        "\n",
        "*   `itemsize` - размер (в байтах) каждого элемента массива\n",
        "\n",
        "*   `nbytes` - полный размер массива (в байтах)"
      ],
      "metadata": {
        "id": "SgJsqE3P7dKx"
      }
    },
    {
      "cell_type": "code",
      "source": [
        "import numpy as np\n",
        "# создадим случайный массивы\n",
        "np.random.seed(0) # начальное значение для целей воспроизводимости\n",
        "x1 = np.random.randint(10, size=6) # одномерный массив\n",
        "x2 = np.random.randint(10, size=(3, 4)) # двумерный массив\n",
        "x3 = np.random.randint(10, size=(3, 4, 5)) # трехмерный массив"
      ],
      "metadata": {
        "id": "gFy-iG359KpZ"
      },
      "execution_count": null,
      "outputs": []
    },
    {
      "cell_type": "code",
      "source": [
        "print(\"x3 ndim: \", x3.ndim)\n",
        "print(\"x3 shape:\", x3.shape)\n",
        "print(\"x3 size: \", x3.size)"
      ],
      "metadata": {
        "colab": {
          "base_uri": "https://localhost:8080/"
        },
        "id": "aluwBCYH9xWg",
        "outputId": "403af92f-aba4-442a-ed29-68caa325be07"
      },
      "execution_count": null,
      "outputs": [
        {
          "output_type": "stream",
          "name": "stdout",
          "text": [
            "x3 ndim:  3\n",
            "x3 shape: (3, 4, 5)\n",
            "x3 size:  60\n"
          ]
        }
      ]
    },
    {
      "cell_type": "code",
      "source": [
        "print(\"itemsize:\", x3.itemsize, \"bytes\")\n",
        "print(\"nbytes:\", x3.nbytes, \"bytes\")"
      ],
      "metadata": {
        "colab": {
          "base_uri": "https://localhost:8080/"
        },
        "id": "6VnfCYpS-mYE",
        "outputId": "9f5b12a6-6aa2-4a6d-8842-6417015528a3"
      },
      "execution_count": null,
      "outputs": [
        {
          "output_type": "stream",
          "name": "stdout",
          "text": [
            "itemsize: 8 bytes\n",
            "nbytes: 480 bytes\n"
          ]
        }
      ]
    },
    {
      "cell_type": "markdown",
      "source": [
        "###1.2 Индексация массива: доступ к отдельным элементам."
      ],
      "metadata": {
        "id": "Suq620QD7-s5"
      }
    },
    {
      "cell_type": "code",
      "source": [
        "x1 "
      ],
      "metadata": {
        "colab": {
          "base_uri": "https://localhost:8080/"
        },
        "id": "11S8xLRfAib9",
        "outputId": "419732a6-5813-4b5a-ed06-30107adf4570"
      },
      "execution_count": null,
      "outputs": [
        {
          "output_type": "execute_result",
          "data": {
            "text/plain": [
              "array([5, 0, 3, 3, 7, 9])"
            ]
          },
          "metadata": {},
          "execution_count": 20
        }
      ]
    },
    {
      "cell_type": "code",
      "source": [
        "x1[0], x1[3] # В одномерном массиве обратиться к i-му (считая с 0) значению можно, указав индекс в квадратных скобках."
      ],
      "metadata": {
        "colab": {
          "base_uri": "https://localhost:8080/"
        },
        "id": "s3voqX1pAvrg",
        "outputId": "f077f5fd-adc2-4164-fb27-fa1047702a6c"
      },
      "execution_count": null,
      "outputs": [
        {
          "output_type": "execute_result",
          "data": {
            "text/plain": [
              "(5, 3)"
            ]
          },
          "metadata": {},
          "execution_count": 21
        }
      ]
    },
    {
      "cell_type": "code",
      "source": [
        "x1[-1] # Для индексации с конца массива можно использовать отрицательные индексы:"
      ],
      "metadata": {
        "colab": {
          "base_uri": "https://localhost:8080/"
        },
        "id": "sFTaSdcgA7hO",
        "outputId": "c16ac300-e665-4651-ba58-9f4a7afa01dd"
      },
      "execution_count": null,
      "outputs": [
        {
          "output_type": "execute_result",
          "data": {
            "text/plain": [
              "9"
            ]
          },
          "metadata": {},
          "execution_count": 22
        }
      ]
    },
    {
      "cell_type": "code",
      "source": [
        "x2"
      ],
      "metadata": {
        "colab": {
          "base_uri": "https://localhost:8080/"
        },
        "id": "dnICXI5OBHwN",
        "outputId": "afa819b5-7335-4c9a-80d5-fa61293e70b4"
      },
      "execution_count": null,
      "outputs": [
        {
          "output_type": "execute_result",
          "data": {
            "text/plain": [
              "array([[3, 5, 2, 4],\n",
              "       [7, 6, 8, 8],\n",
              "       [1, 6, 7, 7]])"
            ]
          },
          "metadata": {},
          "execution_count": 23
        }
      ]
    },
    {
      "cell_type": "code",
      "source": [
        "x2[0, 0] # Обращаться к элементам в многомерном массиве можно с помощью разделенных запятыми кортежей индексов"
      ],
      "metadata": {
        "id": "8PNdwQDhFd88"
      },
      "execution_count": null,
      "outputs": []
    },
    {
      "cell_type": "code",
      "source": [
        "x2[2, 0], x2[2, -1]"
      ],
      "metadata": {
        "colab": {
          "base_uri": "https://localhost:8080/"
        },
        "id": "ykPkdWT4F1Tn",
        "outputId": "a87ffcdb-5e3b-49d4-df1f-487f3ad0b20e"
      },
      "execution_count": null,
      "outputs": [
        {
          "output_type": "execute_result",
          "data": {
            "text/plain": [
              "(1, 7)"
            ]
          },
          "metadata": {},
          "execution_count": 24
        }
      ]
    },
    {
      "cell_type": "code",
      "source": [
        "x2[0, 0] = 15 # Можно изменить значения, используя любую из перечисленных выше индексных нотаций\n",
        "x2"
      ],
      "metadata": {
        "colab": {
          "base_uri": "https://localhost:8080/"
        },
        "id": "i7QIop6LGA-i",
        "outputId": "f55d5791-d9c7-4f1a-f84d-ea1c80323639"
      },
      "execution_count": null,
      "outputs": [
        {
          "output_type": "execute_result",
          "data": {
            "text/plain": [
              "array([[15,  5,  2,  4],\n",
              "       [ 7,  6,  8,  8],\n",
              "       [ 1,  6,  7,  7]])"
            ]
          },
          "metadata": {},
          "execution_count": 25
        }
      ]
    },
    {
      "cell_type": "markdown",
      "source": [
        "###1.3 Срезы массивов: доступ к подмассивам.\n",
        "Для доступа к срезу массива x используйте синтаксис:\n",
        "\n",
        "`x[начало:конец:шаг]` - по умолчанию: начало = 0 , конец = размер соответствующего измерения , шаг = 1"
      ],
      "metadata": {
        "id": "i0PcvAXVIhAV"
      }
    },
    {
      "cell_type": "code",
      "source": [
        "x = np.arange(10)\n",
        "x"
      ],
      "metadata": {
        "colab": {
          "base_uri": "https://localhost:8080/"
        },
        "id": "ifStWrKx753H",
        "outputId": "3028d233-bcc2-40e7-c7b2-6cb1bfcd5589"
      },
      "execution_count": null,
      "outputs": [
        {
          "output_type": "execute_result",
          "data": {
            "text/plain": [
              "array([0, 1, 2, 3, 4, 5, 6, 7, 8, 9])"
            ]
          },
          "metadata": {},
          "execution_count": 2
        }
      ]
    },
    {
      "cell_type": "code",
      "source": [
        "x[:5] # первые пять элементов"
      ],
      "metadata": {
        "colab": {
          "base_uri": "https://localhost:8080/"
        },
        "id": "iRsq-tzG8Fum",
        "outputId": "ee83356c-3c43-4c9d-bcca-973e1bf55a8f"
      },
      "execution_count": null,
      "outputs": [
        {
          "output_type": "execute_result",
          "data": {
            "text/plain": [
              "array([0, 1, 2, 3, 4])"
            ]
          },
          "metadata": {},
          "execution_count": 3
        }
      ]
    },
    {
      "cell_type": "code",
      "source": [
        "x[5:] # элементы после индекса = 5"
      ],
      "metadata": {
        "colab": {
          "base_uri": "https://localhost:8080/"
        },
        "id": "Fn4UrkkW8NIJ",
        "outputId": "9ce20a5f-67ad-4c33-d69b-672fc7385477"
      },
      "execution_count": null,
      "outputs": [
        {
          "output_type": "execute_result",
          "data": {
            "text/plain": [
              "array([5, 6, 7, 8, 9])"
            ]
          },
          "metadata": {},
          "execution_count": 4
        }
      ]
    },
    {
      "cell_type": "code",
      "source": [
        "x[3:7] # подмассив из середины"
      ],
      "metadata": {
        "colab": {
          "base_uri": "https://localhost:8080/"
        },
        "id": "c9_DxyJ88TH1",
        "outputId": "37869bed-10fb-4adc-86e9-fc84282b09e9"
      },
      "execution_count": null,
      "outputs": [
        {
          "output_type": "execute_result",
          "data": {
            "text/plain": [
              "array([3, 4, 5, 6])"
            ]
          },
          "metadata": {},
          "execution_count": 5
        }
      ]
    },
    {
      "cell_type": "code",
      "source": [
        "x[::2] # каждый второй элемент"
      ],
      "metadata": {
        "colab": {
          "base_uri": "https://localhost:8080/"
        },
        "id": "lB4OWmnP8YDG",
        "outputId": "fc779b51-74df-4e56-abac-39b95743c423"
      },
      "execution_count": null,
      "outputs": [
        {
          "output_type": "execute_result",
          "data": {
            "text/plain": [
              "array([0, 2, 4, 6, 8])"
            ]
          },
          "metadata": {},
          "execution_count": 6
        }
      ]
    },
    {
      "cell_type": "code",
      "source": [
        "x[1::2] # каждый второй элемент, начиная с индекса 1"
      ],
      "metadata": {
        "colab": {
          "base_uri": "https://localhost:8080/"
        },
        "id": "68NACq_y8i1O",
        "outputId": "6b2529dc-1d90-4d2e-dbda-ba6e576dc1aa"
      },
      "execution_count": null,
      "outputs": [
        {
          "output_type": "execute_result",
          "data": {
            "text/plain": [
              "array([1, 3, 5, 7, 9])"
            ]
          },
          "metadata": {},
          "execution_count": 7
        }
      ]
    },
    {
      "cell_type": "code",
      "source": [
        "x[::-1] # все элементы в обратном порядке"
      ],
      "metadata": {
        "colab": {
          "base_uri": "https://localhost:8080/"
        },
        "id": "Qh8Ze6-_8pF_",
        "outputId": "d816d742-ac80-49a8-896d-029a0cd4e8de"
      },
      "execution_count": null,
      "outputs": [
        {
          "output_type": "execute_result",
          "data": {
            "text/plain": [
              "array([9, 8, 7, 6, 5, 4, 3, 2, 1, 0])"
            ]
          },
          "metadata": {},
          "execution_count": 8
        }
      ]
    },
    {
      "cell_type": "markdown",
      "source": [
        "Многомерные срезы задаются схожим образом, с разделением срезов запятыми."
      ],
      "metadata": {
        "id": "se9Fbt1E9KTi"
      }
    },
    {
      "cell_type": "code",
      "source": [
        "x2"
      ],
      "metadata": {
        "colab": {
          "base_uri": "https://localhost:8080/"
        },
        "id": "F2B525zb9Ns-",
        "outputId": "5426e9f9-06d5-45e2-d422-1d4f40aa3c70"
      },
      "execution_count": null,
      "outputs": [
        {
          "output_type": "execute_result",
          "data": {
            "text/plain": [
              "array([[3, 5, 2, 4],\n",
              "       [7, 6, 8, 8],\n",
              "       [1, 6, 7, 7]])"
            ]
          },
          "metadata": {},
          "execution_count": 9
        }
      ]
    },
    {
      "cell_type": "code",
      "source": [
        "x2[:2, :3] # две строки, три столбца"
      ],
      "metadata": {
        "colab": {
          "base_uri": "https://localhost:8080/"
        },
        "id": "ViY9-SCK9SV4",
        "outputId": "b0b83846-a5e3-4fab-aa1b-879e97e85f52"
      },
      "execution_count": null,
      "outputs": [
        {
          "output_type": "execute_result",
          "data": {
            "text/plain": [
              "array([[3, 5, 2],\n",
              "       [7, 6, 8]])"
            ]
          },
          "metadata": {},
          "execution_count": 10
        }
      ]
    },
    {
      "cell_type": "code",
      "source": [
        "x2[:,::2]  # все строки, каждый второй столбец"
      ],
      "metadata": {
        "colab": {
          "base_uri": "https://localhost:8080/"
        },
        "id": "_TS49_YO9hHm",
        "outputId": "98b95667-481e-4194-a02f-d4cfbcfe2591"
      },
      "execution_count": null,
      "outputs": [
        {
          "output_type": "execute_result",
          "data": {
            "text/plain": [
              "array([[3, 2],\n",
              "       [7, 8],\n",
              "       [1, 7]])"
            ]
          },
          "metadata": {},
          "execution_count": 11
        }
      ]
    },
    {
      "cell_type": "code",
      "source": [
        "x2[::-1, ::-1] # Измерения подмассивов можно «переворачивать»"
      ],
      "metadata": {
        "colab": {
          "base_uri": "https://localhost:8080/"
        },
        "id": "E-2lvCYY91r7",
        "outputId": "6ba7ed3f-fc5d-4449-ef5b-9f9593e35cfa"
      },
      "execution_count": null,
      "outputs": [
        {
          "output_type": "execute_result",
          "data": {
            "text/plain": [
              "array([[7, 7, 6, 1],\n",
              "       [8, 8, 6, 7],\n",
              "       [4, 2, 5, 3]])"
            ]
          },
          "metadata": {},
          "execution_count": 13
        }
      ]
    },
    {
      "cell_type": "code",
      "source": [
        "print(x2[:, 0]) # первый столбец массива x2\n",
        "print(x2[0, :]) # первая строка массива x2\n",
        "print(x2[0]) # эквивалентно предыдущей записи"
      ],
      "metadata": {
        "colab": {
          "base_uri": "https://localhost:8080/"
        },
        "id": "8rrPh5-N-p9o",
        "outputId": "b8d7d899-d9a4-4429-f015-debb7b42c683"
      },
      "execution_count": null,
      "outputs": [
        {
          "output_type": "stream",
          "name": "stdout",
          "text": [
            "[3 7 1]\n",
            "[3 5 2 4]\n",
            "[3 5 2 4]\n"
          ]
        }
      ]
    },
    {
      "cell_type": "markdown",
      "source": [
        "Срезы массивов возвращают представления (views), а не копии (copies) данных массива. Этим срезы массивов библиотеки NumPy отличаются от срезов списков языка Python (в списках срезы являются копиями)."
      ],
      "metadata": {
        "id": "tTGmDFi0_UVH"
      }
    },
    {
      "cell_type": "code",
      "source": [
        "x2_sub = x2[:2, :2]\n",
        "print(x2_sub)"
      ],
      "metadata": {
        "colab": {
          "base_uri": "https://localhost:8080/"
        },
        "id": "I1L0nS0q_bbk",
        "outputId": "c5cf3689-eed4-4013-de10-69feaa8b020a"
      },
      "execution_count": null,
      "outputs": [
        {
          "output_type": "stream",
          "name": "stdout",
          "text": [
            "[[3 5]\n",
            " [7 6]]\n"
          ]
        }
      ]
    },
    {
      "cell_type": "code",
      "source": [
        "# изменив этот подмассив, увидим, что исходный массив также поменялся!\n",
        "x2_sub[0, 0] = 96\n",
        "print(x2_sub,'\\n')\n",
        "print(x2)"
      ],
      "metadata": {
        "colab": {
          "base_uri": "https://localhost:8080/"
        },
        "id": "NZPBZrrh_p1E",
        "outputId": "fc6185dc-e7ea-4235-9355-7a31f81fd8d8"
      },
      "execution_count": null,
      "outputs": [
        {
          "output_type": "stream",
          "name": "stdout",
          "text": [
            "[[96  5]\n",
            " [ 7  6]] \n",
            "\n",
            "[[96  5  2  4]\n",
            " [ 7  6  8  8]\n",
            " [ 1  6  7  7]]\n"
          ]
        }
      ]
    },
    {
      "cell_type": "markdown",
      "source": [
        "Иногда бывает удобно явным образом скопировать данные из массива или подмассива.\n",
        "Это можно сделать с помощью метода `copy()`"
      ],
      "metadata": {
        "id": "a-5AuKVUAOu4"
      }
    },
    {
      "cell_type": "code",
      "source": [
        "x2_sub_copy = x2[:2, :2].copy()\n",
        "print(x2_sub_copy)"
      ],
      "metadata": {
        "colab": {
          "base_uri": "https://localhost:8080/"
        },
        "id": "ZIn2M509AXf8",
        "outputId": "585b9ebe-1f58-4f5a-f711-41fdb1fabb7d"
      },
      "execution_count": null,
      "outputs": [
        {
          "output_type": "stream",
          "name": "stdout",
          "text": [
            "[[96  5]\n",
            " [ 7  6]]\n"
          ]
        }
      ]
    },
    {
      "cell_type": "code",
      "source": [
        "x2_sub_copy[0, 0] = 42 # изменим этот подмассив, исходный массив останется неизменным\n",
        "print(x2_sub_copy,'\\n')\n",
        "print(x2)"
      ],
      "metadata": {
        "colab": {
          "base_uri": "https://localhost:8080/"
        },
        "id": "MIqtpV2FTOa3",
        "outputId": "28337452-b8ed-425a-fc12-92c49e77bfef"
      },
      "execution_count": null,
      "outputs": [
        {
          "output_type": "stream",
          "name": "stdout",
          "text": [
            "[[42  5]\n",
            " [ 7  6]] \n",
            "\n",
            "[[96  5  2  4]\n",
            " [ 7  6  8  8]\n",
            " [ 1  6  7  7]]\n"
          ]
        }
      ]
    },
    {
      "cell_type": "markdown",
      "source": [
        "### **Практическое задание:** \n",
        "\n",
        "1.   Создайте массив (6,6) случайных целых чисел\n",
        "1.   Выведите на печать первую строчку созданного массива\n",
        "2.   Выведите на печать подмассив (3,2) верхнего левого угла созданного массива.\n",
        "2.   Заполните ранее заданный подмасиив нулями и выведите на печать итоговый массив (6,6)\n",
        "1.   Создайте массив (5,5), как копию правого нижнего угла массива из предыдущих заданий."
      ],
      "metadata": {
        "id": "P7TfdwawLrsu"
      }
    },
    {
      "cell_type": "code",
      "source": [
        "xx = np.random.randint(10,size=(6, 6))\n",
        "xx"
      ],
      "metadata": {
        "id": "05BDa2CWVofi",
        "colab": {
          "base_uri": "https://localhost:8080/"
        },
        "outputId": "a5ca18cb-435c-4acd-9266-4cf8a89e050e"
      },
      "execution_count": null,
      "outputs": [
        {
          "output_type": "execute_result",
          "data": {
            "text/plain": [
              "array([[7, 7, 2, 1, 1, 3],\n",
              "       [1, 3, 0, 1, 8, 9],\n",
              "       [0, 3, 5, 7, 4, 8],\n",
              "       [8, 6, 1, 8, 2, 5],\n",
              "       [7, 2, 1, 6, 4, 1],\n",
              "       [8, 8, 6, 0, 1, 6]])"
            ]
          },
          "metadata": {},
          "execution_count": 4
        }
      ]
    },
    {
      "cell_type": "code",
      "source": [
        "print(xx[0])"
      ],
      "metadata": {
        "colab": {
          "base_uri": "https://localhost:8080/"
        },
        "id": "z7eq18Qgminx",
        "outputId": "8cd1e6aa-fbae-4d89-8963-002adb8ffe7d"
      },
      "execution_count": null,
      "outputs": [
        {
          "output_type": "stream",
          "name": "stdout",
          "text": [
            "[7 7 2 1 1 3]\n"
          ]
        }
      ]
    },
    {
      "cell_type": "code",
      "source": [
        "print(xx[:3,:2])"
      ],
      "metadata": {
        "colab": {
          "base_uri": "https://localhost:8080/"
        },
        "id": "f7GAhK7emkLF",
        "outputId": "45b082f5-3b29-46fa-905c-b680f3ddac89"
      },
      "execution_count": null,
      "outputs": [
        {
          "output_type": "stream",
          "name": "stdout",
          "text": [
            "[[7 7]\n",
            " [1 3]\n",
            " [0 3]]\n"
          ]
        }
      ]
    },
    {
      "cell_type": "code",
      "source": [
        "xx_sub=xx[:3,:2]\n",
        "print (xx_sub)\n",
        "xx[:3,:2]=np.zeros((xx_sub.shape[0],xx_sub.shape[1]),dtype=int)\n",
        "print (xx_sub,'\\n', xx)"
      ],
      "metadata": {
        "colab": {
          "base_uri": "https://localhost:8080/"
        },
        "id": "Fu-ZWPJomiEe",
        "outputId": "3ca653ad-4c93-40cb-9335-65e2afa26855"
      },
      "execution_count": null,
      "outputs": [
        {
          "output_type": "stream",
          "name": "stdout",
          "text": [
            "[[7 7]\n",
            " [1 3]\n",
            " [0 3]]\n",
            "[[0 0]\n",
            " [0 0]\n",
            " [0 0]] \n",
            " [[0 0 2 1 1 3]\n",
            " [0 0 0 1 8 9]\n",
            " [0 0 5 7 4 8]\n",
            " [8 6 1 8 2 5]\n",
            " [7 2 1 6 4 1]\n",
            " [8 8 6 0 1 6]]\n"
          ]
        }
      ]
    },
    {
      "cell_type": "code",
      "source": [
        "xx[xx.shape[0]-5:,xx.shape[0]-5:].copy()"
      ],
      "metadata": {
        "colab": {
          "base_uri": "https://localhost:8080/"
        },
        "id": "u8NxRag7mhn-",
        "outputId": "4ec36517-1484-4393-fe0a-901d50d62082"
      },
      "execution_count": null,
      "outputs": [
        {
          "output_type": "execute_result",
          "data": {
            "text/plain": [
              "array([[0, 4, 4, 3, 9],\n",
              "       [0, 9, 0, 3, 1],\n",
              "       [6, 3, 4, 3, 4],\n",
              "       [4, 3, 9, 1, 5],\n",
              "       [3, 5, 1, 8, 7]])"
            ]
          },
          "metadata": {},
          "execution_count": 56
        }
      ]
    },
    {
      "cell_type": "markdown",
      "source": [
        "###1.4 Изменение формы массивов.\n",
        "\n",
        "*   `reshape()` - Изменение формы массивов делается методом \n",
        "*   `newaxis` - Добавить размерность"
      ],
      "metadata": {
        "id": "4n3lfeL1IhSc"
      }
    },
    {
      "cell_type": "code",
      "source": [
        "grid = np.arange(1, 10)\n",
        "print(grid,'\\n')\n",
        "grid = grid.reshape((3, 3)) # размер исходного массива должен соответствовать размеру измененного\n",
        "print(grid)"
      ],
      "metadata": {
        "colab": {
          "base_uri": "https://localhost:8080/"
        },
        "id": "0HyKGahFUUXz",
        "outputId": "e1acff71-2817-48e4-a7a7-7ed76f4f6f2f"
      },
      "execution_count": null,
      "outputs": [
        {
          "output_type": "stream",
          "name": "stdout",
          "text": [
            "[1 2 3 4 5 6 7 8 9] \n",
            "\n",
            "[[1 2 3]\n",
            " [4 5 6]\n",
            " [7 8 9]]\n"
          ]
        }
      ]
    },
    {
      "cell_type": "markdown",
      "source": [
        "Часто используемый паттерн изменения формы — преобразование одно-\n",
        "мерного массива в двумерную матрицу-строку или матрицу-столбец. Рассмотрим два возможности такого преобразования. "
      ],
      "metadata": {
        "id": "iGVm-4p-Vofj"
      }
    },
    {
      "cell_type": "code",
      "source": [
        "x = np.array([1, 2, 3]) \n",
        "vr = x.reshape((1, 3)) # Преобразование в вектор-строку с помощью reshape\n",
        "vn = x[np.newaxis, :] # Преобразование в вектор-строку посредством newaxis\n",
        "print(vr)\n",
        "print(vn)"
      ],
      "metadata": {
        "colab": {
          "base_uri": "https://localhost:8080/"
        },
        "id": "SBvtJcJIVwLk",
        "outputId": "c6be9bf4-41d8-493d-e531-45a882acd8ae"
      },
      "execution_count": null,
      "outputs": [
        {
          "output_type": "stream",
          "name": "stdout",
          "text": [
            "[[1 2 3]]\n",
            "[[1 2 3]]\n"
          ]
        }
      ]
    },
    {
      "cell_type": "markdown",
      "source": [
        "**Транспонирование массивов и замена осей**\n",
        "\n",
        "Транспонирование — это особый способ изменения формы массива, который возвращает представление исходных данных без их копирования. Массивы имеют метод `transpose`, а также\n",
        "специальный атрибут `T`\n"
      ],
      "metadata": {
        "id": "xvAtozFVEJPe"
      }
    },
    {
      "cell_type": "code",
      "source": [
        "arr = np.arange(15).reshape((3, 5))\n",
        "arr"
      ],
      "metadata": {
        "colab": {
          "base_uri": "https://localhost:8080/"
        },
        "id": "HRX3XuOEEeTM",
        "outputId": "2177d393-9313-4cd7-c1f8-37e0890b622b"
      },
      "execution_count": null,
      "outputs": [
        {
          "output_type": "execute_result",
          "data": {
            "text/plain": [
              "array([[ 0,  1,  2,  3,  4],\n",
              "       [ 5,  6,  7,  8,  9],\n",
              "       [10, 11, 12, 13, 14]])"
            ]
          },
          "metadata": {},
          "execution_count": 3
        }
      ]
    },
    {
      "cell_type": "code",
      "source": [
        "arr.T"
      ],
      "metadata": {
        "colab": {
          "base_uri": "https://localhost:8080/"
        },
        "id": "Cp0WrwlkEyCx",
        "outputId": "a55091ef-216f-4ba1-aefd-0e534e888caa"
      },
      "execution_count": null,
      "outputs": [
        {
          "output_type": "execute_result",
          "data": {
            "text/plain": [
              "array([[ 0,  5, 10],\n",
              "       [ 1,  6, 11],\n",
              "       [ 2,  7, 12],\n",
              "       [ 3,  8, 13],\n",
              "       [ 4,  9, 14]])"
            ]
          },
          "metadata": {},
          "execution_count": 4
        }
      ]
    },
    {
      "cell_type": "markdown",
      "source": [
        "Для массивов большей размерности метод transpose принимает кортеж с номерами осей, задающий перестановку осей."
      ],
      "metadata": {
        "id": "ieJsB9fyFe0s"
      }
    },
    {
      "cell_type": "code",
      "source": [
        "arr = np.arange(16).reshape((2, 2, 4))\n",
        "arr"
      ],
      "metadata": {
        "colab": {
          "base_uri": "https://localhost:8080/"
        },
        "id": "2jpj5NsxFih_",
        "outputId": "d9cc1816-9ffe-43eb-a8dd-4459c5aa50eb"
      },
      "execution_count": null,
      "outputs": [
        {
          "output_type": "execute_result",
          "data": {
            "text/plain": [
              "array([[[ 0,  1,  2,  3],\n",
              "        [ 4,  5,  6,  7]],\n",
              "\n",
              "       [[ 8,  9, 10, 11],\n",
              "        [12, 13, 14, 15]]])"
            ]
          },
          "metadata": {},
          "execution_count": 5
        }
      ]
    },
    {
      "cell_type": "code",
      "source": [
        "arr.transpose((1, 0, 2))"
      ],
      "metadata": {
        "colab": {
          "base_uri": "https://localhost:8080/"
        },
        "id": "4X5CCV7hFqUp",
        "outputId": "1a2ffed4-ee42-4e94-c382-c667434bb90a"
      },
      "execution_count": null,
      "outputs": [
        {
          "output_type": "execute_result",
          "data": {
            "text/plain": [
              "array([[[ 0,  1,  2,  3],\n",
              "        [ 8,  9, 10, 11]],\n",
              "\n",
              "       [[ 4,  5,  6,  7],\n",
              "        [12, 13, 14, 15]]])"
            ]
          },
          "metadata": {},
          "execution_count": 6
        }
      ]
    },
    {
      "cell_type": "markdown",
      "source": [
        "Здесь оси были переупорядочены следующим образом: вторая ось стала первой, первая ось — второй, а последняя осталась без изменений.\n",
        "Простое транспонирование с помощью `.T` является частным случаем замены осей. \n",
        "\n",
        "Массивы имеют метод `swapaxes`, который получает пару номеров осей и переставляет указанные\n",
        "оси."
      ],
      "metadata": {
        "id": "Kmi0lYxxFxO_"
      }
    },
    {
      "cell_type": "code",
      "source": [
        "arr.swapaxes(1, 2)"
      ],
      "metadata": {
        "colab": {
          "base_uri": "https://localhost:8080/"
        },
        "id": "aOT8k6dBGAH4",
        "outputId": "c8062964-f437-4eda-cac4-90555afa96e9"
      },
      "execution_count": null,
      "outputs": [
        {
          "output_type": "execute_result",
          "data": {
            "text/plain": [
              "array([[[ 0,  4],\n",
              "        [ 1,  5],\n",
              "        [ 2,  6],\n",
              "        [ 3,  7]],\n",
              "\n",
              "       [[ 8, 12],\n",
              "        [ 9, 13],\n",
              "        [10, 14],\n",
              "        [11, 15]]])"
            ]
          },
          "metadata": {},
          "execution_count": 7
        }
      ]
    },
    {
      "cell_type": "markdown",
      "source": [
        "### **Практическое задание:** \n",
        "\n",
        "1.   Создайте одномерный массив (5) упорядоченных целых чисел\n",
        "1.  Реализуйте преобразование одномерного массива в вектор-столбец с помощью reshape и newaxis \n",
        "Создайте массив (6,6) случайных целых чисел\n",
        "1.   Создайте массив (6,3) случайных целых чисел\n",
        "2.   Создайте копию ранее созданного массива размерностью (3,6) с помощью reshape\n",
        "2.   Создайте копию ранее созданного массива размерностью (3,6) с помощью транспонирования и сравните с результатом из предыдущего задания\n",
        "1.   Создайте массив (5,3,5), поменяйте местами оси первую и третью."
      ],
      "metadata": {
        "id": "rHijl0KYXCpU"
      }
    },
    {
      "cell_type": "code",
      "source": [
        "m=np.arange(1,6)\n",
        "print (m)"
      ],
      "metadata": {
        "colab": {
          "base_uri": "https://localhost:8080/"
        },
        "id": "gRSY7TGQFsr0",
        "outputId": "4b5c5b1e-0090-498e-b256-87ac060c98cc"
      },
      "execution_count": null,
      "outputs": [
        {
          "output_type": "stream",
          "name": "stdout",
          "text": [
            "[1 2 3 4 5]\n"
          ]
        }
      ]
    },
    {
      "cell_type": "code",
      "source": [
        "m1 = m.reshape((m.size, 1)) \n",
        "m2 = m[:, np.newaxis]\n",
        "print(m1, '\\n\\n', m2)"
      ],
      "metadata": {
        "colab": {
          "base_uri": "https://localhost:8080/"
        },
        "id": "NAxdzhRXFuUH",
        "outputId": "306158de-6b08-4017-9872-2e8f3e98558b"
      },
      "execution_count": null,
      "outputs": [
        {
          "output_type": "stream",
          "name": "stdout",
          "text": [
            "[[1]\n",
            " [2]\n",
            " [3]\n",
            " [4]\n",
            " [5]] \n",
            "\n",
            " [[1]\n",
            " [2]\n",
            " [3]\n",
            " [4]\n",
            " [5]]\n"
          ]
        }
      ]
    },
    {
      "cell_type": "code",
      "source": [
        "xx = np.random.randint(10,size=(6, 3))\n",
        "xx"
      ],
      "metadata": {
        "colab": {
          "base_uri": "https://localhost:8080/"
        },
        "id": "7oJV7M11Ft4M",
        "outputId": "d79f88b3-e188-4809-eb22-61e1312fd9df"
      },
      "execution_count": null,
      "outputs": [
        {
          "output_type": "execute_result",
          "data": {
            "text/plain": [
              "array([[8, 1, 6],\n",
              "       [9, 5, 5],\n",
              "       [8, 0, 1],\n",
              "       [4, 6, 1],\n",
              "       [7, 2, 8],\n",
              "       [3, 0, 2]])"
            ]
          },
          "metadata": {},
          "execution_count": 10
        }
      ]
    },
    {
      "cell_type": "code",
      "source": [
        "xx_copy1=xx.reshape(3,6)\n",
        "xx_copy1"
      ],
      "metadata": {
        "colab": {
          "base_uri": "https://localhost:8080/"
        },
        "id": "_6ijE-iaFsdT",
        "outputId": "233b6be9-0549-42b0-826e-ef9ab453bb16"
      },
      "execution_count": null,
      "outputs": [
        {
          "output_type": "execute_result",
          "data": {
            "text/plain": [
              "array([[8, 1, 6, 9, 5, 5],\n",
              "       [8, 0, 1, 4, 6, 1],\n",
              "       [7, 2, 8, 3, 0, 2]])"
            ]
          },
          "metadata": {},
          "execution_count": 11
        }
      ]
    },
    {
      "cell_type": "code",
      "source": [
        "xx_copy2=xx.T\n",
        "xx_copy2"
      ],
      "metadata": {
        "colab": {
          "base_uri": "https://localhost:8080/"
        },
        "id": "GGtm6UNyFsId",
        "outputId": "80c5fd02-ce8e-43d2-d970-47354cfb9150"
      },
      "execution_count": null,
      "outputs": [
        {
          "output_type": "execute_result",
          "data": {
            "text/plain": [
              "array([[8, 9, 8, 4, 7, 3],\n",
              "       [1, 5, 0, 6, 2, 0],\n",
              "       [6, 5, 1, 1, 8, 2]])"
            ]
          },
          "metadata": {},
          "execution_count": 12
        }
      ]
    },
    {
      "cell_type": "code",
      "source": [
        "arr=np.arange(0, 75, 1).reshape((5, 3, 5))\n",
        "print (arr)\n",
        "arr=arr.swapaxes(1-1, 3-1)\n",
        "print ('\\n\\n')\n",
        "print (arr)"
      ],
      "metadata": {
        "id": "YqRCzUGWWAb7",
        "colab": {
          "base_uri": "https://localhost:8080/"
        },
        "outputId": "e40f059a-3de7-4602-b80b-6d8d2af5602c"
      },
      "execution_count": null,
      "outputs": [
        {
          "output_type": "stream",
          "name": "stdout",
          "text": [
            "[[[ 0  1  2  3  4]\n",
            "  [ 5  6  7  8  9]\n",
            "  [10 11 12 13 14]]\n",
            "\n",
            " [[15 16 17 18 19]\n",
            "  [20 21 22 23 24]\n",
            "  [25 26 27 28 29]]\n",
            "\n",
            " [[30 31 32 33 34]\n",
            "  [35 36 37 38 39]\n",
            "  [40 41 42 43 44]]\n",
            "\n",
            " [[45 46 47 48 49]\n",
            "  [50 51 52 53 54]\n",
            "  [55 56 57 58 59]]\n",
            "\n",
            " [[60 61 62 63 64]\n",
            "  [65 66 67 68 69]\n",
            "  [70 71 72 73 74]]]\n",
            "\n",
            "\n",
            "\n",
            "[[[ 0 15 30 45 60]\n",
            "  [ 5 20 35 50 65]\n",
            "  [10 25 40 55 70]]\n",
            "\n",
            " [[ 1 16 31 46 61]\n",
            "  [ 6 21 36 51 66]\n",
            "  [11 26 41 56 71]]\n",
            "\n",
            " [[ 2 17 32 47 62]\n",
            "  [ 7 22 37 52 67]\n",
            "  [12 27 42 57 72]]\n",
            "\n",
            " [[ 3 18 33 48 63]\n",
            "  [ 8 23 38 53 68]\n",
            "  [13 28 43 58 73]]\n",
            "\n",
            " [[ 4 19 34 49 64]\n",
            "  [ 9 24 39 54 69]\n",
            "  [14 29 44 59 74]]]\n"
          ]
        }
      ]
    },
    {
      "cell_type": "markdown",
      "source": [
        "###1.5 Слияние и разбиение массивов.\n",
        "Слияние, или объединение, двух массивов в библиотеке NumPy выполняется с помощью методов:\n",
        "\n",
        "\n",
        "*   `np.concatenate` - принимает на входе кортеж или список массивов в качестве первого аргумента и возвращает объединенный массив по оси, заданном аргументом axis, по умолчанию axis=0\n",
        "*   `np.vstack` - вертикальное объединение\n",
        "*   `np.hstack` - горизонтальное объединение\n",
        "*   `np.dstack` - объединяет массивы по третьей оси\n",
        "\n",
        "\n"
      ],
      "metadata": {
        "id": "qvkZ6q8hIlXG"
      }
    },
    {
      "cell_type": "code",
      "source": [
        "x = np.array([1, 2, 3])\n",
        "y = np.array([3, 2, 1])\n",
        "np.concatenate([x, y])"
      ],
      "metadata": {
        "colab": {
          "base_uri": "https://localhost:8080/"
        },
        "id": "vyXJvj9VZX9d",
        "outputId": "318a00e4-873f-49f0-c399-c9fff02a76fb"
      },
      "execution_count": null,
      "outputs": [
        {
          "output_type": "execute_result",
          "data": {
            "text/plain": [
              "array([1, 2, 3, 3, 2, 1])"
            ]
          },
          "metadata": {},
          "execution_count": 81
        }
      ]
    },
    {
      "cell_type": "code",
      "source": [
        "grid = np.array([[1, 2, 3],\n",
        "                 [4, 5, 6]])\n",
        "grid2 = np.array([[7, 8, 9],\n",
        "                  [10, 11, 12]])\n",
        "np.concatenate([grid, grid2]) # слияние по первой оси координат"
      ],
      "metadata": {
        "colab": {
          "base_uri": "https://localhost:8080/"
        },
        "id": "a_J1qJ5rZmTf",
        "outputId": "13783b53-c310-44be-ceb1-631432bccaf6"
      },
      "execution_count": null,
      "outputs": [
        {
          "output_type": "execute_result",
          "data": {
            "text/plain": [
              "array([[ 1,  2,  3],\n",
              "       [ 4,  5,  6],\n",
              "       [ 7,  8,  9],\n",
              "       [10, 11, 12]])"
            ]
          },
          "metadata": {},
          "execution_count": 82
        }
      ]
    },
    {
      "cell_type": "code",
      "source": [
        "np.concatenate([grid, grid], axis=1) # слияние по второй оси координат"
      ],
      "metadata": {
        "colab": {
          "base_uri": "https://localhost:8080/"
        },
        "id": "XI1VOVS2b4zC",
        "outputId": "c9962421-e3df-463e-a942-b6029950d688"
      },
      "execution_count": null,
      "outputs": [
        {
          "output_type": "execute_result",
          "data": {
            "text/plain": [
              "array([[1, 2, 3, 1, 2, 3],\n",
              "       [4, 5, 6, 4, 5, 6]])"
            ]
          },
          "metadata": {},
          "execution_count": 83
        }
      ]
    },
    {
      "cell_type": "code",
      "source": [
        "np.vstack([grid, grid2])"
      ],
      "metadata": {
        "colab": {
          "base_uri": "https://localhost:8080/"
        },
        "id": "Q4XznqL_cGH0",
        "outputId": "bef84b43-4ab9-4310-f009-d28875a7f96d"
      },
      "execution_count": null,
      "outputs": [
        {
          "output_type": "execute_result",
          "data": {
            "text/plain": [
              "array([[ 1,  2,  3],\n",
              "       [ 4,  5,  6],\n",
              "       [ 7,  8,  9],\n",
              "       [10, 11, 12]])"
            ]
          },
          "metadata": {},
          "execution_count": 84
        }
      ]
    },
    {
      "cell_type": "markdown",
      "source": [
        "### **Практическое задание:** \n",
        "Создайте два случайных массива размерностью (3,3) и произведите объединение по горизонтали и вертикали с помощью выше описанных методов"
      ],
      "metadata": {
        "id": "LGmdODSqcrcY"
      }
    },
    {
      "cell_type": "code",
      "source": [
        "x1=np.random.randint(10,size=(3, 3))\n",
        "x2=np.random.randint(10,size=(3, 3))\n",
        "print (x1,'\\n',x2,'\\n---')\n",
        "print (np.hstack([x1, x2]),'\\n',np.vstack([x1, x2]))"
      ],
      "metadata": {
        "id": "btp8zuHUfjG4",
        "colab": {
          "base_uri": "https://localhost:8080/"
        },
        "outputId": "a457da2b-c236-44f3-a96a-ec59799170b3"
      },
      "execution_count": null,
      "outputs": [
        {
          "output_type": "stream",
          "name": "stdout",
          "text": [
            "[[6 3 4]\n",
            " [1 7 1]\n",
            " [1 0 1]] \n",
            " [[9 1 8]\n",
            " [7 1 9]\n",
            " [2 0 4]] \n",
            "---\n",
            "[[6 3 4 9 1 8]\n",
            " [1 7 1 7 1 9]\n",
            " [1 0 1 2 0 4]] \n",
            " [[6 3 4]\n",
            " [1 7 1]\n",
            " [1 0 1]\n",
            " [9 1 8]\n",
            " [7 1 9]\n",
            " [2 0 4]]\n"
          ]
        }
      ]
    },
    {
      "cell_type": "markdown",
      "source": [
        "Разбиение, выполняемое с помощью\n",
        "функций:\n",
        "\n",
        "*   `np.split` - разбивает массив, в качестве аргументов необходимо передавать список индексов, задающих точки раздела\n",
        "*   `np.hsplit` - разбивает массив по горизонтали\n",
        "*   `np.vsplit` - разбивает массив по вертикали\n",
        "*   Новый пункт\n",
        "\n"
      ],
      "metadata": {
        "id": "SK_YvBqMdW0v"
      }
    },
    {
      "cell_type": "code",
      "source": [
        "x = [1, 2, 3, 8, 9, 3, 2, 1]\n",
        "x1, x2, x3 = np.split(x, [3, 5]) # N точек раздела означают N + 1 подмассив\n",
        "print(x1, x2, x3)"
      ],
      "metadata": {
        "colab": {
          "base_uri": "https://localhost:8080/"
        },
        "id": "e6B2pmZVeYl7",
        "outputId": "7c44887f-3270-46bb-e9b1-5e15d58c7d37"
      },
      "execution_count": null,
      "outputs": [
        {
          "output_type": "stream",
          "name": "stdout",
          "text": [
            "[1 2 3] [8 9] [3 2 1]\n"
          ]
        }
      ]
    },
    {
      "cell_type": "code",
      "source": [
        "grid = np.arange(16).reshape((4, 4))\n",
        "grid"
      ],
      "metadata": {
        "colab": {
          "base_uri": "https://localhost:8080/"
        },
        "id": "tlSvwtQHewUY",
        "outputId": "637ec347-d4c7-4cf0-da59-789b994481a1"
      },
      "execution_count": null,
      "outputs": [
        {
          "output_type": "execute_result",
          "data": {
            "text/plain": [
              "array([[ 0,  1,  2,  3],\n",
              "       [ 4,  5,  6,  7],\n",
              "       [ 8,  9, 10, 11],\n",
              "       [12, 13, 14, 15]])"
            ]
          },
          "metadata": {},
          "execution_count": 30
        }
      ]
    },
    {
      "cell_type": "code",
      "source": [
        "upper, lower = np.vsplit(grid, [2])\n",
        "print(upper,'\\n')\n",
        "print(lower)"
      ],
      "metadata": {
        "colab": {
          "base_uri": "https://localhost:8080/"
        },
        "id": "uOFjv041e0TY",
        "outputId": "36425e1e-92f9-490e-a862-683c7608d488"
      },
      "execution_count": null,
      "outputs": [
        {
          "output_type": "stream",
          "name": "stdout",
          "text": [
            "[[0 1 2 3]\n",
            " [4 5 6 7]] \n",
            "\n",
            "[[ 8  9 10 11]\n",
            " [12 13 14 15]]\n"
          ]
        }
      ]
    },
    {
      "cell_type": "code",
      "source": [
        "left, right = np.hsplit(grid, [2])\n",
        "print(left,'\\n')\n",
        "print(right)"
      ],
      "metadata": {
        "colab": {
          "base_uri": "https://localhost:8080/"
        },
        "id": "QrpA3Sawe_or",
        "outputId": "17e91bd6-7b7e-4a49-a8b8-15044c1e5ee0"
      },
      "execution_count": null,
      "outputs": [
        {
          "output_type": "stream",
          "name": "stdout",
          "text": [
            "[[ 0  1]\n",
            " [ 4  5]\n",
            " [ 8  9]\n",
            " [12 13]] \n",
            "\n",
            "[[ 2  3]\n",
            " [ 6  7]\n",
            " [10 11]\n",
            " [14 15]]\n"
          ]
        }
      ]
    },
    {
      "cell_type": "markdown",
      "source": [
        "### **Практическое задание:** \n",
        "Создайте два случайных массива размерностью (5,5) и произведите разделение массива по горизонтали и вертикали с помощью выше описанных методов."
      ],
      "metadata": {
        "id": "vEoRcWfOfViP"
      }
    },
    {
      "cell_type": "code",
      "source": [
        "x1=np.random.randint(10,size=(5, 5))\n",
        "x2=np.random.randint(10,size=(5, 5))\n",
        "print (x1,'\\n',x2,'\\n---')\n",
        "x11, x12, x13 = np.hsplit(x1, [3, 4])\n",
        "x21,x22=np.vsplit(x2, [3])\n",
        "print (x11,'\\n',x12,'\\n',x13)\n",
        "print (x21,'\\n',x22)"
      ],
      "metadata": {
        "id": "wEaqKirzfhIQ",
        "colab": {
          "base_uri": "https://localhost:8080/"
        },
        "outputId": "f873d2f6-d693-45b5-cebd-4658d4ef40ad"
      },
      "execution_count": null,
      "outputs": [
        {
          "output_type": "stream",
          "name": "stdout",
          "text": [
            "[[2 1 8 8 0]\n",
            " [4 8 6 8 3]\n",
            " [6 0 6 1 2]\n",
            " [0 7 4 3 6]\n",
            " [7 4 6 0 3]] \n",
            " [[9 6 3 1 1]\n",
            " [1 1 0 4 3]\n",
            " [5 6 7 1 4]\n",
            " [0 0 4 3 5]\n",
            " [9 0 6 8 4]] \n",
            "---\n",
            "[[2 1 8]\n",
            " [4 8 6]\n",
            " [6 0 6]\n",
            " [0 7 4]\n",
            " [7 4 6]] \n",
            " [[8]\n",
            " [8]\n",
            " [1]\n",
            " [3]\n",
            " [0]] \n",
            " [[0]\n",
            " [3]\n",
            " [2]\n",
            " [6]\n",
            " [3]]\n",
            "[[9 6 3 1 1]\n",
            " [1 1 0 4 3]\n",
            " [5 6 7 1 4]] \n",
            " [[0 0 4 3 5]\n",
            " [9 0 6 8 4]]\n"
          ]
        }
      ]
    },
    {
      "cell_type": "markdown",
      "source": [
        "##2. Выполнение вычислений над массивами библиотеки NumPy: универсальные функции.\n",
        "Библиотека NumPy предоставляет удобный и гибкий интерфейс для оптимизированных вычислений над массивами данных."
      ],
      "metadata": {
        "id": "IDGHZc9831f9"
      }
    },
    {
      "cell_type": "markdown",
      "source": [
        "###2.1 Медлительность циклов.\n",
        "Относительная медлительность Python обычно обнаруживается при повторении множества мелких операций, например при выполнении обработки всех элементов массива в цикле. \n",
        "\n",
        "Пусть у нас имеется массив значений и необходимо вычислить\n",
        "обратную величину каждого из них."
      ],
      "metadata": {
        "id": "C5vl4wZk_lqb"
      }
    },
    {
      "cell_type": "code",
      "source": [
        "import numpy as np\n",
        "np.random.seed(0)\n",
        "def compute_reciprocals(values):\n",
        "  output = np.empty(len(values))\n",
        "  for i in range(len(values)):\n",
        "    output[i] = 1.0 / values[i]\n",
        "  return output\n",
        "values = np.random.randint(1, 10, size=5)\n",
        "compute_reciprocals(values)"
      ],
      "metadata": {
        "colab": {
          "base_uri": "https://localhost:8080/"
        },
        "id": "8HMvR646C_hS",
        "outputId": "8c9dcb08-6a18-4992-8586-52869d069321"
      },
      "execution_count": null,
      "outputs": [
        {
          "output_type": "execute_result",
          "data": {
            "text/plain": [
              "array([0.16666667, 1.        , 0.25      , 0.25      , 0.125     ])"
            ]
          },
          "metadata": {},
          "execution_count": 97
        }
      ]
    },
    {
      "cell_type": "code",
      "source": [
        "# Оценим это время с помощью «магической» функции %timeit\n",
        "big_array = np.random.randint(1, 100, size=1000000)\n",
        "%timeit compute_reciprocals(big_array)"
      ],
      "metadata": {
        "colab": {
          "base_uri": "https://localhost:8080/"
        },
        "id": "ALIX50ZHDkHR",
        "outputId": "2f94e834-603e-4c0d-8353-2927f06e7717"
      },
      "execution_count": null,
      "outputs": [
        {
          "output_type": "stream",
          "name": "stdout",
          "text": [
            "2.27 s ± 39 ms per loop (mean ± std. dev. of 7 runs, 1 loop each)\n"
          ]
        }
      ]
    },
    {
      "cell_type": "markdown",
      "source": [
        "Выполнение миллионов операций и сохранение результата заняло несколько секунд! В наши дни, когда даже у смартфонов быстродействие измеряется в гигафлопсах (то есть миллиардах операций с плавающей точкой в секунду), это представляется медленным практически до абсурда. Оказывается, проблема не\n",
        "в самих операциях, а в проверке типов и диспетчеризации функций, выполняемых Python при каждом проходе цикла. Всякий раз, когда вычисляется обратная величина, Python сначала проверяет тип объекта и выполняет динамический поиск подходящей для этого типа функции. Если работа проводилась с компилируемым кодом, сведения о типе были бы известны до выполнения кода, а значит, результат\n",
        "вычислялся бы намного эффективнее."
      ],
      "metadata": {
        "id": "I4rSogQbEUW1"
      }
    },
    {
      "cell_type": "markdown",
      "source": [
        "###2.2 Введение в универсальные функции.\n",
        "Библиотека NumPy предоставляет для многих типов операций удобный интерфейс для компилируемой процедуры со статической типизацией. Он известен под названием векторизованной операции.\n",
        "\n",
        "Векторизованные операции в библиотеке NumPy реализованы посредством универсальных функций (ufuncs), главная задача которых состоит в быстром выполнении повторяющихся операций над значениями из массивов библиотеки NumPy."
      ],
      "metadata": {
        "id": "TJ42854x_3JP"
      }
    },
    {
      "cell_type": "code",
      "source": [
        "x = np.arange(9).reshape((3, 3))\n",
        "x2 = 2**x\n",
        "print(x)\n",
        "print()\n",
        "print(x2)"
      ],
      "metadata": {
        "colab": {
          "base_uri": "https://localhost:8080/"
        },
        "id": "-bxbZS6KHTg6",
        "outputId": "2bb7a6e8-4f8f-4901-ae77-112a5f11c61a"
      },
      "execution_count": null,
      "outputs": [
        {
          "output_type": "stream",
          "name": "stdout",
          "text": [
            "[[0 1 2]\n",
            " [3 4 5]\n",
            " [6 7 8]]\n",
            "\n",
            "[[  1   2   4]\n",
            " [  8  16  32]\n",
            " [ 64 128 256]]\n"
          ]
        }
      ]
    },
    {
      "cell_type": "markdown",
      "source": [
        "Вычисления с применением векторизации посредством универсальных функций практически всегда более эффективны, чем их эквиваленты, реализованные с помощью циклов Python, особенно при росте размера массивов. Столкнувшись с подобным циклом в сценарии на языке Python, следует обдумать, не стоит ли заменить его векторизованным выражением."
      ],
      "metadata": {
        "id": "T_-N8JetGaMD"
      }
    },
    {
      "cell_type": "markdown",
      "source": [
        "###2.3 Обзор универсальных функций библиотеки NumPy\n",
        "Существует два вида универсальных функций: унарные универсальные функции, с одним аргументом, и бинарные, с двумя аргументами.\n",
        "\n",
        "2.3.1 **Арифметические функции над массивами**\n",
        "\n",
        "Универсальные функции библиотеки NumPy очень просты в использовании, поскольку применяют нативные арифметические операторы языка Python.\n",
        "\n"
      ],
      "metadata": {
        "id": "X2q1j0s1AHlF"
      }
    },
    {
      "cell_type": "code",
      "source": [
        "x = np.arange(4)\n",
        "print(\"x =\", x)\n",
        "print(\"x + 5 =\", x + 5) # сложение\n",
        "print(\"x - 5 =\", x - 5) # вычитание\n",
        "print(\"x * 2 =\", x * 2) # умножение\n",
        "print(\"x / 2 =\", x / 2) # деление\n",
        "print(\"x // 2 =\", x // 2) # деление с округлением в меньшую сторону\n",
        "print(\"-x = \", -x)         # операции изменения знака\n",
        "print(\"x ** 2 = \", x ** 2) # возведения в степень\n",
        "print(\"x % 2 = \", x % 2)   # деление по модулю"
      ],
      "metadata": {
        "colab": {
          "base_uri": "https://localhost:8080/"
        },
        "id": "p5FMSi2pJaHo",
        "outputId": "2e045d62-f2eb-4534-f2ca-64e06fb26018"
      },
      "execution_count": null,
      "outputs": [
        {
          "output_type": "stream",
          "name": "stdout",
          "text": [
            "x = [0 1 2 3]\n",
            "x + 5 = [5 6 7 8]\n",
            "x - 5 = [-5 -4 -3 -2]\n",
            "x * 2 = [0 2 4 6]\n",
            "x / 2 = [0.  0.5 1.  1.5]\n",
            "x // 2 = [0 0 1 1]\n",
            "-x =  [ 0 -1 -2 -3]\n",
            "x ** 2 =  [0 1 4 9]\n",
            "x % 2 =  [0 1 0 1]\n"
          ]
        }
      ]
    },
    {
      "cell_type": "markdown",
      "source": [
        "Все арифметические операции — удобные адаптеры для встроенных функций библиотеки NumPy.\n",
        "\n",
        "Оператор Эквивалентная универсальная Описание\n",
        "функция\n",
        "\n",
        "\n",
        "*   `+` - `np.add`           Сложение\n",
        "*   `–` - `np.subtract`      Вычитание \n",
        "*   `–` - `np.negative`      Унарная операция изменения знака\n",
        "*   `*` - `np.multiply`      Умножение \n",
        "*   `/` - `np.divide`        Деление \n",
        "*   `//` -  `np.floor_divide` Деление с округлением в меньшую сторону\n",
        "*   `**` - `np.power`        Возведение в степень\n",
        "*   `%` - `np.mod`           Модуль/остаток\n",
        "*   `np.sqrt` - Вычисляет квадратный корень из каждого элемента\n",
        "массива (эквивалентно arr ** 0.5)\n",
        "*   `np.square` - Вычисляет квадрат каждого элемента массива (эквива‐лентно arr ** 2)\n",
        "*   `np.ceil` - Вычисляет наименьшее целое число большее либо равное каждого элемента массива\n",
        "*   `np.floor` - Вычисляет наибольшее целое число меньшее либо равное каждого элемента массива\n",
        "*   `np.rint` - Округляет элементы к ближайшим целым сохраняя\n",
        "dtype\n",
        "*   `np.modf` - Возвращает дробные и целые части каждого элемента\n",
        "массива\n",
        "\n",
        "\n",
        "\n",
        "\n",
        "\n",
        "\n"
      ],
      "metadata": {
        "id": "tZhZSVbRK7D7"
      }
    },
    {
      "cell_type": "markdown",
      "source": [
        "2.3.2 **Абсолютное значение**\n",
        "\n",
        "Аналогично тому, что библиотека NumPy понимает встроенные арифметические операторы, она также понимает встроенную функцию абсолютного значения языка Python:"
      ],
      "metadata": {
        "id": "pP4r7pyuO2xM"
      }
    },
    {
      "cell_type": "code",
      "source": [
        "x = np.array([-2, -1, 0, 1, 2])\n",
        "abs(x)"
      ],
      "metadata": {
        "colab": {
          "base_uri": "https://localhost:8080/"
        },
        "id": "f4tMWl8aPHSi",
        "outputId": "ec30e981-3f61-4669-c005-cd339e2059f3"
      },
      "execution_count": null,
      "outputs": [
        {
          "output_type": "execute_result",
          "data": {
            "text/plain": [
              "array([2, 1, 0, 1, 2])"
            ]
          },
          "metadata": {},
          "execution_count": 9
        }
      ]
    },
    {
      "cell_type": "markdown",
      "source": [
        "Соответствующая универсальная функция библиотеки NumPy\n",
        "\n",
        "*   `np.absolute` Абсолютное значение\n",
        "*   `np.abs` Абсолютное значение, псевдоним выше описанной функции\n",
        "\n"
      ],
      "metadata": {
        "id": "6hSQOvJ9PUCM"
      }
    },
    {
      "cell_type": "code",
      "source": [
        "np.absolute(x)"
      ],
      "metadata": {
        "colab": {
          "base_uri": "https://localhost:8080/"
        },
        "id": "b38zRKSDPxgr",
        "outputId": "092b3398-5b6e-42cf-8949-be1b953bdc87"
      },
      "execution_count": null,
      "outputs": [
        {
          "output_type": "execute_result",
          "data": {
            "text/plain": [
              "array([2, 1, 0, 1, 2])"
            ]
          },
          "metadata": {},
          "execution_count": 10
        }
      ]
    },
    {
      "cell_type": "code",
      "source": [
        "np.abs(x)"
      ],
      "metadata": {
        "colab": {
          "base_uri": "https://localhost:8080/"
        },
        "id": "mwfLEQk8P1mi",
        "outputId": "630bf9ca-13f6-4ea6-ea41-ca10763a3080"
      },
      "execution_count": null,
      "outputs": [
        {
          "output_type": "execute_result",
          "data": {
            "text/plain": [
              "array([2, 1, 0, 1, 2])"
            ]
          },
          "metadata": {},
          "execution_count": 11
        }
      ]
    },
    {
      "cell_type": "markdown",
      "source": [
        "2.3.3 **Тригонометрические функции**\n",
        "\n",
        "Библиотека NumPy предоставляет множество универсальных функций, одни из наиболее важных — тригонометрические функции."
      ],
      "metadata": {
        "id": "Zgk5suSrQFlt"
      }
    },
    {
      "cell_type": "code",
      "source": [
        "theta = np.linspace(0, np.pi, 3)\n",
        "print(\"theta      = \",theta)\n",
        "print(\"sin(theta) = \",np.sin(theta))\n",
        "print(\"cos(theta) = \",np.cos(theta))\n",
        "print(\"tan(theta) = \",np.tan(theta))"
      ],
      "metadata": {
        "colab": {
          "base_uri": "https://localhost:8080/"
        },
        "id": "2t76STSWQVaz",
        "outputId": "9734c11f-78a4-4adb-e09f-cf439b558158"
      },
      "execution_count": null,
      "outputs": [
        {
          "output_type": "stream",
          "name": "stdout",
          "text": [
            "theta      =  [0.         1.57079633 3.14159265]\n",
            "sin(theta) =  [0.0000000e+00 1.0000000e+00 1.2246468e-16]\n",
            "cos(theta) =  [ 1.000000e+00  6.123234e-17 -1.000000e+00]\n",
            "tan(theta) =  [ 0.00000000e+00  1.63312394e+16 -1.22464680e-16]\n"
          ]
        }
      ]
    },
    {
      "cell_type": "markdown",
      "source": [
        "Доступны для использования также обратные тригонометрические функции:"
      ],
      "metadata": {
        "id": "BGczsQ-4XdGD"
      }
    },
    {
      "cell_type": "code",
      "source": [
        "import numpy as np\n",
        "x = [-1, 0, 1]\n",
        "print(\"x = \",x)\n",
        "print(\"arcsin(x) = \",np.arcsin(x) ) \n",
        "print(\"arccos(x) = \",np.arccos(x) ) \n",
        "print(\"arctan(x) = \",np.arctan(x) ) "
      ],
      "metadata": {
        "colab": {
          "base_uri": "https://localhost:8080/"
        },
        "id": "-89aSnGTXhQq",
        "outputId": "385921a7-642b-45ef-8a68-47dbb03a722a"
      },
      "execution_count": null,
      "outputs": [
        {
          "output_type": "stream",
          "name": "stdout",
          "text": [
            "x =  [-1, 0, 1]\n",
            "arcsin(x) =  [-1.57079633  0.          1.57079633]\n",
            "arccos(x) =  [3.14159265 1.57079633 0.        ]\n",
            "arctan(x) =  [-0.78539816  0.          0.78539816]\n"
          ]
        }
      ]
    },
    {
      "cell_type": "markdown",
      "source": [
        "2.3.4 **Показательные функции и логарифмы**\n",
        "\n",
        "Показательные функции доступны в библиотеке NumPy:"
      ],
      "metadata": {
        "id": "wSH6yXLwYH5E"
      }
    },
    {
      "cell_type": "code",
      "source": [
        "x = [1, 2, 3]\n",
        "print(\"x =\", x)\n",
        "print(\"e^x =\", np.exp(x))\n",
        "print(\"2^x =\", np.exp2(x))\n",
        "print(\"3^x =\", np.power(3, x))"
      ],
      "metadata": {
        "colab": {
          "base_uri": "https://localhost:8080/"
        },
        "id": "U4nIYhVNZBRD",
        "outputId": "43817edc-f54a-4e34-b35a-ed94dadfdb48"
      },
      "execution_count": null,
      "outputs": [
        {
          "output_type": "stream",
          "name": "stdout",
          "text": [
            "x = [1, 2, 3]\n",
            "e^x = [ 2.71828183  7.3890561  20.08553692]\n",
            "2^x = [2. 4. 8.]\n",
            "3^x = [ 3  9 27]\n"
          ]
        }
      ]
    },
    {
      "cell_type": "markdown",
      "source": [
        "Логарифмические функции"
      ],
      "metadata": {
        "id": "BJ1na5seaQAF"
      }
    },
    {
      "cell_type": "code",
      "source": [
        "x = [1, 2, 4, 10]\n",
        "print(\"x =\", x)\n",
        "print(\"ln(x) =\", np.log(x))\n",
        "print(\"log2(x) =\", np.log2(x))\n",
        "print(\"log10(x) =\", np.log10(x))"
      ],
      "metadata": {
        "colab": {
          "base_uri": "https://localhost:8080/"
        },
        "id": "oPHs-i3_aYCU",
        "outputId": "c36bd0f7-fa7e-449e-c656-4cac239cd895"
      },
      "execution_count": null,
      "outputs": [
        {
          "output_type": "stream",
          "name": "stdout",
          "text": [
            "x = [1, 2, 4, 10]\n",
            "ln(x) = [0.         0.69314718 1.38629436 2.30258509]\n",
            "log2(x) = [0.         1.         2.         3.32192809]\n",
            "log10(x) = [0.         0.30103    0.60205999 1.        ]\n"
          ]
        }
      ]
    },
    {
      "cell_type": "markdown",
      "source": [
        "Еще больше специализированных и сложных универсальных функций можно найти в подмодуле `scipy.special`."
      ],
      "metadata": {
        "id": "w-ruRKr1byxb"
      }
    },
    {
      "cell_type": "markdown",
      "source": [
        "### **Практическое задание:**\n",
        "\n",
        "\n",
        "1.   Создайте два массива случайный целых чисел размерностью (5,4) \n",
        "1.   Прибавьте к созданному массиву число 5\n",
        "2.   Результирующий массив умножьте на 3\n",
        "2.   Разделите на 2 и округлите до ближайшего целого числа\n",
        "1.   Создайте массив из 10 элементов линейного пространста от нуля до *Пи*\n",
        "1.   Создайте три массива основных тригонометрических функций ранее заданных значений.\n",
        "\n"
      ],
      "metadata": {
        "id": "HccukqjdWPEr"
      }
    },
    {
      "cell_type": "code",
      "source": [
        "x1=np.random.randint(5,size=(5, 4))\n",
        "x2=np.random.randint(20,size=(5, 4))\n",
        "print(x1,'\\n\\n',x2)"
      ],
      "metadata": {
        "colab": {
          "base_uri": "https://localhost:8080/"
        },
        "id": "EJXCPDZGhkJh",
        "outputId": "36b04241-3840-4c10-f23d-a1668e694db5"
      },
      "execution_count": null,
      "outputs": [
        {
          "output_type": "stream",
          "name": "stdout",
          "text": [
            "[[3 0 2 3]\n",
            " [2 0 2 0]\n",
            " [0 3 2 1]\n",
            " [3 1 3 4]\n",
            " [0 1 1 3]] \n",
            "\n",
            " [[ 5  4 19  0]\n",
            " [19 13 17  6]\n",
            " [ 7 17  2  2]\n",
            " [ 0 19  6  7]\n",
            " [15 18  1 11]]\n"
          ]
        }
      ]
    },
    {
      "cell_type": "code",
      "source": [
        "x3=np.add(x1,5)\n",
        "print (x3)"
      ],
      "metadata": {
        "colab": {
          "base_uri": "https://localhost:8080/"
        },
        "id": "C5vhsGw9hmzx",
        "outputId": "59237380-9ea0-4fc5-9453-3b38d9cb3233"
      },
      "execution_count": null,
      "outputs": [
        {
          "output_type": "stream",
          "name": "stdout",
          "text": [
            "[[8 5 7 8]\n",
            " [7 5 7 5]\n",
            " [5 8 7 6]\n",
            " [8 6 8 9]\n",
            " [5 6 6 8]]\n"
          ]
        }
      ]
    },
    {
      "cell_type": "code",
      "source": [
        "x4=np.multiply(x3,3)\n",
        "print (x4)"
      ],
      "metadata": {
        "colab": {
          "base_uri": "https://localhost:8080/"
        },
        "id": "kdK6SwCOhl-N",
        "outputId": "970e51ae-7feb-48d3-f18a-324a50d34001"
      },
      "execution_count": null,
      "outputs": [
        {
          "output_type": "stream",
          "name": "stdout",
          "text": [
            "[[24 15 21 24]\n",
            " [21 15 21 15]\n",
            " [15 24 21 18]\n",
            " [24 18 24 27]\n",
            " [15 18 18 24]]\n"
          ]
        }
      ]
    },
    {
      "cell_type": "code",
      "source": [
        "x5=np.rint(np.divide(x4,2))\n",
        "print (x5)"
      ],
      "metadata": {
        "colab": {
          "base_uri": "https://localhost:8080/"
        },
        "id": "MjLtvaSkhltg",
        "outputId": "f9171240-081f-4174-b295-9f0f0cae4825"
      },
      "execution_count": null,
      "outputs": [
        {
          "output_type": "stream",
          "name": "stdout",
          "text": [
            "[[12.  8. 10. 12.]\n",
            " [10.  8. 10.  8.]\n",
            " [ 8. 12. 10.  9.]\n",
            " [12.  9. 12. 14.]\n",
            " [ 8.  9.  9. 12.]]\n"
          ]
        }
      ]
    },
    {
      "cell_type": "code",
      "source": [
        "theta = np.linspace(0, np.pi, 10)\n",
        "theta"
      ],
      "metadata": {
        "colab": {
          "base_uri": "https://localhost:8080/"
        },
        "id": "yrNie5-UhleR",
        "outputId": "fc83c50e-5b12-4e6f-c18b-4425955e5dcf"
      },
      "execution_count": null,
      "outputs": [
        {
          "output_type": "execute_result",
          "data": {
            "text/plain": [
              "array([0.        , 0.34906585, 0.6981317 , 1.04719755, 1.3962634 ,\n",
              "       1.74532925, 2.0943951 , 2.44346095, 2.7925268 , 3.14159265])"
            ]
          },
          "metadata": {},
          "execution_count": 106
        }
      ]
    },
    {
      "cell_type": "code",
      "source": [
        "theta_sin=np.sin(theta)\n",
        "theta_cos=np.cos(theta)\n",
        "theta_tan=np.tan(theta)\n",
        "print (theta_sin)\n",
        "print (theta_cos)\n",
        "print (theta_tan)"
      ],
      "metadata": {
        "colab": {
          "base_uri": "https://localhost:8080/"
        },
        "id": "oozcaO5ehlNu",
        "outputId": "e3e1f115-e788-4ef2-b5aa-6917a540fafd"
      },
      "execution_count": null,
      "outputs": [
        {
          "output_type": "stream",
          "name": "stdout",
          "text": [
            "[0.00000000e+00 3.42020143e-01 6.42787610e-01 8.66025404e-01\n",
            " 9.84807753e-01 9.84807753e-01 8.66025404e-01 6.42787610e-01\n",
            " 3.42020143e-01 1.22464680e-16]\n",
            "[ 1.          0.93969262  0.76604444  0.5         0.17364818 -0.17364818\n",
            " -0.5        -0.76604444 -0.93969262 -1.        ]\n",
            "[ 0.00000000e+00  3.63970234e-01  8.39099631e-01  1.73205081e+00\n",
            "  5.67128182e+00 -5.67128182e+00 -1.73205081e+00 -8.39099631e-01\n",
            " -3.63970234e-01 -1.22464680e-16]\n"
          ]
        }
      ]
    },
    {
      "cell_type": "markdown",
      "source": [
        "2.3.5 **Линейная алгебра**\n",
        "\n",
        "Матричные вычисления, такие как умножение матриц, построение разложений матриц, вычисление определителя и др. являются важной частью любой библиотеки программ для численных расчетов.\n",
        "Часто используемые функции модуля `np.linalg`\n",
        "*   `diag` - Возвращает диагональные элементы квадратной матрицы в виде одномерного массива или преобразует одномерный массив в квадратную матрицу с нулями вне\n",
        "диагонали.\n",
        "*   `dot` - Умножение матриц\n",
        "*   `trace` - След матрицы — сумма диагональных элементов\n",
        "*   `det` - Определитель матрицы\n",
        "*   `eig` - Вычисляет собственные значения и собственные векторы квадратной матрицы\n",
        "*   `inv` - Вычисляет обратную матрицу\n",
        "*   `pinv` - Вычисляет псевдообратную матрицу Мура—Пенроуза\n",
        "*   `qr` - Вычисляет QR разложение матрицы\n",
        "*   `svd` - Вычисляет сингулярное разложение матрицы (SVD)\n",
        "*   `solve` - Решает линейную систему `Ax = b`, где A — квадратная матрица\n",
        "*   `lstsq` - Находит решение линейной системы `Ax = b` методом\n",
        "наименьших квадратов\n",
        "\n",
        "\n"
      ],
      "metadata": {
        "id": "baA8kQviO8Y-"
      }
    },
    {
      "cell_type": "code",
      "source": [
        "x = np.array([[1., 2., 3.], [4., 5., 6.]])\n",
        "y = np.array([[6., 23.], [1., 7.], [8., 9.]])"
      ],
      "metadata": {
        "id": "z47mgPRjRhuI"
      },
      "execution_count": null,
      "outputs": []
    },
    {
      "cell_type": "code",
      "source": [
        "print(x)\n",
        "print()\n",
        "print(y)"
      ],
      "metadata": {
        "colab": {
          "base_uri": "https://localhost:8080/"
        },
        "id": "PRPaHxd2RtYE",
        "outputId": "779ddb18-2a69-4cde-fa37-ed4513e49464"
      },
      "execution_count": null,
      "outputs": [
        {
          "output_type": "stream",
          "name": "stdout",
          "text": [
            "[[1. 2. 3.]\n",
            " [4. 5. 6.]]\n",
            "\n",
            "[[ 6. 23.]\n",
            " [ 1.  7.]\n",
            " [ 8.  9.]]\n"
          ]
        }
      ]
    },
    {
      "cell_type": "code",
      "source": [
        "x.dot(y) # эквивалентно np.dot(x, y)"
      ],
      "metadata": {
        "colab": {
          "base_uri": "https://localhost:8080/"
        },
        "id": "vizAcuxCSdjd",
        "outputId": "6e576028-3886-4dcc-d615-a41a83022ec3"
      },
      "execution_count": null,
      "outputs": [
        {
          "output_type": "execute_result",
          "data": {
            "text/plain": [
              "array([[ 32.,  64.],\n",
              "       [ 77., 181.]])"
            ]
          },
          "metadata": {},
          "execution_count": 21
        }
      ]
    },
    {
      "cell_type": "code",
      "source": [
        "from numpy.linalg import inv, qr\n",
        "X = np.random.randn(5, 5)\n",
        "mat = X.T.dot(X)\n",
        "inv(mat)"
      ],
      "metadata": {
        "colab": {
          "base_uri": "https://localhost:8080/"
        },
        "id": "BfQUiyaPSyRg",
        "outputId": "dc61e7c4-b9bb-427e-fa29-5e1b05f91bd1"
      },
      "execution_count": null,
      "outputs": [
        {
          "output_type": "execute_result",
          "data": {
            "text/plain": [
              "array([[ 0.4241465 , -0.03413622, -0.31164907,  0.01197815, -0.12864181],\n",
              "       [-0.03413622,  0.9308639 ,  0.00212023, -0.1847668 , -0.34109608],\n",
              "       [-0.31164907,  0.00212023,  0.47812088, -0.02166794,  0.17718975],\n",
              "       [ 0.01197815, -0.1847668 , -0.02166794,  0.29284797,  0.23590671],\n",
              "       [-0.12864181, -0.34109608,  0.17718975,  0.23590671,  0.5071617 ]])"
            ]
          },
          "metadata": {},
          "execution_count": 22
        }
      ]
    },
    {
      "cell_type": "markdown",
      "source": [
        "### **Практическое задание:**\n",
        "\n",
        "\n",
        "1.   Создайте два массива случайный целых чисел размерностью (5,4) и (4,5)\n",
        "1.   Произведите скалярное произведение массивов\n",
        "2.   Найдите след результирующей матрицы\n",
        "2.   Найдите определитель матрицы \n",
        "1.   Вычислите обратную матрицу"
      ],
      "metadata": {
        "id": "h8U1gzRHThAt"
      }
    },
    {
      "cell_type": "code",
      "source": [
        "x1=np.random.randint(10,size=(5, 4))\n",
        "x2=np.random.randint(10,size=(4, 5))\n",
        "print(x1,'\\n\\n',x2)"
      ],
      "metadata": {
        "colab": {
          "base_uri": "https://localhost:8080/"
        },
        "id": "KSqDyLS8pAjd",
        "outputId": "78bc88e5-194c-4c17-f9e3-708efd4d6779"
      },
      "execution_count": null,
      "outputs": [
        {
          "output_type": "stream",
          "name": "stdout",
          "text": [
            "[[3 4 5 2]\n",
            " [9 9 2 1]\n",
            " [5 1 4 8]\n",
            " [5 9 7 8]\n",
            " [9 6 7 3]] \n",
            "\n",
            " [[3 7 8 3 6]\n",
            " [3 9 2 2 4]\n",
            " [7 8 7 1 8]\n",
            " [2 1 6 0 0]]\n"
          ]
        }
      ]
    },
    {
      "cell_type": "code",
      "source": [
        "x3=np.dot(x1, x2)\n",
        "print(x3)"
      ],
      "metadata": {
        "colab": {
          "base_uri": "https://localhost:8080/"
        },
        "id": "zaDi7Pbxo_ok",
        "outputId": "e37c6d36-d33e-4f03-c84d-fb1a83fa549d"
      },
      "execution_count": null,
      "outputs": [
        {
          "output_type": "stream",
          "name": "stdout",
          "text": [
            "[[ 60  99  79  22  74]\n",
            " [ 70 161 110  47 106]\n",
            " [ 62  84 118  21  66]\n",
            " [107 180 155  40 122]\n",
            " [100 176 151  46 134]]\n"
          ]
        }
      ]
    },
    {
      "cell_type": "code",
      "source": [
        "np.trace(x3)"
      ],
      "metadata": {
        "colab": {
          "base_uri": "https://localhost:8080/"
        },
        "id": "hTv1keVNo_Y8",
        "outputId": "111d21b5-e5db-450b-89f3-34bb5df49eea"
      },
      "execution_count": null,
      "outputs": [
        {
          "output_type": "execute_result",
          "data": {
            "text/plain": [
              "513"
            ]
          },
          "metadata": {},
          "execution_count": 113
        }
      ]
    },
    {
      "cell_type": "code",
      "source": [
        "np.linalg.det(x3)"
      ],
      "metadata": {
        "colab": {
          "base_uri": "https://localhost:8080/"
        },
        "id": "UfTA993Io_M8",
        "outputId": "06419f2d-0fec-4c0b-c90d-44b4664122e9"
      },
      "execution_count": null,
      "outputs": [
        {
          "output_type": "execute_result",
          "data": {
            "text/plain": [
              "1.6048687712100245e-08"
            ]
          },
          "metadata": {},
          "execution_count": 115
        }
      ]
    },
    {
      "cell_type": "code",
      "source": [
        "np.linalg.inv(x3)"
      ],
      "metadata": {
        "colab": {
          "base_uri": "https://localhost:8080/"
        },
        "id": "LIKh32pmo-_s",
        "outputId": "da646fa2-1319-4b54-ec15-fda9bb4b4df8"
      },
      "execution_count": null,
      "outputs": [
        {
          "output_type": "execute_result",
          "data": {
            "text/plain": [
              "array([[-8.72175984e+13, -2.64186086e+13, -2.78662036e+13,\n",
              "         3.32946849e+13,  5.24753185e+13],\n",
              "       [ 3.76621448e+13,  1.14080356e+13,  1.20331334e+13,\n",
              "        -1.43772503e+13, -2.26597966e+13],\n",
              "       [ 2.27955087e+13,  6.90486362e+12,  7.28321232e+12,\n",
              "        -8.70201991e+12, -1.37151401e+13],\n",
              "       [-1.31817507e+14, -3.99281244e+13, -4.21159669e+13,\n",
              "         5.03203760e+13,  7.93092883e+13],\n",
              "       [ 3.51843721e+13,  1.06575069e+13,  1.12414799e+13,\n",
              "        -1.34313786e+13, -2.11690206e+13]])"
            ]
          },
          "metadata": {},
          "execution_count": 116
        }
      ]
    },
    {
      "cell_type": "markdown",
      "source": [
        "###2.4 Генерация псевдослучайных числел\n",
        "\n",
        "Модуль `numpy.random` дополняет встроенный в Python модуль random функциями для эффективной для эффективной генерации целых массивов выборок, подчиненых многим видам вероятностных распределений.\n",
        "\n",
        "Некоторые функции модуля `numpy.random`:\n",
        "\n",
        "\n",
        "*   `seed` - Начальная точка генератора случайных чисел\n",
        "*   `permutation` - Возвращает случайную перестановку последовательности или возвращает переставленный диапазон\n",
        "*   `shuffle` - Произвольно переставляет последовательность\n",
        "*   `rand` - Генерирует выборку из равномерного распределения\n",
        "*   `randint` - Генерирует случайные целые числа из заданного интервала\n",
        "*   `binomial` - Генерирует выборку из нормального распределения со средним значением 0 и стандартным отклонением 1\n",
        "*   `normal` - Генерирует выборку из биномиального распределения\n",
        "*   `beta` - Генерирует выборку из β‐распределения\n",
        "*   `chisquare` - Генерирует выборку из χ2 ‐распределения\n",
        "*   `gamma` - Генерирует выборку из Γ‐распределения\n",
        "*   `uniform` - Генерирует выборку из равномерного распределения\n",
        "на [0,1)\n"
      ],
      "metadata": {
        "id": "iXLMhMsqUclJ"
      }
    },
    {
      "cell_type": "code",
      "source": [
        "import numpy as np"
      ],
      "metadata": {
        "id": "hyCWM7VYoulp"
      },
      "execution_count": null,
      "outputs": []
    },
    {
      "cell_type": "code",
      "source": [
        "samples = np.random.normal(size=(4, 4))\n",
        "samples"
      ],
      "metadata": {
        "colab": {
          "base_uri": "https://localhost:8080/"
        },
        "id": "rMSxvcutob-_",
        "outputId": "34dbd155-2e35-40cb-eed9-6631d0a163dc"
      },
      "execution_count": null,
      "outputs": [
        {
          "output_type": "execute_result",
          "data": {
            "text/plain": [
              "array([[-1.37765592, -0.29505857,  0.43236939, -0.05233282],\n",
              "       [ 0.44775713, -0.64576143,  0.49211218,  1.25269233],\n",
              "       [-0.48329879,  0.02075896,  1.73091466, -1.07798862],\n",
              "       [-0.67845393,  0.94380066, -1.00638858, -0.33889471]])"
            ]
          },
          "metadata": {},
          "execution_count": 3
        }
      ]
    },
    {
      "cell_type": "code",
      "source": [
        "np.random.seed(1234) # изменить начальное число генератора случайных чисел, используют глобальное начальное число"
      ],
      "metadata": {
        "id": "gGNbHr3dpA8b"
      },
      "execution_count": null,
      "outputs": []
    },
    {
      "cell_type": "code",
      "source": [
        "rng = np.random.RandomState(1234) # для создания генератора случайных чисел, изолированного от других\n",
        "rng.randn(10)"
      ],
      "metadata": {
        "colab": {
          "base_uri": "https://localhost:8080/"
        },
        "id": "l6cyDLTipNBK",
        "outputId": "59aed49c-b987-4074-e171-7bbc0da75477"
      },
      "execution_count": null,
      "outputs": [
        {
          "output_type": "execute_result",
          "data": {
            "text/plain": [
              "array([ 0.47143516, -1.19097569,  1.43270697, -0.3126519 , -0.72058873,\n",
              "        0.88716294,  0.85958841, -0.6365235 ,  0.01569637, -2.24268495])"
            ]
          },
          "metadata": {},
          "execution_count": 5
        }
      ]
    },
    {
      "cell_type": "markdown",
      "source": [
        "### **Практическое задание:**\n",
        "\n",
        "1.   Создайте массив случайный целых чисел размерностью (5,5)\n",
        "1.   Произвольным образом переставьте все элементы массива и выведити на печать\n",
        "2.   Сгенерируйте произвольную выборку из равномерного распределения"
      ],
      "metadata": {
        "id": "j68Z1nG-pmOY"
      }
    },
    {
      "cell_type": "code",
      "source": [
        "x1=np.random.randint(100,size=(5, 5))\n",
        "x1"
      ],
      "metadata": {
        "colab": {
          "base_uri": "https://localhost:8080/"
        },
        "id": "s6INcnw-sNnO",
        "outputId": "ce7cf139-2944-4720-8306-6d43fcb69c5d"
      },
      "execution_count": null,
      "outputs": [
        {
          "output_type": "execute_result",
          "data": {
            "text/plain": [
              "array([[80, 29, 10, 53, 16],\n",
              "       [21, 44, 33,  4, 39],\n",
              "       [ 8, 65, 13, 75, 57],\n",
              "       [21, 16, 11,  2, 19],\n",
              "       [14, 96, 77, 99,  5]])"
            ]
          },
          "metadata": {},
          "execution_count": 117
        }
      ]
    },
    {
      "cell_type": "code",
      "source": [
        "x2=np.random.permutation(x1)\n",
        "print (x2)\n",
        "np.random.shuffle(x1)\n",
        "print (x1)"
      ],
      "metadata": {
        "colab": {
          "base_uri": "https://localhost:8080/"
        },
        "id": "OMBfnr-rsNbu",
        "outputId": "4175039b-212a-437b-e43f-f70a16036c09"
      },
      "execution_count": null,
      "outputs": [
        {
          "output_type": "stream",
          "name": "stdout",
          "text": [
            "[[80 29 10 53 16]\n",
            " [21 16 11  2 19]\n",
            " [ 8 65 13 75 57]\n",
            " [14 96 77 99  5]\n",
            " [21 44 33  4 39]]\n",
            "[[80 29 10 53 16]\n",
            " [ 8 65 13 75 57]\n",
            " [14 96 77 99  5]\n",
            " [21 44 33  4 39]\n",
            " [21 16 11  2 19]]\n"
          ]
        }
      ]
    },
    {
      "cell_type": "code",
      "source": [
        "np.random.randn(5)"
      ],
      "metadata": {
        "colab": {
          "base_uri": "https://localhost:8080/"
        },
        "id": "2BZYGEMSsNNh",
        "outputId": "7e0d67b3-9a1c-4a5a-b232-0e5652696407"
      },
      "execution_count": null,
      "outputs": [
        {
          "output_type": "execute_result",
          "data": {
            "text/plain": [
              "array([-0.56865177,  0.76045657, -0.83915641,  1.33290107, -0.18319477])"
            ]
          },
          "metadata": {},
          "execution_count": 123
        }
      ]
    },
    {
      "cell_type": "markdown",
      "source": [
        "###2.5 Продвинутые возможности универсальных функций.\n",
        "\n",
        "**Указание массива для вывода результата**\n",
        "\n",
        "При больших вычислениях удобно задать массив, в котором будет сохранен результат вычисления. Вместо того чтобы создавать временный массив, можно воспользоваться этой возможностью для записи результатов вычислений непосредственно в нужное вам место памяти. Сделать это для любой универсальной функции можно\n",
        "с помощью аргумента `out` :\n"
      ],
      "metadata": {
        "id": "Pie1dAHZAQpi"
      }
    },
    {
      "cell_type": "code",
      "source": [
        "x = np.arange(5)\n",
        "y = np.empty(5)\n",
        "np.multiply(x, 10, out=y)\n",
        "print(y)"
      ],
      "metadata": {
        "colab": {
          "base_uri": "https://localhost:8080/"
        },
        "id": "UBnCY7vncm1i",
        "outputId": "dd81cb18-ad8b-469f-cc01-a6b3df72f0a4"
      },
      "execution_count": null,
      "outputs": [
        {
          "output_type": "stream",
          "name": "stdout",
          "text": [
            "[ 0. 10. 20. 30. 40.]\n"
          ]
        }
      ]
    },
    {
      "cell_type": "code",
      "source": [
        "y = np.zeros(10)\n",
        "np.power(2, x, out=y[::2])\n",
        "print(y)"
      ],
      "metadata": {
        "colab": {
          "base_uri": "https://localhost:8080/"
        },
        "id": "EFrKUxhPc3aw",
        "outputId": "3b3803ea-291e-4695-f6d4-d1226f060b47"
      },
      "execution_count": null,
      "outputs": [
        {
          "output_type": "stream",
          "name": "stdout",
          "text": [
            "[ 1.  0.  2.  0.  4.  0.  8.  0. 16.  0.]\n"
          ]
        }
      ]
    },
    {
      "cell_type": "markdown",
      "source": [
        "В альтрнативном выражении `y[::2] = 2 ** x` , был бы создан временный массив для хранения результатов операции `2 ** x` с последующим копированием в массив `y`. Для незначительных объемов вычислений особой разницы нет, но для очень больших массивов экономия памяти за счет использования аргумента `out` окажеться весьма серьезной."
      ],
      "metadata": {
        "id": "rMveLymI2upG"
      }
    },
    {
      "cell_type": "markdown",
      "source": [
        "**Сводные показатели**\n",
        "\n",
        "У бинарных универсальных функций есть возможность вычислять непосредственно на основе объекта некоторые сводные данные.\n",
        "\n",
        "Операция `reduce` многократно применяет заданную операцию к элементам массива до тех пор, пока не останется только один результат."
      ],
      "metadata": {
        "id": "JVr-JPYC3dFu"
      }
    },
    {
      "cell_type": "code",
      "source": [
        "x = np.arange(1, 6)\n",
        "np.add.reduce(x)"
      ],
      "metadata": {
        "colab": {
          "base_uri": "https://localhost:8080/"
        },
        "id": "JOxKiGUn4NaD",
        "outputId": "0b7be073-3fc9-411c-afd9-39045df08eef"
      },
      "execution_count": null,
      "outputs": [
        {
          "output_type": "execute_result",
          "data": {
            "text/plain": [
              "15"
            ]
          },
          "metadata": {},
          "execution_count": 3
        }
      ]
    },
    {
      "cell_type": "code",
      "source": [
        "np.multiply.reduce(x)"
      ],
      "metadata": {
        "colab": {
          "base_uri": "https://localhost:8080/"
        },
        "id": "deo0b3wh4Umd",
        "outputId": "f8191b83-10ee-4773-e26a-9bb3c0d3a0bf"
      },
      "execution_count": null,
      "outputs": [
        {
          "output_type": "execute_result",
          "data": {
            "text/plain": [
              "120"
            ]
          },
          "metadata": {},
          "execution_count": 4
        }
      ]
    },
    {
      "cell_type": "markdown",
      "source": [
        "Если надо сохранить все промежуточные результаты вычислений, можно воспользоваться функцией `accumulate`"
      ],
      "metadata": {
        "id": "BCmKIjc14vvv"
      }
    },
    {
      "cell_type": "code",
      "source": [
        "print(np.add.accumulate(x)) \n",
        "print(np.multiply.accumulate(x)) "
      ],
      "metadata": {
        "colab": {
          "base_uri": "https://localhost:8080/"
        },
        "id": "JAhFlStb4dMe",
        "outputId": "7a6173a1-f364-4086-a502-b55eff344e3d"
      },
      "execution_count": null,
      "outputs": [
        {
          "output_type": "stream",
          "name": "stdout",
          "text": [
            "[ 1  3  6 10 15]\n",
            "[  1   2   6  24 120]\n"
          ]
        }
      ]
    },
    {
      "cell_type": "markdown",
      "source": [
        "**Векторные произведения**\n",
        "\n",
        "Все универсальные функции могут выводить результат применения соответствующей операции ко всем парам двух аргументов с помощью метода `outer`."
      ],
      "metadata": {
        "id": "PRbVTcYb5YT3"
      }
    },
    {
      "cell_type": "code",
      "source": [
        "x = np.arange(1, 6)\n",
        "np.multiply.outer(x, x)"
      ],
      "metadata": {
        "colab": {
          "base_uri": "https://localhost:8080/"
        },
        "id": "T3VC1iKN5nPb",
        "outputId": "6df4b8f0-5620-4e8e-fcce-68efff859bde"
      },
      "execution_count": null,
      "outputs": [
        {
          "output_type": "execute_result",
          "data": {
            "text/plain": [
              "array([[ 1,  2,  3,  4,  5],\n",
              "       [ 2,  4,  6,  8, 10],\n",
              "       [ 3,  6,  9, 12, 15],\n",
              "       [ 4,  8, 12, 16, 20],\n",
              "       [ 5, 10, 15, 20, 25]])"
            ]
          },
          "metadata": {},
          "execution_count": 6
        }
      ]
    },
    {
      "cell_type": "markdown",
      "source": [
        "### **Практическое задание:**\n",
        "\n",
        "\n",
        "1.   Создайте 10 упорядоченных целых чисел размерностью\n",
        "1.   Создайте массив накапливающих сумм всез последовательных элементов"
      ],
      "metadata": {
        "id": "Fy-MUQ3aZI9Q"
      }
    },
    {
      "cell_type": "markdown",
      "source": [
        "1. Создайте массив 10-ти упорядоченных целых чисел, произведите возведение каждого элемента в третью степень, результат вычислений непосредственно в нужное место памяти, с помощью аргумента out\n"
      ],
      "metadata": {
        "id": "rh1J-KFZY_LQ"
      }
    },
    {
      "cell_type": "code",
      "source": [
        "x = np.arange(1, 11)\n",
        "y=np.empty(10)\n",
        "print (x,'\\n',y)\n",
        "np.power(x,3, out=y)\n",
        "y"
      ],
      "metadata": {
        "colab": {
          "base_uri": "https://localhost:8080/"
        },
        "id": "8Uc1P03vZDPx",
        "outputId": "5274cdaf-2680-44d1-a687-7cdd4bd8c621"
      },
      "execution_count": null,
      "outputs": [
        {
          "output_type": "stream",
          "name": "stdout",
          "text": [
            "[ 1  2  3  4  5  6  7  8  9 10] \n",
            " [0.00000000e+000 1.77863633e-322 0.00000000e+000 0.00000000e+000\n",
            " 8.27578358e-313 5.24146542e+174 1.16189228e+165 5.89808926e-091\n",
            " 1.87999751e+160 4.24535126e-315]\n"
          ]
        },
        {
          "output_type": "execute_result",
          "data": {
            "text/plain": [
              "array([   1.,    8.,   27.,   64.,  125.,  216.,  343.,  512.,  729.,\n",
              "       1000.])"
            ]
          },
          "metadata": {},
          "execution_count": 19
        }
      ]
    },
    {
      "cell_type": "code",
      "source": [
        "#z=np.arange(1,11)\n",
        "np.add.accumulate(y)\n"
      ],
      "metadata": {
        "colab": {
          "base_uri": "https://localhost:8080/"
        },
        "id": "bBygO6Y-ZCwY",
        "outputId": "864c74d5-e04f-48df-bd4c-b74d41ff4fd5"
      },
      "execution_count": null,
      "outputs": [
        {
          "output_type": "execute_result",
          "data": {
            "text/plain": [
              "array([1.000e+00, 9.000e+00, 3.600e+01, 1.000e+02, 2.250e+02, 4.410e+02,\n",
              "       7.840e+02, 1.296e+03, 2.025e+03, 3.025e+03])"
            ]
          },
          "metadata": {},
          "execution_count": 20
        }
      ]
    },
    {
      "cell_type": "markdown",
      "source": [
        "###2.6 Универсальные функции: дальнейшая информация.\n",
        "\n",
        "Универсальные функции дают возможность работать с массивами различных размеров и форм, используя набор операций под названием транслирование.\n",
        "\n",
        "На сайтах документации библиотек NumPy и SciPy можно найти полный список имеющихся универсальных функций."
      ],
      "metadata": {
        "id": "nz7IwvIEAyP-"
      }
    },
    {
      "cell_type": "markdown",
      "metadata": {
        "id": "FANStavkWbB6"
      },
      "source": [
        "##3. Агрегирование: минимум, максимум и все, что посередине.\n",
        "\n",
        "Часто при работе с большими объемами данных первый шаг заключается в вычислении сводных статистических показателей по этим данным. В библиотеке NumPy имеются быстрые функции агрегирования для работы с массивами.\n"
      ]
    },
    {
      "cell_type": "markdown",
      "source": [
        "###3.1 Суммирование значений из массива."
      ],
      "metadata": {
        "id": "67jzSQIbBFgm"
      }
    },
    {
      "cell_type": "code",
      "source": [
        "x = np.random.random(100)\n",
        "np.sum(x)"
      ],
      "metadata": {
        "id": "OoWgWUa87xnO",
        "colab": {
          "base_uri": "https://localhost:8080/"
        },
        "outputId": "80fa19d0-1992-49c0-f694-2134a7f063fc"
      },
      "execution_count": null,
      "outputs": [
        {
          "output_type": "execute_result",
          "data": {
            "text/plain": [
              "48.13180083370911"
            ]
          },
          "metadata": {},
          "execution_count": 8
        }
      ]
    },
    {
      "cell_type": "markdown",
      "source": [
        "Синтаксис очень похож на функцию `sum` языка Python, и результат в простейшем случае тот же. Однако, поскольку функция sum выполняет операцию в скомпилированном коде,\n",
        "версия библиотеки NumPy данной операции работает намного быстрее."
      ],
      "metadata": {
        "id": "TorWmJO78WY5"
      }
    },
    {
      "cell_type": "code",
      "source": [
        "big_array = np.random.rand(1000000)\n",
        "%timeit sum(big_array)\n",
        "%timeit np.sum(big_array)"
      ],
      "metadata": {
        "colab": {
          "base_uri": "https://localhost:8080/"
        },
        "id": "KclfVPe79EGt",
        "outputId": "91196a2d-19af-41dd-bcfc-b8620976c4e9"
      },
      "execution_count": null,
      "outputs": [
        {
          "output_type": "stream",
          "name": "stdout",
          "text": [
            "86.3 ms ± 593 µs per loop (mean ± std. dev. of 7 runs, 10 loops each)\n",
            "390 µs ± 11.8 µs per loop (mean ± std. dev. of 7 runs, 1000 loops each)\n"
          ]
        }
      ]
    },
    {
      "cell_type": "markdown",
      "source": [
        "Предупреждение: функции `sum` и `np.sum` не идентичны. Например, смысл их необязательных аргументов различен и функция np.sum умеет работать с многомерными массивами."
      ],
      "metadata": {
        "id": "pC1wSQbo9UOq"
      }
    },
    {
      "cell_type": "markdown",
      "source": [
        "###3.2 Минимум и максимум.\n",
        "\n",
        "\n",
        "\n",
        "\n",
        "\n",
        "\n",
        "\n",
        "\n"
      ],
      "metadata": {
        "id": "-baXG1e5BMBv"
      }
    },
    {
      "cell_type": "markdown",
      "source": [
        "Синтаксис соответствующих функций `min` и `max` из библиотеки NumPy аналогичен, причем они также работают намного быстрее:"
      ],
      "metadata": {
        "id": "mbj2zfB59gBO"
      }
    },
    {
      "cell_type": "code",
      "source": [
        "np.min(big_array), np.max(big_array)"
      ],
      "metadata": {
        "colab": {
          "base_uri": "https://localhost:8080/"
        },
        "id": "fQyB8OO597MM",
        "outputId": "c6ff162f-7a98-4508-bf68-d729dc6ec27f"
      },
      "execution_count": null,
      "outputs": [
        {
          "output_type": "execute_result",
          "data": {
            "text/plain": [
              "(4.749559279204618e-07, 0.9999998654355658)"
            ]
          },
          "metadata": {},
          "execution_count": 8
        }
      ]
    },
    {
      "cell_type": "markdown",
      "source": [
        "Для `min` , `max` , `sum` и еще нескольких функций вычисления сводных показателей библиотеки NumPy существует сокращенная запись операции."
      ],
      "metadata": {
        "id": "R7PNgQO3-Ia-"
      }
    },
    {
      "cell_type": "code",
      "source": [
        "print(big_array.min()) \n",
        "print(big_array.max()) \n",
        "print(big_array.sum())"
      ],
      "metadata": {
        "colab": {
          "base_uri": "https://localhost:8080/"
        },
        "id": "Vrt3tI9u-QiP",
        "outputId": "93b9dae9-69f8-4e7b-c126-8a34d1b40a3b"
      },
      "execution_count": null,
      "outputs": [
        {
          "output_type": "stream",
          "name": "stdout",
          "text": [
            "4.749559279204618e-07\n",
            "0.9999998654355658\n",
            "499595.67112194217\n"
          ]
        }
      ]
    },
    {
      "cell_type": "markdown",
      "source": [
        "**Многомерные сводные показатели**\n",
        "\n",
        "Агрегирование по столбцу или строке — один из часто применяемых видов операций агрегирования."
      ],
      "metadata": {
        "id": "mDK7muuz-yx6"
      }
    },
    {
      "cell_type": "code",
      "source": [
        "M = np.random.random((3, 4))\n",
        "print(M)"
      ],
      "metadata": {
        "colab": {
          "base_uri": "https://localhost:8080/"
        },
        "id": "3BKFf8Mz_zgd",
        "outputId": "a07c6f09-4b20-4687-f122-45b7e3e89c23"
      },
      "execution_count": null,
      "outputs": [
        {
          "output_type": "stream",
          "name": "stdout",
          "text": [
            "[[0.94827126 0.49132897 0.61303331 0.09386136]\n",
            " [0.79776127 0.95035512 0.46942024 0.82440752]\n",
            " [0.68240523 0.03856399 0.32996973 0.52281981]]\n"
          ]
        }
      ]
    },
    {
      "cell_type": "code",
      "source": [
        "print(M.sum())\n",
        "print(M.sum(axis=0)) # принимает на входе дополнительный аргумент, позволяющий указать ось"
      ],
      "metadata": {
        "colab": {
          "base_uri": "https://localhost:8080/"
        },
        "id": "6tg-81Sk_0ze",
        "outputId": "e0a01ff8-a3aa-47a9-84e2-4eb34adefeac"
      },
      "execution_count": null,
      "outputs": [
        {
          "output_type": "stream",
          "name": "stdout",
          "text": [
            "6.762197797907233\n",
            "[2.42843776 1.48024808 1.41242327 1.44108869]\n"
          ]
        }
      ]
    },
    {
      "cell_type": "code",
      "source": [
        "M.max(axis=1) # вычислить максимальное значение в каждой из строке"
      ],
      "metadata": {
        "id": "OguiHMrIATAJ"
      },
      "execution_count": null,
      "outputs": []
    },
    {
      "cell_type": "markdown",
      "source": [
        "###3.3 Среднее."
      ],
      "metadata": {
        "id": "VcH8ZK8GBXbX"
      }
    },
    {
      "cell_type": "code",
      "source": [
        "print(M.mean())"
      ],
      "metadata": {
        "colab": {
          "base_uri": "https://localhost:8080/"
        },
        "id": "Sh-MrGGBCT18",
        "outputId": "cd91a334-0623-4369-9b52-2be609c70606"
      },
      "execution_count": null,
      "outputs": [
        {
          "output_type": "stream",
          "name": "stdout",
          "text": [
            "0.5635164831589361\n"
          ]
        }
      ]
    },
    {
      "cell_type": "markdown",
      "source": [
        "###3.4 Другие функции агрегирования\n",
        "\n",
        "Имя функции\\ NaN-безопаснаяверсия Описание\n",
        "- `np.sum`\\ `np.nansum` Вычисляет сумму элементов\n",
        "- `np.prod`\\ `np.nanprod` Вычисляет произведение элементов\n",
        "- `np.mean`\\ `np.nanmean` Вычисляет среднее значение элементов\n",
        "- `np.std`\\ `np.nanstd` Вычисляет стандартное отклонение\n",
        "- `np.var`\\ `np.nanvar` Вычисляет дисперсию\n",
        "- `np.min`\\ `np.nanmin` Вычисляет минимальное значение\n",
        "- `np.max` \\`np.nanmax` Вычисляет максимальное значение\n",
        "- `np.argmin`\\ `np.nanargmin` Возвращает индекс минимального значения\n",
        "- `np.argmax`\\ `np.nanargmax` Возвращает индекс максимального значения\n",
        "- `np.median` \\`np.nanmedian` Вычисляет медиану элементов\n",
        "- `np.percentile` \\`np.nanpercentile` Вычисляет квантили элементов\n",
        "- `np.any`\\ N/A Проверяет, существуют ли элементы со значением true\n",
        "- `np.all`\\ N/A Проверяет, все ли элементы имеют значение true"
      ],
      "metadata": {
        "id": "PsG9nuWrAsbV"
      }
    },
    {
      "cell_type": "markdown",
      "source": [
        "### **Практическое задание:** \n",
        "1. Имея массив случано выбранных показателей роста человека, необходимо найти среднее значение, стандартное отклонение, минимальный и максимальный рост. Массив = \n",
        "[189 170 189 163 183 171 185 168 173 183 173 173 175 178 183 193 178 173 174 183 183 168 170 178 182 180 183 178 182 188 175 179 183 193 182 183 177 185 188 188 182 185]"
      ],
      "metadata": {
        "id": "SICDsSlOb8La"
      }
    },
    {
      "cell_type": "code",
      "source": [
        "x=np.array ([189, 170, 189, 163 ,183, 171, 185, 168, 173, 183, 173, 173, 175, 178, 183, 193, 178, 173, 174, 183, 183, 168, 170, 178, 182, 180, 183, 178, 182, 188, 175, 179, 183, 193, 182, 183, 177, 185, 188, 188, 182, 185])\n",
        "print (x.mean(), ' ',x.std(), ' ',x.min(), ' ',x.max())"
      ],
      "metadata": {
        "id": "OHUORuKzcknp",
        "colab": {
          "base_uri": "https://localhost:8080/"
        },
        "outputId": "f11bb0ac-7402-4594-96d3-cca8ac1e6b16"
      },
      "execution_count": null,
      "outputs": [
        {
          "output_type": "stream",
          "name": "stdout",
          "text": [
            "179.73809523809524   6.931843442745892   163   193\n"
          ]
        }
      ]
    },
    {
      "cell_type": "markdown",
      "metadata": {
        "id": "2Sbt-4ysWhrt"
      },
      "source": [
        "##4. Операции над массивами. Транслирование.\n",
        "Еще один способ применения операций векторизации — использовать имеющиеся в­­ библиотеке NumPy возможности транслирования (broadcasting). Транслирование представляет собой набор правил по применению бинарных универсальных функций\n",
        "(сложение, вычитание, умножение и т. д.) к массивам различного размера."
      ]
    },
    {
      "cell_type": "markdown",
      "source": [
        "###4.1 Введение в транслирование.\n",
        "Транслирование дает возможность выполнять бинарные операции\n",
        "над массивами различных размеров.\n",
        "\n"
      ],
      "metadata": {
        "id": "FJp6bNSEB0co"
      }
    },
    {
      "cell_type": "code",
      "source": [
        "import numpy as np\n",
        "a = np.array([0, 1, 2])\n",
        "b = np.array([5, 5, 5])\n",
        "a + b"
      ],
      "metadata": {
        "colab": {
          "base_uri": "https://localhost:8080/"
        },
        "id": "L-KUABJd56_S",
        "outputId": "89089520-302a-418b-a8ff-7aca0b994d48"
      },
      "execution_count": null,
      "outputs": [
        {
          "output_type": "execute_result",
          "data": {
            "text/plain": [
              "array([5, 6, 7])"
            ]
          },
          "metadata": {},
          "execution_count": 6
        }
      ]
    },
    {
      "cell_type": "code",
      "source": [
        "a + 5"
      ],
      "metadata": {
        "colab": {
          "base_uri": "https://localhost:8080/"
        },
        "id": "Wab0qjPd6EOI",
        "outputId": "b1e51d79-813e-46e4-ad48-6d943dd18515"
      },
      "execution_count": null,
      "outputs": [
        {
          "output_type": "execute_result",
          "data": {
            "text/plain": [
              "array([5, 6, 7])"
            ]
          },
          "metadata": {},
          "execution_count": 2
        }
      ]
    },
    {
      "cell_type": "markdown",
      "source": [
        "Аналогично можно распространить транслирование на массивы большей размерности. Например результат сложения одномерного и двумерного массивов:"
      ],
      "metadata": {
        "id": "epkxPTy96TAY"
      }
    },
    {
      "cell_type": "code",
      "source": [
        "M = np.ones((3, 3))\n",
        "M"
      ],
      "metadata": {
        "colab": {
          "base_uri": "https://localhost:8080/"
        },
        "id": "AyPtGXZa6a_T",
        "outputId": "5d69275c-9b71-4ba7-de35-7efff3a6a18e"
      },
      "execution_count": null,
      "outputs": [
        {
          "output_type": "execute_result",
          "data": {
            "text/plain": [
              "array([[1., 1., 1.],\n",
              "       [1., 1., 1.],\n",
              "       [1., 1., 1.]])"
            ]
          },
          "metadata": {},
          "execution_count": 3
        }
      ]
    },
    {
      "cell_type": "code",
      "source": [
        "M + a"
      ],
      "metadata": {
        "colab": {
          "base_uri": "https://localhost:8080/"
        },
        "id": "GT1nvE046gUy",
        "outputId": "629a4aee-1515-4cad-ae8b-47021ee81006"
      },
      "execution_count": null,
      "outputs": [
        {
          "output_type": "execute_result",
          "data": {
            "text/plain": [
              "array([[1., 2., 3.],\n",
              "       [1., 2., 3.],\n",
              "       [1., 2., 3.]])"
            ]
          },
          "metadata": {},
          "execution_count": 4
        }
      ]
    },
    {
      "cell_type": "markdown",
      "source": [
        "**Визуализация транслирования массивов библиотекой NumPy**"
      ],
      "metadata": {
        "id": "u6LHtq-f7Ge0"
      }
    },
    {
      "cell_type": "markdown",
      "source": [
        "![Выделение_099.png](data:image/png;base64,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)"
      ],
      "metadata": {
        "id": "xgi-T6f97AiS"
      }
    },
    {
      "cell_type": "markdown",
      "source": [
        "###4.2 Правила транслирования.\n",
        "\n",
        "*   *Правило 1:* если размерность двух массивов отличается, форма массива с меньшей размерностью дополняется единицами с ведущей (левой) стороны.\n",
        "*   *Правило 2:* если форма двух массивов не совпадает в каком-то измерении, массив с формой, равной 1 в данном измерении, растягивается вплоть до соответствия форме другого массива.\n",
        "*   *Правило 3:* если в каком-либо измерении размеры массивов различаются и ни один не равен 1, генерируется ошибка.\n"
      ],
      "metadata": {
        "id": "r0uzeOwpB6Yf"
      }
    },
    {
      "cell_type": "code",
      "source": [
        "M = np.ones((2, 3))\n",
        "a = np.arange(3)\n",
        "print('Размерность М =',M.shape)\n",
        "print('Размерность а = ',a.shape)"
      ],
      "metadata": {
        "colab": {
          "base_uri": "https://localhost:8080/"
        },
        "id": "8H0FAupX8lGO",
        "outputId": "69abcc9f-4c41-4fb8-9a22-f00d09a9aee7"
      },
      "execution_count": null,
      "outputs": [
        {
          "output_type": "stream",
          "name": "stdout",
          "text": [
            "Размерность М = (2, 3)\n",
            "Размерность а =  (3,)\n"
          ]
        }
      ]
    },
    {
      "cell_type": "markdown",
      "source": [
        "*По правилу 1*, поскольку размерность массива a меньше, мы дополняем его измерениями слева:\n",
        "\n",
        "M.shape -> (2, 3)\n",
        "\n",
        "a.shape -> (1, 3)\n",
        "\n",
        "*По правилу 2* мы видим, что первое измерение массивов различается, так что мы растягиваем его вплоть до совпадения:\n",
        "\n",
        "M.shape -> (2, 3)\n",
        "\n",
        "a.shape -> (2, 3)"
      ],
      "metadata": {
        "id": "OzgsgVnw9UA_"
      }
    },
    {
      "cell_type": "code",
      "source": [
        "M + a"
      ],
      "metadata": {
        "colab": {
          "base_uri": "https://localhost:8080/"
        },
        "id": "RhvkBV5a9oz2",
        "outputId": "57ee86e2-98c5-4d1e-8168-287ee403140f"
      },
      "execution_count": null,
      "outputs": [
        {
          "output_type": "execute_result",
          "data": {
            "text/plain": [
              "array([[1., 2., 3.],\n",
              "       [1., 2., 3.]])"
            ]
          },
          "metadata": {},
          "execution_count": 9
        }
      ]
    },
    {
      "cell_type": "markdown",
      "source": [
        "### **Практическое задание:** \n",
        "1. Опишите как будет транслироваться массив b, согласно правил 1 и 2, при заданных массивах a и b, и полученном результате, полученном ниже:"
      ],
      "metadata": {
        "id": "_Z1sm16I9-5v"
      }
    },
    {
      "cell_type": "code",
      "source": [
        "a = np.arange(3).reshape((3, 1))\n",
        "b = np.arange(3)\n",
        "print('Размерность a =',a.shape)\n",
        "print('Размерность b = ',b.shape)\n",
        "print(a + b)"
      ],
      "metadata": {
        "colab": {
          "base_uri": "https://localhost:8080/"
        },
        "id": "b0BdKahx-ixB",
        "outputId": "a304b1eb-e018-4354-84d9-34d1d388993f"
      },
      "execution_count": null,
      "outputs": [
        {
          "output_type": "stream",
          "name": "stdout",
          "text": [
            "Размерность a = (3, 1)\n",
            "Размерность b =  (3,)\n",
            "[[0 1 2]\n",
            " [1 2 3]\n",
            " [2 3 4]]\n"
          ]
        }
      ]
    },
    {
      "cell_type": "code",
      "source": [
        "b.reshape((1, 3))\n",
        "print (b.shape)\n",
        "b=np.vstack([b,b,b])\n",
        "print (b)"
      ],
      "metadata": {
        "colab": {
          "base_uri": "https://localhost:8080/"
        },
        "id": "_BkLSrd_pxMY",
        "outputId": "f492d57c-8621-4522-871e-91d93665c87c"
      },
      "execution_count": null,
      "outputs": [
        {
          "output_type": "stream",
          "name": "stdout",
          "text": [
            "(3,)\n",
            "[[0 1 2]\n",
            " [0 1 2]\n",
            " [0 1 2]]\n"
          ]
        }
      ]
    },
    {
      "cell_type": "code",
      "source": [
        "print (b.shape)"
      ],
      "metadata": {
        "colab": {
          "base_uri": "https://localhost:8080/"
        },
        "id": "I_8KRtVcLn93",
        "outputId": "af61d003-ce98-4851-b743-a6a2d5d5cdc3"
      },
      "execution_count": null,
      "outputs": [
        {
          "output_type": "stream",
          "name": "stdout",
          "text": [
            "(3, 3)\n"
          ]
        }
      ]
    },
    {
      "cell_type": "code",
      "source": [
        "a=np.hstack([a,a,a])\n",
        "print (a.shape)\n",
        "print (a)"
      ],
      "metadata": {
        "colab": {
          "base_uri": "https://localhost:8080/"
        },
        "id": "0s1NSvZmLuXe",
        "outputId": "718c0931-5f61-4e7e-a1d8-46f7012eca2f"
      },
      "execution_count": null,
      "outputs": [
        {
          "output_type": "stream",
          "name": "stdout",
          "text": [
            "(3, 3)\n",
            "[[0 0 0]\n",
            " [1 1 1]\n",
            " [2 2 2]]\n"
          ]
        }
      ]
    },
    {
      "cell_type": "code",
      "source": [
        "a+b"
      ],
      "metadata": {
        "colab": {
          "base_uri": "https://localhost:8080/"
        },
        "id": "WOjtJWbEL_Bq",
        "outputId": "c838b844-76dd-4349-eeb4-7cdc63ac4612"
      },
      "execution_count": null,
      "outputs": [
        {
          "output_type": "execute_result",
          "data": {
            "text/plain": [
              "array([[0, 1, 2],\n",
              "       [1, 2, 3],\n",
              "       [2, 3, 4]])"
            ]
          },
          "metadata": {},
          "execution_count": 22
        }
      ]
    },
    {
      "cell_type": "markdown",
      "source": [
        "###4.3 Транслирование на практике\n",
        "Благодаря универсальным функциям пользователи библиотеки NumPy избавляются от необходимости писать явным образом медленно работающие циклы языка Python. Транслирование расширяет эти возможности. Один из часто встречающихся\n",
        "примеров:\n",
        "*Центрирование массива*\n",
        "\n"
      ],
      "metadata": {
        "id": "y83yB2GUB_oo"
      }
    },
    {
      "cell_type": "code",
      "source": [
        "X = np.random.random((10, 3))"
      ],
      "metadata": {
        "id": "x5vjl3MDKIqx"
      },
      "execution_count": null,
      "outputs": []
    },
    {
      "cell_type": "code",
      "source": [
        "Xmean = X.mean(0) # Вычислим среднее значение каждого признака, примененив функцию mean по первому измерению\n",
        "Xmean"
      ],
      "metadata": {
        "colab": {
          "base_uri": "https://localhost:8080/"
        },
        "id": "hvlgxOWeKZXO",
        "outputId": "e7e9250a-d29d-4359-b7ad-6239e4b133cb"
      },
      "execution_count": null,
      "outputs": [
        {
          "output_type": "execute_result",
          "data": {
            "text/plain": [
              "array([0.32164942, 0.57091013, 0.40946237])"
            ]
          },
          "metadata": {},
          "execution_count": 3
        }
      ]
    },
    {
      "cell_type": "code",
      "source": [
        "X_centered = X - Xmean # центрируем массив X путем вычитания среднего значения (это операция транслирования)\n",
        "X_centered"
      ],
      "metadata": {
        "colab": {
          "base_uri": "https://localhost:8080/"
        },
        "id": "YzZf9ulRKvVM",
        "outputId": "fdc651e8-03a6-4fa3-b295-e16180409544"
      },
      "execution_count": null,
      "outputs": [
        {
          "output_type": "execute_result",
          "data": {
            "text/plain": [
              "array([[ 0.34989638, -0.02492943, -0.24573156],\n",
              "       [ 0.37474719, -0.54001028,  0.03658421],\n",
              "       [ 0.12920638,  0.26163015,  0.05635574],\n",
              "       [-0.07826533,  0.12750069,  0.51551805],\n",
              "       [-0.13673138, -0.26949222, -0.36547299],\n",
              "       [-0.02490115,  0.04192011, -0.2711059 ],\n",
              "       [ 0.02101974, -0.02913815,  0.1592229 ],\n",
              "       [-0.08264824,  0.37024454, -0.09297331],\n",
              "       [-0.2567229 ,  0.03940127, -0.31064393],\n",
              "       [-0.29560067,  0.02287333,  0.51824679]])"
            ]
          },
          "metadata": {},
          "execution_count": 5
        }
      ]
    },
    {
      "cell_type": "code",
      "source": [
        "X_centered.mean(0) # убедимся что среднее значение центрированного массива было близко к 0"
      ],
      "metadata": {
        "colab": {
          "base_uri": "https://localhost:8080/"
        },
        "id": "s1i0qWXXLmXk",
        "outputId": "66cdd980-fcb3-4a4a-c79b-c4d72e21aba6"
      },
      "execution_count": null,
      "outputs": [
        {
          "output_type": "execute_result",
          "data": {
            "text/plain": [
              "array([0.00000000e+00, 1.11022302e-17, 6.66133815e-17])"
            ]
          },
          "metadata": {},
          "execution_count": 6
        }
      ]
    },
    {
      "cell_type": "markdown",
      "source": [
        "*Построение графика двумерной функции*\n",
        "Одна из частых сфер применения транслирования — визуализация изображений на основе двумерных функций. Если нам требуется описать функцию `z = f(x, y)`"
      ],
      "metadata": {
        "id": "RzCDAlozL_BU"
      }
    },
    {
      "cell_type": "code",
      "source": [
        "# Задаем для x и y 50 шагов от 0 до 5\n",
        "x = np.linspace(0, 5, 50)\n",
        "y = np.linspace(0, 5, 50)[:, np.newaxis]\n",
        "z = np.sin(x) ** 10 + np.cos(10 + y * x) * np.cos(x)"
      ],
      "metadata": {
        "id": "f3_6pTwCMZrC"
      },
      "execution_count": null,
      "outputs": []
    },
    {
      "cell_type": "code",
      "source": [
        "%matplotlib inline \n",
        "import matplotlib.pyplot as plt\n",
        "print('Визуализация двумерного массива')\n",
        "plt.imshow(z, origin='lower', extent=[0, 5, 0, 5], cmap='viridis')\n",
        "plt.colorbar()"
      ],
      "metadata": {
        "colab": {
          "base_uri": "https://localhost:8080/",
          "height": 304
        },
        "id": "bMGZb5WCMl4d",
        "outputId": "c5ec9a04-f81c-4d84-ae1d-93074863bd40"
      },
      "execution_count": null,
      "outputs": [
        {
          "output_type": "stream",
          "name": "stdout",
          "text": [
            "Визуализация двумерного массива\n"
          ]
        },
        {
          "output_type": "execute_result",
          "data": {
            "text/plain": [
              "<matplotlib.colorbar.Colorbar at 0x7fd91e4c4e10>"
            ]
          },
          "metadata": {},
          "execution_count": 10
        },
        {
          "output_type": "display_data",
          "data": {
            "text/plain": [
              "<Figure size 432x288 with 2 Axes>"
            ],
            "image/png": "[encoded data removed]"
          },
          "metadata": {
            "needs_background": "light"
          }
        }
      ]
    },
    {
      "cell_type": "markdown",
      "source": [
        "### **Практическое задание:** \n",
        "1. Задайте 100 точек для x,y  с помощью Numpy-массива, задате функцию `z = np.sin(x) ** 2 + np.cos(y) ** 2)` и визуализируйте ее."
      ],
      "metadata": {
        "id": "pvAI-H5VOKMN"
      }
    },
    {
      "cell_type": "code",
      "source": [
        "x = np.arange(100)\n",
        "y = np.arange(100).reshape((100, 1))\n",
        "z = np.sin(x) ** 2 + np.cos(y) ** 2\n",
        "%matplotlib inline \n",
        "import matplotlib.pyplot as plt\n",
        "print('Визуализация двумерного массива')\n",
        "plt.imshow(z, origin='lower', extent=[0, 100, 0, 100], cmap='viridis')\n",
        "plt.colorbar()"
      ],
      "metadata": {
        "id": "Xv64GWRkPI7k",
        "colab": {
          "base_uri": "https://localhost:8080/",
          "height": 304
        },
        "outputId": "6c846137-98bf-42a7-d8c6-b0b42a986bf5"
      },
      "execution_count": null,
      "outputs": [
        {
          "output_type": "stream",
          "name": "stdout",
          "text": [
            "Визуализация двумерного массива\n"
          ]
        },
        {
          "output_type": "execute_result",
          "data": {
            "text/plain": [
              "<matplotlib.colorbar.Colorbar at 0x7f465607a040>"
            ]
          },
          "metadata": {},
          "execution_count": 43
        },
        {
          "output_type": "display_data",
          "data": {
            "text/plain": [
              "<Figure size 432x288 with 2 Axes>"
            ],
            "image/png": "[encoded data removed]"
          },
          "metadata": {
            "needs_background": "light"
          }
        }
      ]
    },
    {
      "cell_type": "markdown",
      "source": [
        "##5. Сравнения, маски и булева логика.\n",
        "Маскирование удобно для извлечения, модификации, подсчета или других манипуляций со значениями в массиве по какому-либо\n",
        "критерию. В библиотеке NumPy булевы\n",
        "маски зачастую самый эффективный способ решения подобных задач.\n",
        "Пускай у вас есть последовательности данных, отражающие количество осадков в каждый день года для конкретного города."
      ],
      "metadata": {
        "id": "d906wKlL4pid"
      }
    },
    {
      "cell_type": "markdown",
      "source": [
        "###5.1 Операторы сравнения как универсальные функции.\n",
        "В библиотеке NumPy также реализованы операторы\n",
        "сравнения, такие как < («меньше») и > («больше») в виде поэлементных универсальных функций. Результат этих операторов сравнения всегда представляет собой массив с булевым типом данных. Доступны для использования все шесть\n",
        "стандартных операторов сравнения:\n",
        "\n",
        "\n",
        "*   Оператор Название Универсальная функция\n",
        "\n",
        "*   `<` - меньше  `np.less` \n",
        "*   `>` - больше  `np.greater`\n",
        "*   `<=`- меньше или равно  `np.less_equal` \n",
        "*   `>=`- больше или равно  `np.greater_equal`\n",
        "*   `!=`- не равно  `np.equal`\n",
        "*   `==`- равно  `np.not_equal`\n",
        "\n"
      ],
      "metadata": {
        "id": "R6j_-hzaCpqe"
      }
    },
    {
      "cell_type": "code",
      "source": [
        "x = np.array([1, 2, 3, 4, 5])\n",
        "print('x < 3 -',x < 3)\n",
        "print('x > 3 -',x > 3)\n",
        "print('x <= 3 -',x <= 3)\n",
        "print('x >= 3 -',x >= 3)\n",
        "print('x != 3 -',x != 3)\n",
        "print('x == 3 -',x == 3)"
      ],
      "metadata": {
        "colab": {
          "base_uri": "https://localhost:8080/"
        },
        "id": "qtkOexWWdYZO",
        "outputId": "2070c352-01e1-4590-d34c-d1633283cc7d"
      },
      "execution_count": null,
      "outputs": [
        {
          "output_type": "stream",
          "name": "stdout",
          "text": [
            "x < 3 - [ True  True False False False]\n",
            "x > 3 - [False False False  True  True]\n",
            "x <= 3 - [ True  True  True False False]\n",
            "x >= 3 - [False False  True  True  True]\n",
            "x != 3 - [ True  True False  True  True]\n",
            "x == 3 - [False False  True False False]\n"
          ]
        }
      ]
    },
    {
      "cell_type": "code",
      "source": [
        "print('(2 * x) == (x ** 2) -', (2 * x) == (x ** 2)) # Можно выполнять поэлементное сравнение двух массивов и составные выражения"
      ],
      "metadata": {
        "colab": {
          "base_uri": "https://localhost:8080/"
        },
        "id": "3H_dC5jveRtz",
        "outputId": "3288f0a9-3e21-4bcd-9f6a-e040df875e6f"
      },
      "execution_count": null,
      "outputs": [
        {
          "output_type": "stream",
          "name": "stdout",
          "text": [
            "(2 * x) == (x ** 2) - [False  True False False False]\n"
          ]
        }
      ]
    },
    {
      "cell_type": "markdown",
      "source": [
        "Операторы сравнения могут работать с массивами любого размера и формы."
      ],
      "metadata": {
        "id": "ImzLjZLcgg0p"
      }
    },
    {
      "cell_type": "code",
      "source": [
        "rng = np.random.RandomState(0)\n",
        "x = rng.randint(10, size=(3, 4))\n",
        "print(x)\n",
        "print(np.less(x,6))"
      ],
      "metadata": {
        "colab": {
          "base_uri": "https://localhost:8080/"
        },
        "id": "3g4NZ4ZegovV",
        "outputId": "3450bc1a-2474-481f-9c3c-d9b0ce74b7fc"
      },
      "execution_count": null,
      "outputs": [
        {
          "output_type": "stream",
          "name": "stdout",
          "text": [
            "[[5 0 3 3]\n",
            " [7 9 3 5]\n",
            " [2 4 7 6]]\n",
            "[[ True  True  True  True]\n",
            " [False False  True  True]\n",
            " [ True  True False False]]\n"
          ]
        }
      ]
    },
    {
      "cell_type": "markdown",
      "source": [
        "###5.2 Работа с булевыми массивами.\n",
        "В случае булева массива существует множество доступных и удобных операций.\n",
        "\n",
        "**Подсчет количества элементов**\n",
        "\n",
        "*   `np.count_nonzero()` - подсчет количества элементов True в булевом массиве, удовлетворяющие условию\n",
        "*   `np.sum()` - другой способ получить подобную информацию, преимущество функции np.sum заключается в том, что это суммирование можно выполнять также по столбцам или строкам\n",
        "*   `np.any()` - имеются ли в массиве какие-либо значения удовлетворяющие условию\n",
        "*   `np.all()` - все ли значения удовлетворяют условию\n",
        "\n"
      ],
      "metadata": {
        "id": "zyqcIUnsCvg5"
      }
    },
    {
      "cell_type": "code",
      "source": [
        "print('Сколько значений массива меньше 6 - ',np.count_nonzero(x < 6))\n",
        "print('Сколько значений массива меньше 6 - ',np.sum(x < 6))\n",
        "print('Сколько значений массива меньше 6 содержится в каждой строке - ',np.sum((x < 6), axis=1))\n",
        "print('Имеются ли в массиве какие-либо значения, превышающие 8 - ',np.any(x > 8))\n",
        "print('Все ли значения меньше 10 - ',np.all(x < 10))"
      ],
      "metadata": {
        "colab": {
          "base_uri": "https://localhost:8080/"
        },
        "id": "aJJJpE6PkW7u",
        "outputId": "f4d946fe-b687-4fd8-bee8-e87dfeedd04d"
      },
      "execution_count": null,
      "outputs": [
        {
          "output_type": "stream",
          "name": "stdout",
          "text": [
            "Сколько значений массива меньше 6 -  8\n",
            "Сколько значений массива меньше 6 -  8\n",
            "Сколько значений массива меньше 6 содержится в каждой строке -  [4 2 2]\n",
            "Имеются ли в массиве какие-либо значения, превышающие 8 -  True\n",
            "Все ли значения меньше 10 -  True\n"
          ]
        }
      ]
    },
    {
      "cell_type": "markdown",
      "source": [
        "### **Практическое задание:** \n",
        "\n",
        "1.   Создайте NumPy-массив случайных целых чисел размерностью (5,6)\n",
        "2.   Определите сколько значений массива больше 3\n",
        "1.   Определите сколько значений массива меньше 9 построчно\n",
        "2.   Определите сколько значений массива меньше 9 по столбцам\n",
        "1.   Определите имеются ли в массиве значения, превышающие 2\n",
        "2.   Определите все ли значения больше 2\n",
        "\n",
        "\n",
        "\n",
        "\n"
      ],
      "metadata": {
        "id": "yQcz-kBlmmDU"
      }
    },
    {
      "cell_type": "code",
      "source": [
        "rng = np.random.RandomState(0)\n",
        "x = rng.randint(10, size=(5, 6))\n",
        "\n",
        "print (x)"
      ],
      "metadata": {
        "colab": {
          "base_uri": "https://localhost:8080/"
        },
        "id": "sTLCSZRNdHqr",
        "outputId": "44b09542-3a90-43ed-fc25-88e61e412d28"
      },
      "execution_count": null,
      "outputs": [
        {
          "output_type": "stream",
          "name": "stdout",
          "text": [
            "[[5 0 3 3 7 9]\n",
            " [3 5 2 4 7 6]\n",
            " [8 8 1 6 7 7]\n",
            " [8 1 5 9 8 9]\n",
            " [4 3 0 3 5 0]]\n"
          ]
        }
      ]
    },
    {
      "cell_type": "code",
      "source": [
        "print ('Кол-во значений, больших 3 :', np.count_nonzero(x > 3))"
      ],
      "metadata": {
        "colab": {
          "base_uri": "https://localhost:8080/"
        },
        "id": "fJhQa9G2dGy8",
        "outputId": "5d5983ed-f4dc-4a0c-ea3a-ea05138b8dce"
      },
      "execution_count": null,
      "outputs": [
        {
          "output_type": "stream",
          "name": "stdout",
          "text": [
            "Кол-во значений, больших 3 : 19\n"
          ]
        }
      ]
    },
    {
      "cell_type": "code",
      "source": [
        "print ('Кол-во значений, меньших 9, построчно :',np.sum((x < 9), axis=1))\n",
        "print (np.shape(x))\n",
        "print (np.shape(x)[0])\n",
        "print (x.shape)\n",
        "print (x.shape[0])"
      ],
      "metadata": {
        "colab": {
          "base_uri": "https://localhost:8080/"
        },
        "id": "8Toe_UTddF_r",
        "outputId": "0f7eefd6-81cf-47ab-969c-b8a22af50f10"
      },
      "execution_count": null,
      "outputs": [
        {
          "output_type": "stream",
          "name": "stdout",
          "text": [
            "Кол-во значений, меньших 9, построчно : [5 6 6 4 6]\n",
            "(5, 6)\n",
            "5\n",
            "(5, 6)\n",
            "5\n"
          ]
        }
      ]
    },
    {
      "cell_type": "code",
      "source": [
        "print ('Кол-во значений, меньших 9, по столбцам :',np.sum((x < 9), axis=0))"
      ],
      "metadata": {
        "colab": {
          "base_uri": "https://localhost:8080/"
        },
        "id": "69eMkVtydF3l",
        "outputId": "817ab3cd-d91a-48ac-8bd1-5aee9827aef4"
      },
      "execution_count": null,
      "outputs": [
        {
          "output_type": "stream",
          "name": "stdout",
          "text": [
            "Кол-во значений, меньших 9, по столбцам : [5 5 5 4 5 3]\n"
          ]
        }
      ]
    },
    {
      "cell_type": "code",
      "source": [
        "print ('Есть значения больше 2 :',np.any(x > 2))"
      ],
      "metadata": {
        "colab": {
          "base_uri": "https://localhost:8080/"
        },
        "id": "1hC-hKWKdFs8",
        "outputId": "fc3128d1-e2b0-4041-8441-d046d83b4f3a"
      },
      "execution_count": null,
      "outputs": [
        {
          "output_type": "stream",
          "name": "stdout",
          "text": [
            "Есть значения, большие 2 : True\n"
          ]
        }
      ]
    },
    {
      "cell_type": "code",
      "source": [
        "print ('Все значения больше 2 :',np.all(x > 2))"
      ],
      "metadata": {
        "colab": {
          "base_uri": "https://localhost:8080/"
        },
        "id": "Zg2F7dbfdFgs",
        "outputId": "9416ae77-5891-4c12-bd11-99c7f7d54887"
      },
      "execution_count": null,
      "outputs": [
        {
          "output_type": "stream",
          "name": "stdout",
          "text": [
            "Все значения больше 2 : False\n"
          ]
        }
      ]
    },
    {
      "cell_type": "markdown",
      "source": [
        "**Булевы операторы**\n",
        "Составное выражение свключающие в себя нескольких операторов сравнения можно сделать с помощью побитовых логических операторов (bitwise logic operators) языка Python. \n",
        "\n",
        "*   Оператор Эквивалентная универсальная функция\n",
        "*   `&` - `np.bitwise_and`\n",
        "*   `|` - `np.bitwise_or`\n",
        "*   `^` - `np.bitwise_xor`\n",
        "*   `~` - `np.bitwise_not`\n",
        "\n",
        "\n",
        "\n",
        "\n"
      ],
      "metadata": {
        "id": "l6rZBxPjovag"
      }
    },
    {
      "cell_type": "code",
      "source": [
        "print('Сколько значений массива меньше 10 и больше 3 - ',np.sum((x > 1)&(x<10)))"
      ],
      "metadata": {
        "colab": {
          "base_uri": "https://localhost:8080/"
        },
        "id": "LHos4ZaTqtb1",
        "outputId": "44cc23ba-4a1f-4e3d-f245-cd883423acf5"
      },
      "execution_count": null,
      "outputs": [
        {
          "output_type": "stream",
          "name": "stdout",
          "text": [
            "Сколько значений массива меньше 10 и больше 3 -  11\n"
          ]
        }
      ]
    },
    {
      "cell_type": "markdown",
      "source": [
        "### **Практическое задание:** \n",
        "\n",
        "1.   Определите сколько значений массива меньше 10 и больше 3\n",
        "2.   Определите сколько значений массива меньше 3 или больше 6\n",
        "1.   Определите сколько значений массива не соответствует выражению (значения меньше 9) построчно"
      ],
      "metadata": {
        "id": "m4uLH8K7riCN"
      }
    },
    {
      "cell_type": "code",
      "source": [
        "np.sum((x < 10)&(x>3))"
      ],
      "metadata": {
        "id": "sK1Jd9t_vPeS",
        "colab": {
          "base_uri": "https://localhost:8080/"
        },
        "outputId": "833f94e2-b0e0-45ec-ec47-7c497b219c32"
      },
      "execution_count": null,
      "outputs": [
        {
          "output_type": "execute_result",
          "data": {
            "text/plain": [
              "19"
            ]
          },
          "metadata": {},
          "execution_count": 23
        }
      ]
    },
    {
      "cell_type": "code",
      "source": [
        "np.sum((x < 3)|(x>6))"
      ],
      "metadata": {
        "colab": {
          "base_uri": "https://localhost:8080/"
        },
        "id": "ZgAwndD3i3NQ",
        "outputId": "773476a8-b7b1-4174-e373-3a5ea99124a0"
      },
      "execution_count": null,
      "outputs": [
        {
          "output_type": "execute_result",
          "data": {
            "text/plain": [
              "17"
            ]
          },
          "metadata": {},
          "execution_count": 24
        }
      ]
    },
    {
      "cell_type": "code",
      "source": [
        "np.sum(~(x < 9), axis=1)"
      ],
      "metadata": {
        "colab": {
          "base_uri": "https://localhost:8080/"
        },
        "id": "u1KLIF3Ai2-A",
        "outputId": "65e38d0d-4d46-4b0d-d1f0-3fbbe3c7df3d"
      },
      "execution_count": null,
      "outputs": [
        {
          "output_type": "execute_result",
          "data": {
            "text/plain": [
              "array([1, 0, 0, 2, 0])"
            ]
          },
          "metadata": {},
          "execution_count": 26
        }
      ]
    },
    {
      "cell_type": "markdown",
      "source": [
        "###5.3 Булевы массивы как маски.\n",
        "Гораздо больше возможностей дает использование булевых массивов в качестве масок, для выбора нужных подмножеств самих данных. Чтобы выбрать нужные значения из массива, достаточно просто проиндексировать исходный массив x по этому булеву массиву. Такое действие носит название операции наложения маски или маскирования:"
      ],
      "metadata": {
        "id": "Vkuf9TDdCz8U"
      }
    },
    {
      "cell_type": "code",
      "source": [
        "x[x < 5]"
      ],
      "metadata": {
        "colab": {
          "base_uri": "https://localhost:8080/"
        },
        "id": "nCP83qG-uTSC",
        "outputId": "3265bced-02d0-4330-f547-9b52d79fcd1c"
      },
      "execution_count": null,
      "outputs": [
        {
          "output_type": "execute_result",
          "data": {
            "text/plain": [
              "array([0, 3, 3, 3, 2, 4])"
            ]
          },
          "metadata": {},
          "execution_count": 22
        }
      ]
    },
    {
      "cell_type": "markdown",
      "source": [
        "### **Практическое задание:** \n",
        "1. Выведите все значения массива удовлетворяющие условиям двух предыдущих заданий"
      ],
      "metadata": {
        "id": "QiPW05Xhu6gj"
      }
    },
    {
      "cell_type": "code",
      "source": [
        "print (x[x > 3])\n",
        "print (x[x < 9])\n",
        "print (x[x >2])\n",
        "print (x[(x < 10)&(x>3)])\n",
        "print (x[(x < 3)|(x>6)])\n",
        "m=~(x < 9)\n",
        "print (x[m])"
      ],
      "metadata": {
        "id": "ABiDQNgavO4q",
        "colab": {
          "base_uri": "https://localhost:8080/"
        },
        "outputId": "6314065c-1449-4aba-98f1-c538adb77ff6"
      },
      "execution_count": null,
      "outputs": [
        {
          "output_type": "stream",
          "name": "stdout",
          "text": [
            "[5 7 9 5 4 7 6 8 8 6 7 7 8 5 9 8 9 4 5]\n",
            "[5 0 3 3 7 3 5 2 4 7 6 8 8 1 6 7 7 8 1 5 8 4 3 0 3 5 0]\n",
            "[5 3 3 7 9 3 5 4 7 6 8 8 6 7 7 8 5 9 8 9 4 3 3 5]\n",
            "[5 7 9 5 4 7 6 8 8 6 7 7 8 5 9 8 9 4 5]\n",
            "[0 7 9 2 7 8 8 1 7 7 8 1 9 8 9 0 0]\n",
            "[9 9 9]\n"
          ]
        }
      ]
    },
    {
      "cell_type": "markdown",
      "source": [
        "Практическое задание:\n",
        "1. Создайте NumPy-массив случайных целых чисел в диапазоне от 1 до 200, размерностью (7,7)\n",
        "2. Измените значения массива таким образом, чтобы значения меньше 50 сталы равны 0, значения в диапазоне от 50 до 100, от 100 до 150 и 150 и выше, должно быть средне-арифметическим значением элементов каждого диапазона"
      ],
      "metadata": {
        "id": "aLx28j5erK1s"
      }
    },
    {
      "cell_type": "code",
      "source": [
        "rng = np.random.RandomState(1)\n",
        "x = rng.randint(1,200, size=(7, 7))\n",
        "\n",
        "x"
      ],
      "metadata": {
        "colab": {
          "base_uri": "https://localhost:8080/"
        },
        "id": "n_JbeITdsEBX",
        "outputId": "ab663b83-5423-4dee-c5c1-698f39974e34"
      },
      "execution_count": null,
      "outputs": [
        {
          "output_type": "execute_result",
          "data": {
            "text/plain": [
              "array([[ 38, 141,  73, 138, 134,  80, 193],\n",
              "       [145, 130,  72, 135,  26, 179,  21],\n",
              "       [102, 147, 140, 157, 158, 143,  51],\n",
              "       [ 69,  97,  87, 142, 138,   8,  64],\n",
              "       [ 62,  23,  58,   2, 129,  61,   9],\n",
              "       [142, 116, 176, 122,  31,  72, 132],\n",
              "       [199, 150,  50,  58,   4, 197,  25]])"
            ]
          },
          "metadata": {},
          "execution_count": 36
        }
      ]
    },
    {
      "cell_type": "code",
      "source": [
        "x[x<50]=0\n",
        "\n",
        "d_50_99=np.bitwise_and((x>=50),(x<100))\n",
        "d_100_149=np.bitwise_and((x>=100),(x<150))\n",
        "d_150_=(x>150)\n",
        "\n",
        "x[d_50_99]= int(x[d_50_99].sum()/np.sum(d_50_99))\n",
        "x[d_100_149]= int(x[d_100_149].sum()/np.sum(d_100_149))\n",
        "x[d_150_]= int(x[d_150_].sum()/np.sum(d_150_))\n",
        "\n",
        "x\n"
      ],
      "metadata": {
        "colab": {
          "base_uri": "https://localhost:8080/"
        },
        "id": "VhIK7sZIsCqL",
        "outputId": "dee2fd92-1367-49c0-ee1d-fc3bae95b1ac"
      },
      "execution_count": null,
      "outputs": [
        {
          "output_type": "execute_result",
          "data": {
            "text/plain": [
              "array([[  0, 133,  68, 133, 133,  68, 179],\n",
              "       [133, 133,  68, 133,   0, 179,   0],\n",
              "       [133, 133, 133, 179, 179, 133,  68],\n",
              "       [ 68,  68,  68, 133, 133,   0,  68],\n",
              "       [ 68,   0,  68,   0, 133,  68,   0],\n",
              "       [133, 133, 179, 133,   0,  68, 133],\n",
              "       [179, 150,  68,  68,   0, 179,   0]])"
            ]
          },
          "metadata": {},
          "execution_count": 35
        }
      ]
    },
    {
      "cell_type": "markdown",
      "source": [
        "3. С учетом наработок в предыдущих пунктах создайте функцию, которая в качестве аргументов принимает произвольный двумерный NumPy-массив и целое число (количество диапазонов). Функция возвращает NumPy-массив, той же размерности, в котором все значения заменены на средне-арифметическое элементов диапазона.\n",
        "4. Продемонстрируйте результат работы функции, на нескольких примерах.\n"
      ],
      "metadata": {
        "id": "zpxBDfUT3ao1"
      }
    },
    {
      "cell_type": "code",
      "source": [
        "import numpy as np\n",
        "def arith_mean(x):\n",
        "  \n",
        "  x[x<50]=0\n",
        "\n",
        "  d_50_99=np.bitwise_and((x>=50),(x<100))\n",
        "  d_100_149=np.bitwise_and((x>=100),(x<150))\n",
        "  d_150_=(x>150)\n",
        "\n",
        "  x[d_50_99]= int(x[d_50_99].sum()/np.sum(d_50_99))\n",
        "  x[d_100_149]= int(x[d_100_149].sum()/np.sum(d_100_149))\n",
        "  x[d_150_]= int(x[d_150_].sum()/np.sum(d_150_))\n",
        "\n",
        "  return x  "
      ],
      "metadata": {
        "id": "uPanoBJq5D77"
      },
      "execution_count": null,
      "outputs": []
    },
    {
      "cell_type": "code",
      "source": [
        "rng = np.random.RandomState(3) # для создания генератора случайных чисел, изолированного от других\n",
        "x = rng.randint(1,200, size=(7, 7))\n",
        "y = rng.randint(1,200, size=(3, 3))\n",
        "z = rng.randint(1,200, size=(3, 3))\n",
        "print ('\\n',x,'\\n',y,'\\n',z)\n",
        "print ('\\n',arith_mean(x),'\\n',arith_mean(y),'\\n',arith_mean(z))"
      ],
      "metadata": {
        "colab": {
          "base_uri": "https://localhost:8080/"
        },
        "id": "Rv4cwIl590Ci",
        "outputId": "94cda5a5-0244-4c55-f10f-a8075c82b89d"
      },
      "execution_count": null,
      "outputs": [
        {
          "output_type": "stream",
          "name": "stdout",
          "text": [
            "\n",
            " [[107 153 132 185   1  22 148]\n",
            " [108 170 139 150 120 167 149]\n",
            " [173  94 168 143  27  82 151]\n",
            " [ 67   3 192  61 130 180  91]\n",
            " [ 70 105 111  98 158 107 153]\n",
            " [ 63   8 172  34 124  80 177]\n",
            " [ 38  21  95  50 150 128  29]] \n",
            " [[120  55   1]\n",
            " [193  19 117]\n",
            " [192 166 185]] \n",
            " [[185 166 175]\n",
            " [ 34 114   2]\n",
            " [ 86 118 120]]\n",
            "\n",
            " [[125 169 125 169   0   0 125]\n",
            " [125 169 125 150 125 169 125]\n",
            " [169  77 169 125   0  77 169]\n",
            " [ 77   0 169  77 125 169  77]\n",
            " [ 77 125 125  77 169 125 169]\n",
            " [ 77   0 169   0 125  77 169]\n",
            " [  0   0  77  77 150 125   0]] \n",
            " [[118  55   0]\n",
            " [184   0 118]\n",
            " [184 184 184]] \n",
            " [[175 175 175]\n",
            " [  0 117   0]\n",
            " [ 86 117 117]]\n"
          ]
        }
      ]
    },
    {
      "cell_type": "markdown",
      "metadata": {
        "id": "R1KoDj8LXDEx"
      },
      "source": [
        "##6. «Прихотливая» индексация.\n",
        "«Прихотливая» индексация похожа на простую индексацию, но вместо скалярных значений передаются массивы индексов. Это дает возможность очень быстрого доступа и модификации сложных подмножеств значений массива."
      ]
    },
    {
      "cell_type": "markdown",
      "source": [
        "###6.1 Исследуем возможности «прихотливой» индексации.\n",
        "Суть «прихотливой» индексации проста: она заключается в передаче массива индексов с целью одновременного доступа к нескольким элементам массива."
      ],
      "metadata": {
        "id": "hDCFUdUXDpOF"
      }
    },
    {
      "cell_type": "code",
      "source": [
        "import numpy as np\n",
        "rand = np.random.RandomState(45)\n",
        "x = rand.randint(100, size=10)\n",
        "print(x)"
      ],
      "metadata": {
        "colab": {
          "base_uri": "https://localhost:8080/"
        },
        "id": "lggKxGspxXmv",
        "outputId": "9d5827c8-f4c4-46c4-c039-6006032dbc40"
      },
      "execution_count": null,
      "outputs": [
        {
          "output_type": "stream",
          "name": "stdout",
          "text": [
            "[75 30  3 32 95 61 85 35 68 15]\n"
          ]
        }
      ]
    },
    {
      "cell_type": "code",
      "source": [
        "print(x[3], x[7], x[4]) # нам требуется обратиться к трем различным элементам\n",
        "ind = [3, 7, 4] # можно передать единый список индексов и получить тот же результат\n",
        "print(x[ind])"
      ],
      "metadata": {
        "colab": {
          "base_uri": "https://localhost:8080/"
        },
        "id": "LuAvxa1Exqyg",
        "outputId": "484329c0-d00b-46fd-eb21-93bcffeb5498"
      },
      "execution_count": null,
      "outputs": [
        {
          "output_type": "stream",
          "name": "stdout",
          "text": [
            "32 35 95\n",
            "[32 35 95]\n"
          ]
        }
      ]
    },
    {
      "cell_type": "markdown",
      "source": [
        "В случае «прихотливой» индексации форма результата отражает форму массивов индексов (index arrays), а не форму индексируемого массива:"
      ],
      "metadata": {
        "id": "gZJUBh3kzfxd"
      }
    },
    {
      "cell_type": "code",
      "source": [
        "ind = np.array([[3, 7],\n",
        "                [4, 5]])\n",
        "x[ind]"
      ],
      "metadata": {
        "colab": {
          "base_uri": "https://localhost:8080/"
        },
        "id": "foEmDwnLzi3J",
        "outputId": "9eadad8d-49be-465c-e405-527c57563aed"
      },
      "execution_count": null,
      "outputs": [
        {
          "output_type": "execute_result",
          "data": {
            "text/plain": [
              "array([[32, 35],\n",
              "       [95, 61]])"
            ]
          },
          "metadata": {},
          "execution_count": 28
        }
      ]
    },
    {
      "cell_type": "markdown",
      "source": [
        "«Прихотливая» индексация работает и в случае многомерных массивов."
      ],
      "metadata": {
        "id": "hNDjFGYR0XGa"
      }
    },
    {
      "cell_type": "code",
      "source": [
        "X = np.arange(12).reshape((3, 4))\n",
        "X"
      ],
      "metadata": {
        "colab": {
          "base_uri": "https://localhost:8080/"
        },
        "id": "hLonORNK0YY1",
        "outputId": "97f52c03-9509-4c56-cd10-beeb4555dc36"
      },
      "execution_count": null,
      "outputs": [
        {
          "output_type": "execute_result",
          "data": {
            "text/plain": [
              "array([[ 0,  1,  2,  3],\n",
              "       [ 4,  5,  6,  7],\n",
              "       [ 8,  9, 10, 11]])"
            ]
          },
          "metadata": {},
          "execution_count": 29
        }
      ]
    },
    {
      "cell_type": "code",
      "source": [
        "row = np.array([0, 1, 2])\n",
        "col = np.array([2, 1, 3])\n",
        "X[row, col] # Аналогично обычной индексации первый индекс относится к строкам, а второй — к столбцам"
      ],
      "metadata": {
        "colab": {
          "base_uri": "https://localhost:8080/"
        },
        "id": "W10-kCK70g_c",
        "outputId": "b4ece183-a4c2-464c-f412-d02c99fb9494"
      },
      "execution_count": null,
      "outputs": [
        {
          "output_type": "execute_result",
          "data": {
            "text/plain": [
              "array([ 2,  5, 11])"
            ]
          },
          "metadata": {},
          "execution_count": 30
        }
      ]
    },
    {
      "cell_type": "markdown",
      "source": [
        "Составление пар индексов при «прихотливой» индексации подчиняется всем правилам транслирования."
      ],
      "metadata": {
        "id": "rkm9N5Zg0wA0"
      }
    },
    {
      "cell_type": "code",
      "source": [
        "X[row[:, np.newaxis], col] # скомбинируем вектор-столбец и вектор-строку в индексах, то получим двумерный результат"
      ],
      "metadata": {
        "colab": {
          "base_uri": "https://localhost:8080/"
        },
        "id": "QY0AW2JL0-oQ",
        "outputId": "16f2bd45-aa7f-4e0b-eeeb-4a9980a14670"
      },
      "execution_count": null,
      "outputs": [
        {
          "output_type": "execute_result",
          "data": {
            "text/plain": [
              "array([[ 2,  1,  3],\n",
              "       [ 6,  5,  7],\n",
              "       [10,  9, 11]])"
            ]
          },
          "metadata": {},
          "execution_count": 31
        }
      ]
    },
    {
      "cell_type": "code",
      "source": [
        "row[:, np.newaxis] * np.ones(3) # как транслируется "
      ],
      "metadata": {
        "colab": {
          "base_uri": "https://localhost:8080/"
        },
        "id": "ITn4zz2m18sc",
        "outputId": "faf7191e-e643-47ca-969f-e73d008008c6"
      },
      "execution_count": null,
      "outputs": [
        {
          "output_type": "execute_result",
          "data": {
            "text/plain": [
              "array([[0., 0., 0.],\n",
              "       [1., 1., 1.],\n",
              "       [2., 2., 2.]])"
            ]
          },
          "metadata": {},
          "execution_count": 35
        }
      ]
    },
    {
      "cell_type": "markdown",
      "source": [
        "Каждое строчное значение соединяется с каждым вектором-столбцом точно так же, как при транслировании арифметических операций.\n",
        "\n",
        "(0,2) (0,1) (0,3)\n",
        "\n",
        "(1,2) (1,1) (1,3)\n",
        "\n",
        "(2,2) (2,1) (2,3)"
      ],
      "metadata": {
        "id": "v3fT9XXc2u31"
      }
    },
    {
      "cell_type": "markdown",
      "source": [
        "При работе с «прихотливой» индексацией важно помнить, что возвращаемое значение отражает транслируемую форму индексов, а не форму индексируемого массива."
      ],
      "metadata": {
        "id": "lSBKyLKD46rf"
      }
    },
    {
      "cell_type": "markdown",
      "source": [
        "### **Практическое задание:**\n",
        "\n",
        "\n",
        "1.   Создайте два массива случайный целых чисел размерностью (6,4) \n",
        "1.   Выведите на печать каждый второй элемент в каждой строке масиива с помощью прихотливой индексации\n"
      ],
      "metadata": {
        "id": "jNkrQR8Anevo"
      }
    },
    {
      "cell_type": "markdown",
      "source": [
        "Практическое задание:\n",
        "1. Создайте массив случайный целых чисел размерностью (6,4)\n",
        "2. Выведите на печать каждый второй элемент в каждой строке массива с помощью прихотливой индексации\n",
        "3. Создайте функцию которая на вход принимает двумерный массив, и возвращает массив размерностью вдвое меньше исходного, в который входят каждый второй элемент исходного массива\n"
      ],
      "metadata": {
        "id": "2S5BshGmnMbY"
      }
    },
    {
      "cell_type": "code",
      "source": [
        "import numpy as np\n",
        "rand = np.random.RandomState(45)\n",
        "x = rand.randint(10, size=(6,4))\n",
        "print(x)"
      ],
      "metadata": {
        "colab": {
          "base_uri": "https://localhost:8080/"
        },
        "id": "vVpxDGKQnXD1",
        "outputId": "c2510378-b6c8-450e-cbae-31d97f3d91ed"
      },
      "execution_count": null,
      "outputs": [
        {
          "output_type": "stream",
          "name": "stdout",
          "text": [
            "[[3 0 5 3]\n",
            " [4 9 8 1]\n",
            " [5 9 6 8]\n",
            " [7 8 5 2]\n",
            " [8 1 6 4]\n",
            " [8 4 6 4]]\n"
          ]
        }
      ]
    },
    {
      "cell_type": "code",
      "source": [
        "row=np.arange(x.shape[0])[:, np.newaxis]\n",
        "col=1\n",
        "x[row,col::2]"
      ],
      "metadata": {
        "colab": {
          "base_uri": "https://localhost:8080/"
        },
        "id": "gxMonElNnW2l",
        "outputId": "6cf6919c-db19-42f7-8f3e-fa55c020417c"
      },
      "execution_count": null,
      "outputs": [
        {
          "output_type": "execute_result",
          "data": {
            "text/plain": [
              "array([[[0, 3]],\n",
              "\n",
              "       [[9, 1]],\n",
              "\n",
              "       [[9, 8]],\n",
              "\n",
              "       [[8, 2]],\n",
              "\n",
              "       [[1, 4]],\n",
              "\n",
              "       [[4, 4]]])"
            ]
          },
          "metadata": {},
          "execution_count": 86
        }
      ]
    },
    {
      "cell_type": "code",
      "source": [
        "def second(x):\n",
        "  row=0\n",
        "  col=np.arange(x.size)[1::2]   #[:, np.newaxis].T\n",
        "\n",
        "  x=x.reshape(1,x.size)\n",
        "  a=x[row,col]\n",
        "\n",
        "  return a\n",
        "\n",
        "x1 = rand.randint(10, size=(6,4))\n",
        "x2 = rand.randint(100, size=(3,3))\n",
        "x3 = rand.randint(5, size=(2,8))\n",
        "\n",
        "print(x1,'\\n--->',second(x1),'\\n')\n",
        "print(x2,'\\n--->',second(x2),'\\n')\n",
        "print(x3,'\\n--->',second(x3),'\\n')\n"
      ],
      "metadata": {
        "colab": {
          "base_uri": "https://localhost:8080/"
        },
        "id": "4W9nxHq6nWic",
        "outputId": "e4743f6d-cff2-4737-9d5d-8d80030db407"
      },
      "execution_count": null,
      "outputs": [
        {
          "output_type": "stream",
          "name": "stdout",
          "text": [
            "[[8 9 7 5]\n",
            " [4 3 2 5]\n",
            " [7 9 2 5]\n",
            " [8 0 8 9]\n",
            " [4 0 2 5]\n",
            " [1 2 1 4]] \n",
            "---> [9 5 3 5 9 5 0 9 0 5 2 4] \n",
            "\n",
            "[[50 67 64]\n",
            " [77 16 10]\n",
            " [40 24 44]] \n",
            "---> [67 77 10 24] \n",
            "\n",
            "[[3 3 0 2 3 1 2 3]\n",
            " [2 0 0 1 1 2 4 4]] \n",
            "---> [3 2 1 3 0 1 2 4] \n",
            "\n"
          ]
        }
      ]
    },
    {
      "cell_type": "markdown",
      "source": [
        "###6.2 Комбинированная индексация.\n",
        "Для реализации еще более сложных операций «прихотливую» индексацию можно использовать совместно с другими схемами индексации:\n"
      ],
      "metadata": {
        "id": "L_0TyCITDuRN"
      }
    },
    {
      "cell_type": "code",
      "source": [
        "import numpy as np\n",
        "X = np.arange(12).reshape((3, 4))\n",
        "print(X)"
      ],
      "metadata": {
        "colab": {
          "base_uri": "https://localhost:8080/"
        },
        "id": "K4pq5pOseOlI",
        "outputId": "dadf49a8-5dcf-43b1-d08d-1ea84714073b"
      },
      "execution_count": null,
      "outputs": [
        {
          "output_type": "stream",
          "name": "stdout",
          "text": [
            "[[ 0  1  2  3]\n",
            " [ 4  5  6  7]\n",
            " [ 8  9 10 11]]\n"
          ]
        }
      ]
    },
    {
      "cell_type": "code",
      "source": [
        "X[2, [2, 0, 1]] # применим совместно «прихотливые» и простые индексы"
      ],
      "metadata": {
        "colab": {
          "base_uri": "https://localhost:8080/"
        },
        "id": "Jw3iN1x0egmk",
        "outputId": "4237054a-ebc9-489d-8fad-5ddac4836611"
      },
      "execution_count": null,
      "outputs": [
        {
          "output_type": "execute_result",
          "data": {
            "text/plain": [
              "array([10,  8,  9])"
            ]
          },
          "metadata": {},
          "execution_count": 3
        }
      ]
    },
    {
      "cell_type": "code",
      "source": [
        "X[1:, [2, 0, 1]] # совместно «прихотливые» индексы и срезы"
      ],
      "metadata": {
        "colab": {
          "base_uri": "https://localhost:8080/"
        },
        "id": "62lybZRee7N1",
        "outputId": "b25ad163-2359-4465-c786-b2c387c26a61"
      },
      "execution_count": null,
      "outputs": [
        {
          "output_type": "execute_result",
          "data": {
            "text/plain": [
              "array([[ 6,  4,  5],\n",
              "       [10,  8,  9]])"
            ]
          },
          "metadata": {},
          "execution_count": 3
        }
      ]
    },
    {
      "cell_type": "code",
      "source": [
        "mask = np.array([1, 0, 1, 0], dtype=bool)\n",
        "row = np.array([0, 1, 2]) \n",
        "print (mask)\n",
        "print (row[:, np.newaxis])\n",
        "X[row[:, np.newaxis], mask] # можно применять совместно «прихотливую» индексацию и маскирование"
      ],
      "metadata": {
        "colab": {
          "base_uri": "https://localhost:8080/"
        },
        "id": "2gtd1uyWfIFk",
        "outputId": "b45862e0-cbdd-4743-c78a-ea234e9748f1"
      },
      "execution_count": null,
      "outputs": [
        {
          "output_type": "stream",
          "name": "stdout",
          "text": [
            "[ True False  True False]\n",
            "[[0]\n",
            " [1]\n",
            " [2]]\n"
          ]
        },
        {
          "output_type": "execute_result",
          "data": {
            "text/plain": [
              "array([[ 0,  2],\n",
              "       [ 4,  6],\n",
              "       [ 8, 10]])"
            ]
          },
          "metadata": {},
          "execution_count": 114
        }
      ]
    },
    {
      "cell_type": "markdown",
      "source": [
        "Практическое задание:\n",
        "1. Создайте массив случайный целых чисел от 0 до 100 размерностью (7,7)\n",
        "2. С помощью комбинированной индексации выведите элементы больше 10 но меньше 70, до 5-ой строки включительно\n"
      ],
      "metadata": {
        "id": "z9T8FAXGzxMy"
      }
    },
    {
      "cell_type": "code",
      "source": [
        "x = rand.randint(100, size=(7,7))\n",
        "print (x)\n",
        "mask = np.zeros(7, dtype=bool)\n",
        "mask[:5]=True\n",
        "\n",
        "col=np.arange(x.shape[1])[:, np.newaxis]\n",
        "print(mask)\n",
        "print (col)\n",
        "usl=(x>10)&(x<70)\n",
        "x=x.T[col,mask].T\n",
        "print (x)\n",
        "usl=(x>10)&(x<70)\n",
        "x[usl]\n",
        "\n"
      ],
      "metadata": {
        "colab": {
          "base_uri": "https://localhost:8080/"
        },
        "id": "upyAz6U5z64d",
        "outputId": "da11272a-9d10-4367-8c59-18ee4986ab5b"
      },
      "execution_count": null,
      "outputs": [
        {
          "output_type": "stream",
          "name": "stdout",
          "text": [
            "[[47 72 25 57 72 47 35]\n",
            " [48 65 69 95 94 13 59]\n",
            " [71 52 22 36 67 24 54]\n",
            " [29 58 68 14 95 90 56]\n",
            " [30 98 77 82 12 98 57]\n",
            " [24 15 53 39 66 24 19]\n",
            " [ 4 89  1 11 26 58 96]]\n",
            "[ True  True  True  True  True False False]\n",
            "[[0]\n",
            " [1]\n",
            " [2]\n",
            " [3]\n",
            " [4]\n",
            " [5]\n",
            " [6]]\n",
            "[[47 72 25 57 72 47 35]\n",
            " [48 65 69 95 94 13 59]\n",
            " [71 52 22 36 67 24 54]\n",
            " [29 58 68 14 95 90 56]\n",
            " [30 98 77 82 12 98 57]]\n"
          ]
        },
        {
          "output_type": "execute_result",
          "data": {
            "text/plain": [
              "array([47, 25, 57, 47, 35, 48, 65, 69, 13, 59, 52, 22, 36, 67, 24, 54, 29,\n",
              "       58, 68, 14, 56, 30, 12, 57])"
            ]
          },
          "metadata": {},
          "execution_count": 128
        }
      ]
    },
    {
      "cell_type": "markdown",
      "source": [
        "###6.3 Пример: выборка случайных точек.\n",
        "Частая сфера применения «прихотливой» индексации — выборка подмножеств строк из матрицы. Пусть у нас имеется матрица размером N на D , представляющая N точек в D измерениях, например следующие точки, полученные из двумерного\n",
        "нормального распределения:"
      ],
      "metadata": {
        "id": "3Bqe99IMD15q"
      }
    },
    {
      "cell_type": "code",
      "source": [
        "rand = np.random.RandomState(45)\n",
        "mean = [0, 0]\n",
        "cov = [[1, 2],\n",
        "      [2, 5]]\n",
        "X = rand.multivariate_normal(mean, cov, 100)\n",
        "X.shape"
      ],
      "metadata": {
        "colab": {
          "base_uri": "https://localhost:8080/"
        },
        "id": "aIJjY9XxgS5V",
        "outputId": "d8626c0f-aca8-485d-b621-1bc26031939c"
      },
      "execution_count": null,
      "outputs": [
        {
          "output_type": "execute_result",
          "data": {
            "text/plain": [
              "(100, 2)"
            ]
          },
          "metadata": {},
          "execution_count": 7
        }
      ]
    },
    {
      "cell_type": "markdown",
      "source": [
        "Визуализируем эти точки в виде диаграммы рассеяния"
      ],
      "metadata": {
        "id": "-Jz0z_Rmg-Ah"
      }
    },
    {
      "cell_type": "code",
      "source": [
        "%matplotlib inline\n",
        "import matplotlib.pyplot as plt\n",
        "import seaborn; seaborn.set() \n",
        "plt.scatter(X[:, 0], X[:, 1]);"
      ],
      "metadata": {
        "colab": {
          "base_uri": "https://localhost:8080/",
          "height": 271
        },
        "id": "zO6d1SYZgvyv",
        "outputId": "9bafa6e4-4225-4c8d-8d0b-a50ce428d288"
      },
      "execution_count": null,
      "outputs": [
        {
          "output_type": "display_data",
          "data": {
            "text/plain": [
              "<Figure size 432x288 with 1 Axes>"
            ],
            "image/png": "[encoded data removed]"
          },
          "metadata": {}
        }
      ]
    },
    {
      "cell_type": "markdown",
      "source": [
        "Воспользуемся «прихотливой» индексацией для выборки 20 случайных точек."
      ],
      "metadata": {
        "id": "uLvcXcyDhJcu"
      }
    },
    {
      "cell_type": "code",
      "source": [
        "indices = np.random.choice(X.shape[0], 20, replace=False)\n",
        "indices"
      ],
      "metadata": {
        "colab": {
          "base_uri": "https://localhost:8080/"
        },
        "id": "p02jGgmthI-l",
        "outputId": "1322cf93-7ea4-4d19-afa8-193bbaf082a0"
      },
      "execution_count": null,
      "outputs": [
        {
          "output_type": "execute_result",
          "data": {
            "text/plain": [
              "array([94,  9, 42, 19, 45,  4, 31, 32, 23, 61, 43, 47, 72, 54, 97, 29, 65,\n",
              "       70, 90, 76])"
            ]
          },
          "metadata": {},
          "execution_count": 9
        }
      ]
    },
    {
      "cell_type": "code",
      "source": [
        "selection = X[indices]\n",
        "selection.shape"
      ],
      "metadata": {
        "colab": {
          "base_uri": "https://localhost:8080/"
        },
        "id": "Q-EbLPFghXqB",
        "outputId": "b3738d05-f9c2-4094-e922-8a68ef4917c3"
      },
      "execution_count": null,
      "outputs": [
        {
          "output_type": "execute_result",
          "data": {
            "text/plain": [
              "(20, 2)"
            ]
          },
          "metadata": {},
          "execution_count": 10
        }
      ]
    },
    {
      "cell_type": "markdown",
      "source": [
        "Нарисуем поверх первой диаграм-\n",
        "мы большие круги в местах расположения выбранных точек"
      ],
      "metadata": {
        "id": "LBmdVQIShsLt"
      }
    },
    {
      "cell_type": "code",
      "source": [
        "plt.scatter(X[:, 0], X[:, 1], alpha=0.3)\n",
        "plt.scatter(selection[:, 0], selection[:, 1],\n",
        "facecolor='Green', s=200);"
      ],
      "metadata": {
        "colab": {
          "base_uri": "https://localhost:8080/",
          "height": 271
        },
        "id": "N725MSwUhhVd",
        "outputId": "6b5980f6-3c9e-4755-b4ee-2d94b0885a73"
      },
      "execution_count": null,
      "outputs": [
        {
          "output_type": "display_data",
          "data": {
            "text/plain": [
              "<Figure size 432x288 with 1 Axes>"
            ],
            "image/png": "[encoded data removed]"
          },
          "metadata": {}
        }
      ]
    },
    {
      "cell_type": "markdown",
      "source": [
        "Подобная стратегия часто используется для быстрого секционирования наборов данных, часто требуемого при разделении на обучающую/тестовую последовательности для проверки статистических моделей."
      ],
      "metadata": {
        "id": "FZ0CPjRwiLuY"
      }
    },
    {
      "cell_type": "markdown",
      "source": [
        "###6.4 Изменение значений с помощью прихотливой индексации.\n",
        "«прихотливую» индексацию можно использовать для доступа к частям массива, ее можно применять и для модификации частей массива.\n"
      ],
      "metadata": {
        "id": "dqqQFd8BORBL"
      }
    },
    {
      "cell_type": "code",
      "source": [
        "x = np.arange(10)\n",
        "i = np.array([2, 1, 8, 4])\n",
        "x[i] = 100\n",
        "print(x)"
      ],
      "metadata": {
        "colab": {
          "base_uri": "https://localhost:8080/"
        },
        "id": "lQLgWPbIirqd",
        "outputId": "1d364258-b994-4ff6-ec33-20830587870d"
      },
      "execution_count": null,
      "outputs": [
        {
          "output_type": "stream",
          "name": "stdout",
          "text": [
            "[  0 100 100   3 100   5   6   7 100   9]\n"
          ]
        }
      ]
    },
    {
      "cell_type": "code",
      "source": [
        "x[i] -= 10\n",
        "print(x)"
      ],
      "metadata": {
        "colab": {
          "base_uri": "https://localhost:8080/"
        },
        "id": "fF-71IPYi3Mq",
        "outputId": "5f8762de-7432-454e-8b23-18e441668362"
      },
      "execution_count": null,
      "outputs": [
        {
          "output_type": "stream",
          "name": "stdout",
          "text": [
            "[ 0 90 90  3 90  5  6  7 90  9]\n"
          ]
        }
      ]
    },
    {
      "cell_type": "markdown",
      "source": [
        "### **Практическое задание:**\n",
        "\n",
        "\n",
        "1.   Возьмите массива из предыдущего задания и присвойте значения 10 одним действием каждому третьему элементу в строке, сделайте это с помощью прихотливой индексации\n"
      ],
      "metadata": {
        "id": "dhNGWoWFoPeP"
      }
    },
    {
      "cell_type": "code",
      "source": [
        "import numpy as np\n",
        "rand = np.random.RandomState(5)\n",
        "x = rand.randint(100, size=(7,7))\n",
        "print (x)\n",
        "y=x\n",
        "#x[np.arange(x.shape[0]).reshape(x.shape[0],1),2::3]=10\n",
        "x[:,[2,5]]=10\n",
        "print ('->')\n",
        "print (x)\n",
        "y[:,2::3]=10\n",
        "print (y)\n"
      ],
      "metadata": {
        "colab": {
          "base_uri": "https://localhost:8080/"
        },
        "id": "CCSUI4OuZI7K",
        "outputId": "f2280754-d2db-48a7-a490-86ab35571be1"
      },
      "execution_count": null,
      "outputs": [
        {
          "output_type": "stream",
          "name": "stdout",
          "text": [
            "[[99 78 61 16 73  8 62]\n",
            " [27 30 80  7 76 15 53]\n",
            " [80 27 44 77 75 65 47]\n",
            " [30 84 86 18  9 41 62]\n",
            " [ 1 82 16 78  5 58  0]\n",
            " [80  4 36 51 27 31  2]\n",
            " [68 38 83 19 18  7 30]]\n",
            "->\n",
            "[[99 78 10 16 73 10 62]\n",
            " [27 30 10  7 76 10 53]\n",
            " [80 27 10 77 75 10 47]\n",
            " [30 84 10 18  9 10 62]\n",
            " [ 1 82 10 78  5 10  0]\n",
            " [80  4 10 51 27 10  2]\n",
            " [68 38 10 19 18 10 30]]\n",
            "[[99 78 10 16 73 10 62]\n",
            " [27 30 10  7 76 10 53]\n",
            " [80 27 10 77 75 10 47]\n",
            " [30 84 10 18  9 10 62]\n",
            " [ 1 82 10 78  5 10  0]\n",
            " [80  4 10 51 27 10  2]\n",
            " [68 38 10 19 18 10 30]]\n"
          ]
        }
      ]
    },
    {
      "cell_type": "markdown",
      "source": [
        "###6.5 Пример: разбиение данных на интервалы.\n",
        "Можно использовать эти идеи для эффективного разбиения данных с целью построения гистограммы вручную. Например, пусть у нас есть 1000 значений и необходимо быстро выяснить, как они распределяются по массиву интервалов."
      ],
      "metadata": {
        "id": "kqnnrsqiORHf"
      }
    },
    {
      "cell_type": "code",
      "source": [
        "np.random.seed(42)\n",
        "x = np.random.randn(100)\n",
        "# Рассчитываем гистограмму вручную\n",
        "bins = np.linspace(-5, 5, 20)\n",
        "counts = np.zeros_like(bins)\n",
        "i = np.searchsorted(bins, x) # Ищем подходящий интервал для каждого x\n",
        "np.add.at(counts, i, 1) # Добавляем 1 к каждому из интервалов"
      ],
      "metadata": {
        "id": "-zBT1t_pkZ8f"
      },
      "execution_count": null,
      "outputs": []
    },
    {
      "cell_type": "markdown",
      "source": [
        "Полученные числа отражают количество точек в каждом из интервалов, другими словами, гистограмму."
      ],
      "metadata": {
        "id": "CLf-9uChkuCd"
      }
    },
    {
      "cell_type": "code",
      "source": [
        "# Визуализируем результаты\n",
        "line, = plt.plot(bins, counts)\n",
        "line.set_drawstyle('steps')"
      ],
      "metadata": {
        "colab": {
          "base_uri": "https://localhost:8080/",
          "height": 268
        },
        "id": "QB2TzJFkkxMw",
        "outputId": "f05b6dff-71b0-4884-af2f-2fb233297e27"
      },
      "execution_count": null,
      "outputs": [
        {
          "output_type": "display_data",
          "data": {
            "text/plain": [
              "<Figure size 432x288 with 1 Axes>"
            ],
            "image/png": "[encoded data removed]"
          },
          "metadata": {}
        }
      ]
    },
    {
      "cell_type": "markdown",
      "source": [
        "##7. Сортировка массивов.\n",
        "В языке Python имеются встроенные функции `sort` и `sorted` для работы со списками, но здесь нет смысла их рассматривать, поскольку функции сортировки библиотеки NumPy намного более эффективнее. \n",
        "\n",
        "\n"
      ],
      "metadata": {
        "id": "X1rQ6KP15jMC"
      }
    },
    {
      "cell_type": "markdown",
      "source": [
        "###7.1 Быстрая сортировка в библиотеке NumPy: функции np.sort и np.argsort.\n",
        "\n",
        "*   `np.sort` - получить отсортированную версию входного массива без его изменения\n",
        "*   `<np.array>.sort()` - отсортировать имеющийся массив\n",
        "*   `np.argsort` - возвращает индексы отсортированных элементов"
      ],
      "metadata": {
        "id": "5RZv7SEzEKpO"
      }
    },
    {
      "cell_type": "code",
      "source": [
        "x = np.array([2, 1, 4, 3, 5])\n",
        "np.sort(x)"
      ],
      "metadata": {
        "colab": {
          "base_uri": "https://localhost:8080/"
        },
        "id": "hpRDYDc7pvyb",
        "outputId": "8cc25bba-5f2d-4fe0-97a4-10ac0f51ac56"
      },
      "execution_count": null,
      "outputs": [
        {
          "output_type": "execute_result",
          "data": {
            "text/plain": [
              "array([1, 2, 3, 4, 5])"
            ]
          },
          "metadata": {},
          "execution_count": 21
        }
      ]
    },
    {
      "cell_type": "code",
      "source": [
        "x.sort()\n",
        "print(x)"
      ],
      "metadata": {
        "colab": {
          "base_uri": "https://localhost:8080/"
        },
        "id": "ad0xNnpzp6es",
        "outputId": "57ac103f-99af-48ad-ed5a-70ce664d5108"
      },
      "execution_count": null,
      "outputs": [
        {
          "output_type": "stream",
          "name": "stdout",
          "text": [
            "[1 2 3 4 5]\n"
          ]
        }
      ]
    },
    {
      "cell_type": "code",
      "source": [
        "x = np.array([2, 1, 4, 3, 5])\n",
        "i = np.argsort(x)\n",
        "print(i)"
      ],
      "metadata": {
        "colab": {
          "base_uri": "https://localhost:8080/"
        },
        "id": "gkLQ4XGRqDRK",
        "outputId": "01f272f7-7ec4-4520-b538-6402655e499f"
      },
      "execution_count": null,
      "outputs": [
        {
          "output_type": "stream",
          "name": "stdout",
          "text": [
            "[1 0 3 2 4]\n"
          ]
        }
      ]
    },
    {
      "cell_type": "markdown",
      "source": [
        "Сортировка по строкам и столбцам. У алгоритмов сортировки библиотеки NumPy имеется удобная возможность выполнять сортировку по конкретным строкам или столбцам многомерного массива путем задания аргумента axis ."
      ],
      "metadata": {
        "id": "8lGSJkvqqNFW"
      }
    },
    {
      "cell_type": "code",
      "source": [
        "rand = np.random.RandomState(42)\n",
        "X = rand.randint(0, 10, (4, 6))\n",
        "print(X)"
      ],
      "metadata": {
        "colab": {
          "base_uri": "https://localhost:8080/"
        },
        "id": "b_tfzmhAqSZH",
        "outputId": "34ced417-2c34-49f5-8efe-956181e1deed"
      },
      "execution_count": null,
      "outputs": [
        {
          "output_type": "stream",
          "name": "stdout",
          "text": [
            "[[6 3 7 4 6 9]\n",
            " [2 6 7 4 3 7]\n",
            " [7 2 5 4 1 7]\n",
            " [5 1 4 0 9 5]]\n"
          ]
        }
      ]
    },
    {
      "cell_type": "code",
      "source": [
        "np.sort(X, axis=0) # Сортируем все столбцы массива X"
      ],
      "metadata": {
        "colab": {
          "base_uri": "https://localhost:8080/"
        },
        "id": "aDME1cv0qb_l",
        "outputId": "b6dce000-87f6-444e-b1e8-11e3891c5c33"
      },
      "execution_count": null,
      "outputs": [
        {
          "output_type": "execute_result",
          "data": {
            "text/plain": [
              "array([[2, 1, 4, 0, 1, 5],\n",
              "       [5, 2, 5, 4, 3, 7],\n",
              "       [6, 3, 7, 4, 6, 7],\n",
              "       [7, 6, 7, 4, 9, 9]])"
            ]
          },
          "metadata": {},
          "execution_count": 25
        }
      ]
    },
    {
      "cell_type": "markdown",
      "source": [
        "### **Практическое задание:**\n",
        "\n",
        "\n",
        "1.   Создайте массив случайный целых чисел размерностью (5,7)\n",
        "1.   Выведите отсортированнную по столбцам копию массива\n",
        "2.   Выведите отсортированнную по строкам копию массива\n",
        "2.   Выведите индексы отсортированных элементов массива\n",
        "\n"
      ],
      "metadata": {
        "id": "_tI23ynhqy9G"
      }
    },
    {
      "cell_type": "code",
      "source": [
        "import numpy as np\n",
        "rand = np.random.RandomState(11)\n",
        "X = rand.randint(0,100, (5, 7))\n",
        "print(X)\n",
        "print (np.sort(X, axis=1))\n",
        "print ('->',np.argsort(X, axis=1) )\n",
        "print (np.sort(X, axis=0))\n",
        "print ('->',np.argsort(X, axis=0) )"
      ],
      "metadata": {
        "colab": {
          "base_uri": "https://localhost:8080/"
        },
        "id": "d4u13zopjYSo",
        "outputId": "64f198f3-322b-4836-97ba-dfaa4b8a7873"
      },
      "execution_count": null,
      "outputs": [
        {
          "output_type": "stream",
          "name": "stdout",
          "text": [
            "[[25 63 80 91 81 55 13]\n",
            " [76 33 71 82 24 92 48]\n",
            " [32 45  4 34 12  1 74]\n",
            " [37 84 81 91 24 17 67]\n",
            " [70 43 64 79 96 23 27]]\n",
            "[[13 25 55 63 80 81 91]\n",
            " [24 33 48 71 76 82 92]\n",
            " [ 1  4 12 32 34 45 74]\n",
            " [17 24 37 67 81 84 91]\n",
            " [23 27 43 64 70 79 96]]\n",
            "-> [[6 0 5 1 2 4 3]\n",
            " [4 1 6 2 0 3 5]\n",
            " [5 2 4 0 3 1 6]\n",
            " [5 4 0 6 2 1 3]\n",
            " [5 6 1 2 0 3 4]]\n",
            "[[25 33  4 34 12  1 13]\n",
            " [32 43 64 79 24 17 27]\n",
            " [37 45 71 82 24 23 48]\n",
            " [70 63 80 91 81 55 67]\n",
            " [76 84 81 91 96 92 74]]\n",
            "-> [[0 1 2 2 2 2 0]\n",
            " [2 4 4 4 1 3 4]\n",
            " [3 2 1 1 3 4 1]\n",
            " [4 0 0 0 0 0 3]\n",
            " [1 3 3 3 4 1 2]]\n"
          ]
        }
      ]
    },
    {
      "cell_type": "markdown",
      "source": [
        "###7.2 Частичные сортировки: секционирование.\n",
        "Иногда нам не требуется сортировать весь массив, а просто нужно найти K наименьших значений в нем. Библиотека NumPy предоставляет для этой цели функцию `np.partition`\n",
        "\n",
        "\n",
        "*   `np.partition` - функция принимает на входе массив и число K. Результат представляет собой новый массив с K наименьшими значениями слева от точки разбиения и остальные значения справа от нее в произвольном порядке\n",
        "*   `np.argpartition` - функция аналогичным образом вычисляющая индексы для секции\n",
        "\n"
      ],
      "metadata": {
        "id": "BAaCKmBXEOpL"
      }
    },
    {
      "cell_type": "code",
      "source": [
        "x = np.array([7, 2, 3, 1, 6, 5, 4])\n",
        "np.partition(x, 3)"
      ],
      "metadata": {
        "colab": {
          "base_uri": "https://localhost:8080/"
        },
        "id": "mXplxjQNtPKr",
        "outputId": "6110682d-dac1-49b1-d9a2-eeda1bb635fb"
      },
      "execution_count": null,
      "outputs": [
        {
          "output_type": "execute_result",
          "data": {
            "text/plain": [
              "array([2, 1, 3, 4, 6, 5, 7])"
            ]
          },
          "metadata": {},
          "execution_count": 26
        }
      ]
    },
    {
      "cell_type": "code",
      "source": [
        "print(X)\n",
        "print()\n",
        "print(np.partition(X, 2, axis=1)) # можно секционировать по произвольной оси многомерного массива"
      ],
      "metadata": {
        "colab": {
          "base_uri": "https://localhost:8080/"
        },
        "id": "UBK6cOG0uQVe",
        "outputId": "383cf35b-3856-4135-88d6-2b7f757c5bf4"
      },
      "execution_count": null,
      "outputs": [
        {
          "output_type": "stream",
          "name": "stdout",
          "text": [
            "[[6 3 7 4 6 9]\n",
            " [2 6 7 4 3 7]\n",
            " [7 2 5 4 1 7]\n",
            " [5 1 4 0 9 5]]\n",
            "\n",
            "[[3 4 6 7 6 9]\n",
            " [2 3 4 7 6 7]\n",
            " [1 2 4 5 7 7]\n",
            " [0 1 4 5 9 5]]\n"
          ]
        }
      ]
    },
    {
      "cell_type": "markdown",
      "source": [
        "Практическое задание:\n",
        "\n",
        "1. Используйте массив случайный целых чисел размерностью (5,7) из предыдущего задания\n",
        "2. Выведите копию массива, отсортированнную до 4-го столбца, по столбцам\n",
        "3. Выведите копию массива, отсортированнную до 4-ой строки, по строкам\n",
        "4. Выведите индексы отсортированных элементов массива, отсортированнную до 4-ой строки по строкам\n"
      ],
      "metadata": {
        "id": "FE3GsHltplbp"
      }
    },
    {
      "cell_type": "code",
      "source": [
        "print(X)\n",
        "print()\n",
        "#print(np.sort(np.partition(X, 4, axis=1), axis=1))\n",
        "print(np.partition(X, 4, axis=1))\n",
        "print(np.partition(X, 4, axis=0))\n",
        "print(np.argpartition(X, 4, axis=0))"
      ],
      "metadata": {
        "colab": {
          "base_uri": "https://localhost:8080/"
        },
        "id": "mKkSKyvkpwah",
        "outputId": "4f9cc998-37b8-4425-9eb8-20c835cd9735"
      },
      "execution_count": null,
      "outputs": [
        {
          "output_type": "stream",
          "name": "stdout",
          "text": [
            "[[25 63 80 91 81 55 13]\n",
            " [76 33 71 82 24 92 48]\n",
            " [32 45  4 34 12  1 74]\n",
            " [37 84 81 91 24 17 67]\n",
            " [70 43 64 79 96 23 27]]\n",
            "\n",
            "[[13 25 55 63 80 81 91]\n",
            " [24 48 71 33 76 92 82]\n",
            " [12 32  4  1 34 45 74]\n",
            " [24 37 17 67 81 84 91]\n",
            " [23 27 64 43 70 96 79]]\n",
            "[[25 33  4 34 24 17 13]\n",
            " [32 43 64 79 12  1 27]\n",
            " [37 45 71 82 24 23 48]\n",
            " [70 63 80 91 81 55 67]\n",
            " [76 84 81 91 96 92 74]]\n",
            "[[0 1 2 2 3 3 0]\n",
            " [2 4 4 4 2 2 4]\n",
            " [3 2 1 1 1 4 1]\n",
            " [4 0 0 3 0 0 3]\n",
            " [1 3 3 0 4 1 2]]\n"
          ]
        }
      ]
    },
    {
      "cell_type": "markdown",
      "source": [
        "##8. Структурированные данные: структурированные массивы библиотеки NumPy.\n",
        "Существуют иные возможности библиотеки NumPy представления данных, отличных от однородного массива, такие  как структурированные массивы (structured arrays) и массивы записей (record arrays), обеспечивающих эффективное хранилище для\n",
        "сложных неоднородных данных."
      ],
      "metadata": {
        "id": "It86xVhE5yG7"
      }
    },
    {
      "cell_type": "code",
      "source": [
        "# Используем для структурированного массива составной тип данных\n",
        "data = np.zeros(4, dtype={'names':('name', 'age', 'weight'),\n",
        "                        'formats':('U10', 'i4', 'f8')})\n",
        "print(data.dtype)"
      ],
      "metadata": {
        "colab": {
          "base_uri": "https://localhost:8080/"
        },
        "id": "q5sSkqt8xRpE",
        "outputId": "f1e3be9e-13a4-45f6-bf47-af48a115df88"
      },
      "execution_count": null,
      "outputs": [
        {
          "output_type": "stream",
          "name": "stdout",
          "text": [
            "[('name', '<U10'), ('age', '<i4'), ('weight', '<f8')]\n"
          ]
        }
      ]
    },
    {
      "cell_type": "code",
      "source": [
        "name = ['Alice', 'Bob', 'Cathy', 'Doug']\n",
        "age = [25, 45, 37, 19]\n",
        "weight = [55.0, 85.5, 68.0, 61.5]\n",
        "# Создав пустой массив-контейнер, его можно заполнить списком значений\n",
        "data['name'] = name\n",
        "data['age'] = age\n",
        "data['weight'] = weight\n",
        "print(data)"
      ],
      "metadata": {
        "colab": {
          "base_uri": "https://localhost:8080/"
        },
        "id": "IWJ8N1dj2rzI",
        "outputId": "b53dd660-a4ff-44d3-e43c-da73d30e367d"
      },
      "execution_count": null,
      "outputs": [
        {
          "output_type": "stream",
          "name": "stdout",
          "text": [
            "[('Alice', 25, 55. ) ('Bob', 45, 85.5) ('Cathy', 37, 68. )\n",
            " ('Doug', 19, 61.5)]\n"
          ]
        }
      ]
    },
    {
      "cell_type": "markdown",
      "source": [
        "В структурированных массивах удобно то, что можно ссылаться на значения и по имени, и по индексу:"
      ],
      "metadata": {
        "id": "t38bZlZz3HRD"
      }
    },
    {
      "cell_type": "code",
      "source": [
        "data['name'] # Извлечь все имена"
      ],
      "metadata": {
        "colab": {
          "base_uri": "https://localhost:8080/"
        },
        "id": "FmkgOLMI3LlX",
        "outputId": "14c70794-40ab-4463-a803-68e2695bc100"
      },
      "execution_count": null,
      "outputs": [
        {
          "output_type": "execute_result",
          "data": {
            "text/plain": [
              "array(['Alice', 'Bob', 'Cathy', 'Doug'], dtype='<U10')"
            ]
          },
          "metadata": {},
          "execution_count": 32
        }
      ]
    },
    {
      "cell_type": "code",
      "source": [
        "data[0] # Извлечь первую строку данных"
      ],
      "metadata": {
        "colab": {
          "base_uri": "https://localhost:8080/"
        },
        "id": "3qWBFt5L3cex",
        "outputId": "574e67fc-cf36-4c5d-aa1d-abd55da09d16"
      },
      "execution_count": null,
      "outputs": [
        {
          "output_type": "execute_result",
          "data": {
            "text/plain": [
              "('Alice', 25, 55.)"
            ]
          },
          "metadata": {},
          "execution_count": 33
        }
      ]
    },
    {
      "cell_type": "code",
      "source": [
        "data[-1]['name'] # Извлечь имя из последней строки"
      ],
      "metadata": {
        "colab": {
          "base_uri": "https://localhost:8080/",
          "height": 35
        },
        "id": "tdo2vebN3n8h",
        "outputId": "930f5128-2c71-485f-bdaa-33d24fb10cdb"
      },
      "execution_count": null,
      "outputs": [
        {
          "output_type": "execute_result",
          "data": {
            "text/plain": [
              "'Doug'"
            ],
            "application/vnd.google.colaboratory.intrinsic+json": {
              "type": "string"
            }
          },
          "metadata": {},
          "execution_count": 34
        }
      ]
    },
    {
      "cell_type": "markdown",
      "source": [
        "Есть возможность с помощью булева маскирования выполнять и более\n",
        "сложные операции."
      ],
      "metadata": {
        "id": "QEiv3n004AWY"
      }
    },
    {
      "cell_type": "code",
      "source": [
        "data[data['age'] < 30]['name'] # Извлечь имена людей с возрастом менее 30"
      ],
      "metadata": {
        "colab": {
          "base_uri": "https://localhost:8080/"
        },
        "id": "zIzC8GP530IQ",
        "outputId": "86ebabd1-f213-41d7-c77e-f1d284e844bc"
      },
      "execution_count": null,
      "outputs": [
        {
          "output_type": "execute_result",
          "data": {
            "text/plain": [
              "array(['Alice', 'Doug'], dtype='<U10')"
            ]
          },
          "metadata": {},
          "execution_count": 35
        }
      ]
    },
    {
      "cell_type": "markdown",
      "source": [
        "###8.1 Создание структурированных массивов.\n",
        "Типы данных для структурированных массивов можно задавать несколькими способами. Кроме, ранее рассмотренного метода с использованием словаря, составные типы данных можно задавать в виде списка кортежей:"
      ],
      "metadata": {
        "id": "dbS6tcNOFkc2"
      }
    },
    {
      "cell_type": "code",
      "source": [
        "np.dtype([('name', 'S10'), ('age', 'i4'), ('weight', 'f8')])"
      ],
      "metadata": {
        "colab": {
          "base_uri": "https://localhost:8080/"
        },
        "id": "c5etC6NQT8rL",
        "outputId": "800a7ff6-7501-438c-be1f-54551fcf3bb4"
      },
      "execution_count": null,
      "outputs": [
        {
          "output_type": "execute_result",
          "data": {
            "text/plain": [
              "dtype([('name', 'S10'), ('age', '<i4'), ('weight', '<f8')])"
            ]
          },
          "metadata": {},
          "execution_count": 4
        }
      ]
    },
    {
      "cell_type": "code",
      "source": [
        "np.dtype('S10,i4,f8') # можно задать только сами типы данных через запятые строке"
      ],
      "metadata": {
        "colab": {
          "base_uri": "https://localhost:8080/"
        },
        "id": "21heDqEXUWyJ",
        "outputId": "aa94ec55-8c83-460e-e6c4-1fb7e3f9f227"
      },
      "execution_count": null,
      "outputs": [
        {
          "output_type": "execute_result",
          "data": {
            "text/plain": [
              "dtype([('f0', 'S10'), ('f1', '<i4'), ('f2', '<f8')])"
            ]
          },
          "metadata": {},
          "execution_count": 5
        }
      ]
    },
    {
      "cell_type": "markdown",
      "source": [
        "Можно задавать числовые типы как с применением типов данных\n",
        "языка Python, так и типов dtype библиотеки NumPy.\n",
        "* Символ Описание Пример\n",
        "* `'b'` Байтовый тип `np.dtype('b')`\n",
        "* `'i'` Знаковое целое число `np.dtype('i4') == np.int32`\n",
        "* `'u'` Беззнаковое целое число `np.dtype('u1') == np.uint8`\n",
        "* `'f'` Число с плавающей точкой `np.dtype('f8') == np.int64`\n",
        "* `'c'` Комплексное число с плавающей точкой `np.dtype('c16') == np.complex128`\n",
        "* `'S'`, `'a'` Строка `np.dtype('S5')`\n",
        "* `'U'` Строка в кодировке Unicode `np.dtype('U') == np.str_`\n",
        "* `'V'` Неформатированные данные (тип void) `np.dtype('V') == np.void`"
      ],
      "metadata": {
        "id": "Solj8ULpUn2R"
      }
    },
    {
      "cell_type": "markdown",
      "source": [
        "Сокращенные строковые коды форматов основаны на простых принципах. Первый (необязательный) символ — `<` или `>` ,\n",
        "означает «число с прямым порядком байтов» или «число с обратным порядком байтов» соответственно и задает порядок значащих битов. Следующий символ задает тип данных: символы, байтовый тип, целые числа, числа с плавающей точкой и т. д. Последний символ или символы отражают размер объекта в байтах."
      ],
      "metadata": {
        "id": "7C8Y47O1V5N3"
      }
    },
    {
      "cell_type": "markdown",
      "source": [
        "###8.2 Более продвинутые типы данных.\n",
        "Можно описывать и еще более продвинутые типы данных. Например, создать тип, в котором каждый элемент содержит массив или матрицу значений.\n"
      ],
      "metadata": {
        "id": "9JnMsE7yFpab"
      }
    },
    {
      "cell_type": "code",
      "source": [
        "tp = np.dtype([('id', 'i8'), ('mat', 'f8', (3, 3))])\n",
        "X = np.zeros(1, dtype=tp)\n",
        "print(X[0])\n",
        "print(X['mat'][0])"
      ],
      "metadata": {
        "colab": {
          "base_uri": "https://localhost:8080/"
        },
        "id": "OswWcYzMWYhd",
        "outputId": "776d64a4-e381-4653-97cb-621e4b3e4b51"
      },
      "execution_count": null,
      "outputs": [
        {
          "output_type": "stream",
          "name": "stdout",
          "text": [
            "(0, [[0., 0., 0.], [0., 0., 0.], [0., 0., 0.]])\n",
            "[[0. 0. 0.]\n",
            " [0. 0. 0.]\n",
            " [0. 0. 0.]]\n"
          ]
        }
      ]
    },
    {
      "cell_type": "markdown",
      "source": [
        "### **Практическое задание:**\n",
        "\n",
        "\n",
        "1.   Создайте структурированный массив, который будет содержать записи успеваемости студента: Имя, Фамилия, Отчество, Предмет, Оценка, с соответствующими типами данных для каждого поля.\n",
        "1.   Заполните это массив, который как минимум должен содержать записи о 3-х студентах и по 3 предмета для каждого\n",
        "2.   Выведите имеющийся список студентов без повторений\n",
        "2.   Выведите средний бал каждого студента\n",
        "1.   Выведите средний бал студентов по каждому предмету"
      ],
      "metadata": {
        "id": "kxhpnZg6pGQ9"
      }
    },
    {
      "cell_type": "code",
      "source": [
        "#tip_uspeha = np.dtype([('Predmet', 'S10'), ('Value', 'i4')])\n",
        "#Ucheba = np.zeros(3, dtype=tip_uspeha)\n",
        "#Ucheba['Predmet']=['Predmet1','Predmet2','Predmet3']\n",
        "#print (Ucheba['Predmet'])\n",
        "\n",
        "zhurnal_tip=np.dtype([('Name', 'U10'), ('Family', 'U10'), ('Otches', 'U10'), ('Predmet1', 'U10'), ('Value1', 'i4'), ('Predmet2', 'U10'), ('Value2', 'i4'), ('Predmet3', 'U10'), ('Value3', 'i4')])\n",
        "zhurnal = np.zeros(3, dtype=zhurnal_tip)\n",
        "#print(zhurnal.dtype)\n",
        "\n",
        "zhurnal[0]=('Alexey','Dokin','V.','P1',5,'P2',4,'P3',3)\n",
        "zhurnal[1]=('Ivan','Dokin1','V.','P1',5,'P2',3,'P3',5)\n",
        "zhurnal[2]=('Nick','Dokin2','V.','P1',5,'P2',2,'P3',1)\n",
        "\n",
        "print (zhurnal)\n",
        "print (zhurnal['Family'])\n",
        "\n",
        "#print (zhurnal['Value1'])\n",
        "#print (zhurnal['Value1'][0])\n",
        "v1=np.array([zhurnal['Value1'][0],zhurnal['Value2'][0],zhurnal['Value3'][0]]).mean()\n",
        "v2=np.array([zhurnal['Value1'][1],zhurnal['Value2'][1],zhurnal['Value3'][1]]).mean()\n",
        "v3=np.array([zhurnal['Value1'][2],zhurnal['Value2'][2],zhurnal['Value3'][2]]).mean()\n",
        "print (v1,v2,v3)\n",
        "\n",
        "print (zhurnal['Value1'].mean(),zhurnal['Value2'].mean(),zhurnal['Value3'].mean())\n"
      ],
      "metadata": {
        "colab": {
          "base_uri": "https://localhost:8080/"
        },
        "id": "mu_5cN4kxM2g",
        "outputId": "daf0d5b7-3001-4b29-84fb-77b59ffc4f9a"
      },
      "execution_count": null,
      "outputs": [
        {
          "output_type": "stream",
          "name": "stdout",
          "text": [
            "[('Alexey', 'Dokin', 'V.', 'P1', 5, 'P2', 4, 'P3', 3)\n",
            " ('Ivan', 'Dokin1', 'V.', 'P1', 5, 'P2', 3, 'P3', 5)\n",
            " ('Nick', 'Dokin2', 'V.', 'P1', 5, 'P2', 2, 'P3', 1)]\n",
            "['Dokin' 'Dokin1' 'Dokin2']\n",
            "4.0 4.333333333333333 2.6666666666666665\n",
            "5.0 3.0 3.0\n"
          ]
        }
      ]
    },
    {
      "cell_type": "markdown",
      "source": [
        "###8.3 Массивы записей: структурированные массивы с дополнительными возможностями.\n",
        "\n",
        "Библиотека NumPy предоставляет класс `np.recarray`, практически идентичный только что описанным структурированным массивам, но с одной дополнительной возможностью: доступ к полям можно осуществлять как к атрибутам, а не только как к ключам словаря."
      ],
      "metadata": {
        "id": "wQubG2UdFtbk"
      }
    },
    {
      "cell_type": "code",
      "source": [
        "data['age']"
      ],
      "metadata": {
        "colab": {
          "base_uri": "https://localhost:8080/"
        },
        "id": "-F5WsoavYWft",
        "outputId": "1c8ce32a-ff9e-4ddb-e185-8982702bfa7b"
      },
      "execution_count": null,
      "outputs": [
        {
          "output_type": "execute_result",
          "data": {
            "text/plain": [
              "array([25, 45, 37, 19], dtype=int32)"
            ]
          },
          "metadata": {},
          "execution_count": 10
        }
      ]
    },
    {
      "cell_type": "markdown",
      "source": [
        "Если представить данные как массив записей, то можно обращаться к ним с более короткого синтаксиса"
      ],
      "metadata": {
        "id": "JAiTjeb-Y__e"
      }
    },
    {
      "cell_type": "code",
      "source": [
        "data_rec = data.view(np.recarray) \n",
        "data_rec.age"
      ],
      "metadata": {
        "colab": {
          "base_uri": "https://localhost:8080/"
        },
        "id": "WP6vV7dIYepc",
        "outputId": "69325020-e71d-4603-dc80-8d5a3debeb62"
      },
      "execution_count": null,
      "outputs": [
        {
          "output_type": "execute_result",
          "data": {
            "text/plain": [
              "array([25, 45, 37, 19], dtype=int32)"
            ]
          },
          "metadata": {},
          "execution_count": 11
        }
      ]
    },
    {
      "cell_type": "markdown",
      "source": [
        "###8.4 Переход к Pandas\n",
        "Pandas — более новый пакет, надстройка над библиотекой NumPy, обеспечивающий эффективную реализацию класса `DataFrame`. Объекты `DataFrame` — многомерные массивы с метками для строк и столбцов, а также зачастую с неоднородным типом данных и/или пропущенными данными. Помимо удобного интерфейса для хранения маркированных данных, библиотека Pandas реализует множество операций для работы с данными хорошо знакомых пользователям фреймворков баз данных и электронных таблиц."
      ],
      "metadata": {
        "id": "4uSCSCJbFygO"
      }
    },
    {
      "cell_type": "markdown",
      "metadata": {
        "id": "-LFhEMgWtzxD"
      },
      "source": [
        "##9. Сохранить и загрузить объекты NumPy.\n",
        "NumPy позволяет сохранять на диск и загружать с диска в текстовые или двоичные файлы.\n",
        "\n",
        "\n",
        "\n"
      ]
    },
    {
      "cell_type": "markdown",
      "source": [
        "###9.1 Сохранить и загрузить объекты NumPy.\n",
        "\n",
        "*   `np.save()` - сохранить NumPy массива в файл. Массивы сохраняются по умолчанию в несжатый двоичный формате с расширением файла .npy\n",
        "*   `np.load()` - загрузить NumPy массива из файла\n",
        "*   `np.savez()` - сохранить несколько массивов в один несжатый файл\n",
        "*   `np.savez_compressed()` - сохранить NumPy массива в сжатом виде в файл.\n",
        "\n",
        "\n",
        "\n"
      ],
      "metadata": {
        "id": "vr88TIlj-mrw"
      }
    },
    {
      "cell_type": "code",
      "source": [
        "import numpy as np\n",
        "arr = np.arange(10)\n",
        "np.save('some_array', arr) # В пути к файлу не указывается разширение, оно добавляется по умолчанию."
      ],
      "metadata": {
        "id": "78Hi8xUb4GmC"
      },
      "execution_count": null,
      "outputs": []
    },
    {
      "cell_type": "code",
      "source": [
        "np.load('some_array.npy')"
      ],
      "metadata": {
        "colab": {
          "base_uri": "https://localhost:8080/"
        },
        "id": "aQP9B5djEJQY",
        "outputId": "22929907-28ee-4bed-ada5-59184e40a7bd"
      },
      "execution_count": null,
      "outputs": [
        {
          "output_type": "execute_result",
          "data": {
            "text/plain": [
              "array([0, 1, 2, 3, 4, 5, 6, 7, 8, 9])"
            ]
          },
          "metadata": {},
          "execution_count": 5
        }
      ]
    },
    {
      "cell_type": "code",
      "source": [
        "arr2 = np.arange(8)\n",
        "np.savez('array_archive.npz', arr, arr2)"
      ],
      "metadata": {
        "id": "QmNFT9NnEo9l"
      },
      "execution_count": null,
      "outputs": []
    },
    {
      "cell_type": "code",
      "source": [
        "arch = np.load('array_archive.npz') # При загрузке файла .npz возвращается объект типа словаря, который содержит отдельные массивы\n",
        "arch['arr_1']"
      ],
      "metadata": {
        "colab": {
          "base_uri": "https://localhost:8080/"
        },
        "id": "9dntRtQ-E-DY",
        "outputId": "04414cea-69e5-450b-9d94-3a89504ab216"
      },
      "execution_count": null,
      "outputs": [
        {
          "output_type": "execute_result",
          "data": {
            "text/plain": [
              "array([0, 1, 2, 3, 4, 5, 6, 7])"
            ]
          },
          "metadata": {},
          "execution_count": 11
        }
      ]
    },
    {
      "cell_type": "code",
      "source": [
        "for item in arch.keys(): # выведем все ключи которые установились по умолчанию\n",
        "  print(item)"
      ],
      "metadata": {
        "colab": {
          "base_uri": "https://localhost:8080/"
        },
        "id": "yvfFXZnrF3AF",
        "outputId": "475e8bbd-6954-4fac-ae92-090993cf3822"
      },
      "execution_count": null,
      "outputs": [
        {
          "output_type": "stream",
          "name": "stdout",
          "text": [
            "arr_0\n",
            "arr_1\n"
          ]
        }
      ]
    },
    {
      "cell_type": "markdown",
      "source": [
        "### **Практическое задание:**\n",
        "\n",
        "\n",
        "1.   Создайте два массива случайный целых чисел размерностью (5,6) и (5,4)\n",
        "1.   Сохраниет первый массив в файл\n",
        "2.   Сохраните первый и второй массивы в один файл\n",
        "2.   Загрузите первый массив, выведите его печать, умножьте на 5 и снова сохраните\n",
        "1.   Загрузите из файла ранее сохраненные первый и второй массивы, обратитесь к ним и выведите на печать "
      ],
      "metadata": {
        "id": "Ldbi7q_BGU2h"
      }
    },
    {
      "cell_type": "code",
      "source": [
        "import numpy as np\n"
      ],
      "metadata": {
        "id": "aRBPuaTcwnAt"
      },
      "execution_count": null,
      "outputs": []
    },
    {
      "cell_type": "code",
      "source": [
        "rand = np.random.RandomState(111)\n",
        "a1 = rand.randint(0,100, (5, 6))\n",
        "a2 = rand.randint(0,100, (5, 4))\n",
        "\n",
        "print(a1,'\\n',a2,'\\n---')\n",
        "\n",
        "np.save('/content/drive/MyDrive/My_Data/a1_file', a1)\n",
        "np.savez('/content/drive/MyDrive/My_Data/a1_a2_files.npz', a1, a2)\n",
        "a11=np.load('/content/drive/MyDrive/My_Data/a1_file.npy')\n",
        "print (a11,'\\n---')\n",
        "np.save('/content/drive/MyDrive/My_Data/a15_file', a11*5)\n",
        "a12=np.load('/content/drive/MyDrive/My_Data/a1_a2_files.npz')\n",
        "print (a12.keys())\n",
        "print (a12['arr_0'],'\\n',a12['arr_1'])"
      ],
      "metadata": {
        "colab": {
          "base_uri": "https://localhost:8080/"
        },
        "id": "cOSYu3A6wzIj",
        "outputId": "805d5147-ead0-4f8b-cc78-6f61b2b01f1a"
      },
      "execution_count": null,
      "outputs": [
        {
          "output_type": "stream",
          "name": "stdout",
          "text": [
            "[[84 84 84 86 19 41]\n",
            " [66 82 40 71 57  7]\n",
            " [12 10 65 88 28 14]\n",
            " [34 21 54 72 37 76]\n",
            " [58 12 45 69 78 31]] \n",
            " [[88 70 13 50]\n",
            " [86 68 99 29]\n",
            " [ 9 42 19 97]\n",
            " [38 59 88  4]\n",
            " [17 74 11 49]] \n",
            "---\n",
            "[[84 84 84 86 19 41]\n",
            " [66 82 40 71 57  7]\n",
            " [12 10 65 88 28 14]\n",
            " [34 21 54 72 37 76]\n",
            " [58 12 45 69 78 31]] \n",
            "---\n",
            "KeysView(<numpy.lib.npyio.NpzFile object at 0x7f7ee55bb8b0>)\n",
            "[[84 84 84 86 19 41]\n",
            " [66 82 40 71 57  7]\n",
            " [12 10 65 88 28 14]\n",
            " [34 21 54 72 37 76]\n",
            " [58 12 45 69 78 31]] \n",
            " [[88 70 13 50]\n",
            " [86 68 99 29]\n",
            " [ 9 42 19 97]\n",
            " [38 59 88  4]\n",
            " [17 74 11 49]]\n"
          ]
        }
      ]
    },
    {
      "cell_type": "code",
      "source": [
        "from google.colab import drive\n",
        "drive.mount('/content/drive')\n",
        "# '/content/drive/MyDrive/My_Data'"
      ],
      "metadata": {
        "colab": {
          "base_uri": "https://localhost:8080/"
        },
        "id": "DOOTdotRyOIL",
        "outputId": "32096089-0166-4f9d-f68f-21f476243a6c"
      },
      "execution_count": null,
      "outputs": [
        {
          "output_type": "stream",
          "name": "stdout",
          "text": [
            "Mounted at /content/drive\n"
          ]
        }
      ]
    },
    {
      "cell_type": "markdown",
      "source": [
        "###9.2 Импорт и экспорт CSV"
      ],
      "metadata": {
        "id": "0Cpks8UL95nn"
      }
    },
    {
      "cell_type": "code",
      "source": [
        "a = np.asarray([ [1,2,3], [4,5,6], [7,8,9] ])\n",
        "np.savetxt(\"foo.csv\", a, fmt=\"%d\", delimiter=\",\") # если не указать параметр fmt, то будет хранить данные в экспоненциальном формате с плавающей запятой в виде"
      ],
      "metadata": {
        "id": "OBOhBO1QHsE4"
      },
      "execution_count": null,
      "outputs": []
    },
    {
      "cell_type": "code",
      "source": [
        "np.loadtxt(\"foo.csv\", delimiter=\",\") # загрузка массива из CSV файла"
      ],
      "metadata": {
        "colab": {
          "base_uri": "https://localhost:8080/"
        },
        "id": "QOzzThR_MH-1",
        "outputId": "5ffa2042-9f01-404d-d1a8-55b8f49a6ed6"
      },
      "execution_count": null,
      "outputs": [
        {
          "output_type": "execute_result",
          "data": {
            "text/plain": [
              "array([[1., 2., 3.],\n",
              "       [4., 5., 6.],\n",
              "       [7., 8., 9.]])"
            ]
          },
          "metadata": {},
          "execution_count": 16
        }
      ]
    },
    {
      "cell_type": "markdown",
      "source": [
        "### **Практическое задание:**\n",
        "\n",
        "\n",
        "1.   Напишите функцию `decorate_matrix`, которая получает на вход одно целое число больше единицы. Функция должна возвращать матрицу N × N , у которой на границах стоят единицы, а на всех остальных позициях(если остались позиции не на границах) стоят нули.\n",
        "1.   Сохраниет массив в файл в CSV-формат\n",
        "2.   Загрузите массив, выведите его печать"
      ],
      "metadata": {
        "id": "sP_pgfLwHuu4"
      }
    },
    {
      "cell_type": "code",
      "source": [
        "def decorate_matrix(n):\n",
        "  a=np.zeros(n*n, dtype=int).reshape(n,n)\n",
        "  a[0]=1\n",
        "  a[-1]=1\n",
        "  a[:,0]=1\n",
        "  a[:,-1]=1\n",
        "  #a.T[0]=1\n",
        "  #a.T[n-1]=1\n",
        "  return a\n",
        "\n",
        "np.savetxt(\"too.csv\", decorate_matrix(7), fmt=\"%d\", delimiter=\";\")\n",
        "a=np.loadtxt(\"too.csv\", delimiter=\";\")\n",
        "\n",
        "print (a)\n"
      ],
      "metadata": {
        "colab": {
          "base_uri": "https://localhost:8080/"
        },
        "id": "tdOzgMyw6b9n",
        "outputId": "1cf0f0f3-ef1c-4f5e-a6eb-9f93904b9e10"
      },
      "execution_count": null,
      "outputs": [
        {
          "output_type": "stream",
          "name": "stdout",
          "text": [
            "[[1. 1. 1. 1. 1. 1. 1.]\n",
            " [1. 0. 0. 0. 0. 0. 1.]\n",
            " [1. 0. 0. 0. 0. 0. 1.]\n",
            " [1. 0. 0. 0. 0. 0. 1.]\n",
            " [1. 0. 0. 0. 0. 0. 1.]\n",
            " [1. 0. 0. 0. 0. 0. 1.]\n",
            " [1. 1. 1. 1. 1. 1. 1.]]\n"
          ]
        }
      ]
    }
  ]
}